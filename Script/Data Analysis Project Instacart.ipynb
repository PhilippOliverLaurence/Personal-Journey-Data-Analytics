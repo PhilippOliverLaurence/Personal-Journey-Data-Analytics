{
 "cells": [
  {
   "cell_type": "markdown",
   "id": "fc2e7e0c",
   "metadata": {},
   "source": [
    "# Instacart Grocery Basket Analysis"
   ]
  },
  {
   "cell_type": "markdown",
   "id": "36ded155",
   "metadata": {},
   "source": [
    "# Table of Contant:\n",
    "- 1.Task 4.10:\n",
    "    - Question 2 till 5\n",
    "- 2.Key Question Project Brief Nr.4\n",
    "    - Question 1 till 5"
   ]
  },
  {
   "cell_type": "code",
   "execution_count": 1,
   "id": "7e918b5f",
   "metadata": {},
   "outputs": [],
   "source": [
    "#Importing all the important scripts fro analytics and visualisations\n",
    "import pandas as pd\n",
    "import numpy as np\n",
    "import os\n",
    "import matplotlib.pyplot as plt\n",
    "import seaborn as sns\n",
    "import scipy"
   ]
  },
  {
   "cell_type": "code",
   "execution_count": 2,
   "id": "a00c21b1",
   "metadata": {},
   "outputs": [],
   "source": [
    "#This is the path where we will store the graphics\n",
    "path='/Users/pgtips/Desktop/Instacart Basket Analysis/05 Sent to Clint/Visualisations'"
   ]
  },
  {
   "cell_type": "code",
   "execution_count": 3,
   "id": "7694d554",
   "metadata": {},
   "outputs": [],
   "source": [
    "#Importing the latest df from task 4.9\n",
    "df=pd.read_pickle(r'/Users/pgtips/Desktop/Instacart Basket Analysis/05 Sent to Clint/Data/Prepared Data/df.pkl')"
   ]
  },
  {
   "cell_type": "code",
   "execution_count": 4,
   "id": "c1980d5f",
   "metadata": {},
   "outputs": [],
   "source": [
    "df_high_activity=pd.read_pickle(r'/Users/pgtips/Desktop/Instacart Basket Analysis/05 Sent to Clint/Data/Prepared Data/df_high_activity.pkl')"
   ]
  },
  {
   "cell_type": "code",
   "execution_count": 4,
   "id": "563ee758",
   "metadata": {
    "scrolled": true
   },
   "outputs": [
    {
     "data": {
      "text/html": [
       "<div>\n",
       "<style scoped>\n",
       "    .dataframe tbody tr th:only-of-type {\n",
       "        vertical-align: middle;\n",
       "    }\n",
       "\n",
       "    .dataframe tbody tr th {\n",
       "        vertical-align: top;\n",
       "    }\n",
       "\n",
       "    .dataframe thead th {\n",
       "        text-align: right;\n",
       "    }\n",
       "</style>\n",
       "<table border=\"1\" class=\"dataframe\">\n",
       "  <thead>\n",
       "    <tr style=\"text-align: right;\">\n",
       "      <th></th>\n",
       "      <th>order_id</th>\n",
       "      <th>product_id</th>\n",
       "      <th>add_to_cart_order</th>\n",
       "      <th>reordered</th>\n",
       "      <th>user_id</th>\n",
       "      <th>order_number</th>\n",
       "      <th>orders_day_of_week</th>\n",
       "      <th>order_hour_of_day</th>\n",
       "      <th>days_since_prior_order</th>\n",
       "      <th>product_name</th>\n",
       "      <th>aisle_id</th>\n",
       "      <th>department_id</th>\n",
       "      <th>prices</th>\n",
       "      <th>Gender</th>\n",
       "      <th>State</th>\n",
       "      <th>Age</th>\n",
       "      <th>date_joined</th>\n",
       "      <th>n_dependants</th>\n",
       "      <th>fam_status</th>\n",
       "      <th>income</th>\n",
       "      <th>price_range_loc</th>\n",
       "      <th>busy_days</th>\n",
       "      <th>busy_hours</th>\n",
       "      <th>max_order</th>\n",
       "      <th>loyalty_flag</th>\n",
       "      <th>aver_price</th>\n",
       "      <th>spending_flag</th>\n",
       "      <th>median_prior_order</th>\n",
       "      <th>freq_customer</th>\n",
       "      <th>generation</th>\n",
       "      <th>Region</th>\n",
       "      <th>activity</th>\n",
       "      <th>department_name</th>\n",
       "      <th>household_type</th>\n",
       "      <th>orders_day_of_week_name</th>\n",
       "    </tr>\n",
       "  </thead>\n",
       "  <tbody>\n",
       "    <tr>\n",
       "      <th>0</th>\n",
       "      <td>2</td>\n",
       "      <td>33120</td>\n",
       "      <td>1</td>\n",
       "      <td>1</td>\n",
       "      <td>202279</td>\n",
       "      <td>3</td>\n",
       "      <td>5</td>\n",
       "      <td>9</td>\n",
       "      <td>8.0</td>\n",
       "      <td>Organic Egg Whites</td>\n",
       "      <td>86</td>\n",
       "      <td>16</td>\n",
       "      <td>11.3</td>\n",
       "      <td>Male</td>\n",
       "      <td>Idaho</td>\n",
       "      <td>57</td>\n",
       "      <td>2/6/2020</td>\n",
       "      <td>3</td>\n",
       "      <td>married</td>\n",
       "      <td>98119</td>\n",
       "      <td>Mid-range product</td>\n",
       "      <td>regular day</td>\n",
       "      <td>Most orders</td>\n",
       "      <td>8</td>\n",
       "      <td>New customer</td>\n",
       "      <td>8.618889</td>\n",
       "      <td>low spender</td>\n",
       "      <td>24.0</td>\n",
       "      <td>Non-frequent customer</td>\n",
       "      <td>Gen X (42-57)</td>\n",
       "      <td>West</td>\n",
       "      <td>low activity</td>\n",
       "      <td>dairy eggs</td>\n",
       "      <td>family</td>\n",
       "      <td>Thursday</td>\n",
       "    </tr>\n",
       "  </tbody>\n",
       "</table>\n",
       "</div>"
      ],
      "text/plain": [
       "   order_id  product_id  add_to_cart_order  reordered  user_id  order_number  \\\n",
       "0         2       33120                  1          1   202279             3   \n",
       "\n",
       "   orders_day_of_week  order_hour_of_day  days_since_prior_order  \\\n",
       "0                   5                  9                     8.0   \n",
       "\n",
       "         product_name  aisle_id  department_id  prices Gender  State  Age  \\\n",
       "0  Organic Egg Whites        86             16    11.3   Male  Idaho   57   \n",
       "\n",
       "  date_joined  n_dependants fam_status  income    price_range_loc  \\\n",
       "0    2/6/2020             3    married   98119  Mid-range product   \n",
       "\n",
       "     busy_days   busy_hours  max_order  loyalty_flag  aver_price  \\\n",
       "0  regular day  Most orders          8  New customer    8.618889   \n",
       "\n",
       "  spending_flag  median_prior_order          freq_customer     generation  \\\n",
       "0   low spender                24.0  Non-frequent customer  Gen X (42-57)   \n",
       "\n",
       "  Region      activity department_name household_type orders_day_of_week_name  \n",
       "0   West  low activity      dairy eggs         family                Thursday  "
      ]
     },
     "execution_count": 4,
     "metadata": {},
     "output_type": "execute_result"
    }
   ],
   "source": [
    "#This line of code help us change the settings in order to see all columns with .head()\n",
    "pd.set_option('display.max_columns', None)\n",
    "df.head(1)"
   ]
  },
  {
   "cell_type": "markdown",
   "id": "eb50e04e",
   "metadata": {},
   "source": [
    "## Task 4.10 Question 2:\n",
    "Consider any security implications that might exist for this new data. You’ll need to address any PII data in the data before continuing your analysis."
   ]
  },
  {
   "cell_type": "markdown",
   "id": "7a508a59",
   "metadata": {},
   "source": [
    "### Answer:\n",
    "The customer data contain critical information regarding security and data ethics. Since the data set now contains the Name and Surname of the customers. These information are not relevant for our analytics and the user_id is enough for our task. Furthermore these information should never been part of a data set, especially when there are information regarding income, family and the amount spend per person. Therefore we will delete these infromations since these are against ethic and law!"
   ]
  },
  {
   "cell_type": "markdown",
   "id": "5694c6ae",
   "metadata": {},
   "source": [
    "## Task 4.10 Question 3:\n",
    "The Instacart officers are interested in comparing customer behavior in different geographic areas. Create a regional segmentation of the data. You’ll need to create a “Region” column based on the “State” column from your customers data set.\n",
    "a.)Use the region information in this Wikipedia article to create your column (you only need to create regions, not divisions).\n",
    "b.)Determine whether there’s a difference in spending habits between the different U.S. regions. (Hint: You can do this by crossing the variable you just created with the spending flag.)"
   ]
  },
  {
   "cell_type": "code",
   "execution_count": 15,
   "id": "64ed6963",
   "metadata": {},
   "outputs": [],
   "source": [
    "# We created a logical function that reads the string in State and \n",
    "#based on the findings seperate the states into geographical regions\n",
    "\n",
    "#Northeast regions\n",
    "df.loc[df['State'].str.contains('Connecticut'), 'Region'] = 'Northeast'\n",
    "df.loc[df['State'].str.contains('Maine'), 'Region'] = 'Northeast'\n",
    "df.loc[df['State'].str.contains('Massachusetts'), 'Region'] = 'Northeast'\n",
    "df.loc[df['State'].str.contains('New Hampshire'), 'Region'] = 'Northeast'\n",
    "df.loc[df['State'].str.contains('Rhode Island'), 'Region'] = 'Northeast'\n",
    "df.loc[df['State'].str.contains('Vermont'), 'Region'] = 'Northeast'\n",
    "df.loc[df['State'].str.contains('New Jersey'), 'Region'] = 'Northeast'\n",
    "df.loc[df['State'].str.contains('New York'), 'Region'] = 'Northeast'\n",
    "df.loc[df['State'].str.contains('Pennsylvania'), 'Region'] = 'Northeast'\n",
    "\n",
    "# Midwest\n",
    "df.loc[df['State'].str.contains('Illinois'), 'Region'] = 'Midwest'\n",
    "df.loc[df['State'].str.contains('Indiana'), 'Region'] = 'Midwest'\n",
    "df.loc[df['State'].str.contains('Michigan'), 'Region'] = 'Midwest'\n",
    "df.loc[df['State'].str.contains('Ohio'), 'Region'] = 'Midwest'\n",
    "df.loc[df['State'].str.contains('Wisconsin'), 'Region'] = 'Midwest'\n",
    "df.loc[df['State'].str.contains('Iowa'), 'Region'] = 'Midwest'\n",
    "df.loc[df['State'].str.contains('Kansas'), 'Region'] = 'Midwest'\n",
    "df.loc[df['State'].str.contains('Minnesota'), 'Region'] = 'Midwest'\n",
    "df.loc[df['State'].str.contains('Missouri'), 'Region'] = 'Midwest'\n",
    "df.loc[df['State'].str.contains('Nebraska'), 'Region'] = 'Midwest'\n",
    "df.loc[df['State'].str.contains('North Dakota'), 'Region'] = 'Midwest'\n",
    "df.loc[df['State'].str.contains('South Dakota'), 'Region'] = 'Midwest'\n",
    "\n",
    "# South\n",
    "df.loc[df['State'].str.contains('Delaware'), 'Region'] = 'South'\n",
    "df.loc[df['State'].str.contains('Florida'), 'Region'] = 'South'\n",
    "df.loc[df['State'].str.contains('Georgia'), 'Region'] = 'South'\n",
    "df.loc[df['State'].str.contains('Maryland'), 'Region'] = 'South'\n",
    "df.loc[df['State'].str.contains('North Carolina'), 'Region'] = 'South'\n",
    "df.loc[df['State'].str.contains('South Carolina'), 'Region'] = 'South'\n",
    "df.loc[df['State'].str.contains('Virginia'), 'Region'] = 'South'\n",
    "df.loc[df['State'].str.contains('Washington, D.C.'), 'Region'] = 'South'\n",
    "df.loc[df['State'].str.contains('West Virgina'), 'Region'] = 'South'\n",
    "df.loc[df['State'].str.contains('Alabama'), 'Region'] = 'South'\n",
    "df.loc[df['State'].str.contains('Kentucky'), 'Region'] = 'South'\n",
    "df.loc[df['State'].str.contains('Mississippi'), 'Region'] = 'South'\n",
    "df.loc[df['State'].str.contains('Tennessee'), 'Region'] = 'South'\n",
    "df.loc[df['State'].str.contains('Arkansas'), 'Region'] = 'South'\n",
    "df.loc[df['State'].str.contains('Louisiana'), 'Region'] = 'South'\n",
    "df.loc[df['State'].str.contains('Oklahoma'), 'Region'] = 'South'\n",
    "df.loc[df['State'].str.contains('Texas'), 'Region'] = 'South'\n",
    "\n",
    "# West\n",
    "df.loc[df['State'].str.contains('Arizona'), 'Region'] = 'West'\n",
    "df.loc[df['State'].str.contains('Colorado'), 'Region'] = 'West'\n",
    "df.loc[df['State'].str.contains('Idaho'), 'Region'] = 'West'\n",
    "df.loc[df['State'].str.contains('Montana'), 'Region'] = 'West'\n",
    "df.loc[df['State'].str.contains('Nevada'), 'Region'] = 'West'\n",
    "df.loc[df['State'].str.contains('New Mexico'), 'Region'] = 'West'\n",
    "df.loc[df['State'].str.contains('Utah'), 'Region'] = 'West'\n",
    "df.loc[df['State'].str.contains('Wyoming'), 'Region'] = 'West'\n",
    "df.loc[df['State'].str.contains('Alaska'), 'Region'] = 'West'\n",
    "df.loc[df['State'].str.contains('California'), 'Region'] = 'West'\n",
    "df.loc[df['State'].str.contains('Hawaii'), 'Region'] = 'West'\n",
    "df.loc[df['State'].str.contains('Oregon'), 'Region'] = 'West'\n",
    "df.loc[df['State'].str.contains('Washington'), 'Region'] = 'West'\n"
   ]
  },
  {
   "cell_type": "code",
   "execution_count": 19,
   "id": "20ecbc18",
   "metadata": {
    "scrolled": false
   },
   "outputs": [
    {
     "data": {
      "text/plain": [
       "South                   10178586\n",
       "West                     8293217\n",
       "Midwest                  7597585\n",
       "Northeast                5722939\n",
       "District of Columbia      613714\n",
       "Name: Region, dtype: int64"
      ]
     },
     "execution_count": 19,
     "metadata": {},
     "output_type": "execute_result"
    }
   ],
   "source": [
    "#With this line we will check if the loc funciton executed properly\n",
    "df['Region'].value_counts(dropna=False)"
   ]
  },
  {
   "cell_type": "code",
   "execution_count": 17,
   "id": "93a486a1",
   "metadata": {},
   "outputs": [],
   "source": [
    "# We forgot to assign District of Columbia\n",
    "df.loc[df['State'].str.contains('District of Columbia'), 'Region'] = 'District of Columbia'"
   ]
  },
  {
   "cell_type": "code",
   "execution_count": 18,
   "id": "a16bcc04",
   "metadata": {},
   "outputs": [],
   "source": [
    "# We create a crosstable to compare regional differences in spending habits. Later on we will look at more regional differences\n",
    "crosstab_regional_spendings = pd.crosstab(df['Region'],df['spending_flag'])"
   ]
  },
  {
   "cell_type": "code",
   "execution_count": 32,
   "id": "5d91988f",
   "metadata": {
    "scrolled": true
   },
   "outputs": [
    {
     "data": {
      "text/html": [
       "<div>\n",
       "<style scoped>\n",
       "    .dataframe tbody tr th:only-of-type {\n",
       "        vertical-align: middle;\n",
       "    }\n",
       "\n",
       "    .dataframe tbody tr th {\n",
       "        vertical-align: top;\n",
       "    }\n",
       "\n",
       "    .dataframe thead th {\n",
       "        text-align: right;\n",
       "    }\n",
       "</style>\n",
       "<table border=\"1\" class=\"dataframe\">\n",
       "  <thead>\n",
       "    <tr style=\"text-align: right;\">\n",
       "      <th>spending_flag</th>\n",
       "      <th>high spender</th>\n",
       "      <th>low spender</th>\n",
       "    </tr>\n",
       "    <tr>\n",
       "      <th>Region</th>\n",
       "      <th></th>\n",
       "      <th></th>\n",
       "    </tr>\n",
       "  </thead>\n",
       "  <tbody>\n",
       "    <tr>\n",
       "      <th>District of Columbia</th>\n",
       "      <td>12673</td>\n",
       "      <td>601041</td>\n",
       "    </tr>\n",
       "    <tr>\n",
       "      <th>Midwest</th>\n",
       "      <td>155979</td>\n",
       "      <td>7441606</td>\n",
       "    </tr>\n",
       "    <tr>\n",
       "      <th>Northeast</th>\n",
       "      <td>108226</td>\n",
       "      <td>5614713</td>\n",
       "    </tr>\n",
       "    <tr>\n",
       "      <th>South</th>\n",
       "      <td>197020</td>\n",
       "      <td>9981566</td>\n",
       "    </tr>\n",
       "    <tr>\n",
       "      <th>West</th>\n",
       "      <td>160354</td>\n",
       "      <td>8132863</td>\n",
       "    </tr>\n",
       "  </tbody>\n",
       "</table>\n",
       "</div>"
      ],
      "text/plain": [
       "spending_flag         high spender  low spender\n",
       "Region                                         \n",
       "District of Columbia         12673       601041\n",
       "Midwest                     155979      7441606\n",
       "Northeast                   108226      5614713\n",
       "South                       197020      9981566\n",
       "West                        160354      8132863"
      ]
     },
     "execution_count": 32,
     "metadata": {},
     "output_type": "execute_result"
    }
   ],
   "source": [
    "crosstab_regional_spendings"
   ]
  },
  {
   "cell_type": "markdown",
   "id": "1b401de1",
   "metadata": {},
   "source": [
    "## Task 4.10 Question 4\n",
    "The Instacart CFO isn’t interested in customers who don’t generate much revenue for the app. Create an exclusion flag for low-activity customers (customers with less than 5 orders) and exclude them from the data. Make sure you export this sample"
   ]
  },
  {
   "cell_type": "code",
   "execution_count": 94,
   "id": "b59dec00",
   "metadata": {
    "scrolled": false
   },
   "outputs": [],
   "source": [
    "# First we will create a total_amounts_of_number columns in order to ensure that loyal customers that might have been purchasing on 3 products once are not excluded from our df \n",
    "df['total_amount_of_number']=df.groupby('user_id').agg({'order_number':['sum']})"
   ]
  },
  {
   "cell_type": "code",
   "execution_count": 6,
   "id": "25ce1f82",
   "metadata": {},
   "outputs": [],
   "source": [
    "# With the loc function we will assign flags (high vs low activity) based on the the amount of products they purchase\n",
    "df.loc[df['total_amount_of_number']<5, 'activity'] = 'low activity'\n",
    "df.loc[df['total_amount_of_number']>= 5, 'activity'] = 'high activity'"
   ]
  },
  {
   "cell_type": "code",
   "execution_count": 8,
   "id": "26460ba2",
   "metadata": {},
   "outputs": [
    {
     "data": {
      "text/plain": [
       "high activity    23526063\n",
       "low activity      7895670\n",
       "Name: activity, dtype: int64"
      ]
     },
     "execution_count": 8,
     "metadata": {},
     "output_type": "execute_result"
    }
   ],
   "source": [
    "# We checking for missing values and have a look on the amount of high and low activity customers we have\n",
    "df['activity'].value_counts(dropna=False)"
   ]
  },
  {
   "cell_type": "code",
   "execution_count": 17,
   "id": "9d3f6159",
   "metadata": {},
   "outputs": [],
   "source": [
    "# Now we will split the two df into two so that we can proceed with the high activity customers\n",
    "df_low_activity, df_high_activity = [x for _, x in df.groupby(df['activity'] == 'high activity')]"
   ]
  },
  {
   "cell_type": "code",
   "execution_count": 8,
   "id": "f2584316",
   "metadata": {},
   "outputs": [
    {
     "data": {
      "text/plain": [
       "(7895670, 36)"
      ]
     },
     "execution_count": 8,
     "metadata": {},
     "output_type": "execute_result"
    }
   ],
   "source": [
    "#Cheching if the observation match low activity      7895670\n",
    "df_low_activity.shape"
   ]
  },
  {
   "cell_type": "code",
   "execution_count": 9,
   "id": "032a5ffe",
   "metadata": {},
   "outputs": [
    {
     "data": {
      "text/plain": [
       "(23526063, 36)"
      ]
     },
     "execution_count": 9,
     "metadata": {},
     "output_type": "execute_result"
    }
   ],
   "source": [
    "#Cheching if the observation match high activity    23526063\n",
    "df_high_activity.shape"
   ]
  },
  {
   "cell_type": "code",
   "execution_count": 18,
   "id": "6f2dfb6b",
   "metadata": {},
   "outputs": [],
   "source": [
    "#Saving the df into project file folder Data/Prepared\n",
    "df_high_activity.to_pickle(r'/Users/pgtips/Desktop/Instacart Basket Analysis/05 Sent to Clint/Data/Prepared Data/df_high_activity.pkl')\n",
    "df_low_activity.to_pickle(r'/Users/pgtips/Desktop/Instacart Basket Analysis/05 Sent to Clint/Data/Prepared Data/df_low_activity.pkl')"
   ]
  },
  {
   "cell_type": "markdown",
   "id": "bcdabb80",
   "metadata": {},
   "source": [
    "## Task 4.10 Question 5\n",
    "The marketing and business strategy units at Instacart want to create more-relevant marketing strategies for different products and are, thus, curious about customer profiling in their database. Create a profiling variable based on age, income, certain goods in the “department_id” column, and number of dependents. You might also use the “orders_day_of_the_week” and “order_hour_of_day” columns if you can think of a way they would impact customer profiles. (Hint: As an example, try thinking of what characteristics would lead you to the profile “Single adult” or “Young parent.”)"
   ]
  },
  {
   "cell_type": "markdown",
   "id": "c0e5726d",
   "metadata": {},
   "source": [
    "### Profiling Variables:\n",
    "- Age\n",
    "- Income\n",
    "- Number of Dependents\n",
    "- “orders_day_of_the_week” \n",
    "- “order_hour_of_day”"
   ]
  },
  {
   "cell_type": "markdown",
   "id": "5e637382",
   "metadata": {},
   "source": [
    "For the profiling task we will keep using the whole df(high&low activity) because we want the whole df to have additonal columns we will create through out this task (Question 5). \n",
    "When we answer the key question of our project brief we will then only use our high activity customers as requested from the CFO (Question 4)."
   ]
  },
  {
   "cell_type": "markdown",
   "id": "f4c83ea4",
   "metadata": {},
   "source": [
    "### Age Profiling"
   ]
  },
  {
   "cell_type": "code",
   "execution_count": 10,
   "id": "24dd146b",
   "metadata": {},
   "outputs": [],
   "source": [
    "# Based on age we assign a generation type, similar to what we did with region here jsut with an IF-STATEMENT\n",
    "generation = []\n",
    "\n",
    "for value in df['Age']:\n",
    "    if (value >=18) and (value <=25):\n",
    "        generation.append('Gen Z 18-25')\n",
    "    elif (value >=26) and (value <=41):\n",
    "        generation.append('Millennials 26-41')\n",
    "    elif (value >=42) and (value <=57):\n",
    "        generation.append('Gen X 42-57')\n",
    "    elif (value >=58) and (value<=76):\n",
    "        generation.append('Baby Boomers 58-76')\n",
    "    else:\n",
    "        generation.append('Silent Generation >76')"
   ]
  },
  {
   "cell_type": "code",
   "execution_count": 11,
   "id": "408f655b",
   "metadata": {},
   "outputs": [],
   "source": [
    "# Create a new column and assign the results of our IF-Statement\n",
    "df['generation'] = generation"
   ]
  },
  {
   "cell_type": "code",
   "execution_count": 12,
   "id": "c20e272e",
   "metadata": {},
   "outputs": [
    {
     "data": {
      "text/plain": [
       "Baby Boomers 58-76       9223655\n",
       "Gen X 42-57              7922526\n",
       "Millennials 26-41        7874357\n",
       "Gen Z 18-25              3935340\n",
       "Silent Generation >76    2465855\n",
       "Name: generation, dtype: int64"
      ]
     },
     "execution_count": 12,
     "metadata": {},
     "output_type": "execute_result"
    }
   ],
   "source": [
    "# First always checking for correct execusion and secondly looking for distribution\n",
    "df['generation'].value_counts(dropna=False)"
   ]
  },
  {
   "cell_type": "markdown",
   "id": "70068def",
   "metadata": {},
   "source": [
    "### Income Classes\n",
    "INCOME GROUP\tINCOME\n",
    "- Low income      Less than $52,200\n",
    "- Middle income\t$52,200 - $156,600\n",
    "- Upper income\tMore than $156,600\n",
    "https://money.usnews.com/money/personal-finance/family-finance/articles/where-do-i-fall-in-the-american-economic-class-system"
   ]
  },
  {
   "cell_type": "code",
   "execution_count": 100,
   "id": "a5615237",
   "metadata": {},
   "outputs": [],
   "source": [
    "# Assigning income classes \n",
    "income = []\n",
    "\n",
    "for value in df['income']:\n",
    "    if (value < 52200):\n",
    "        income.append('low income')\n",
    "    elif (value >=52200) and (value <=156000):\n",
    "        income.append('middle income')\n",
    "    else:\n",
    "        income.append('upper income')"
   ]
  },
  {
   "cell_type": "code",
   "execution_count": 101,
   "id": "ee4cc80d",
   "metadata": {},
   "outputs": [],
   "source": [
    "# Creating new column with income classes\n",
    "df['income_groups'] = income"
   ]
  },
  {
   "cell_type": "code",
   "execution_count": 15,
   "id": "d2715451",
   "metadata": {
    "scrolled": false
   },
   "outputs": [
    {
     "data": {
      "text/plain": [
       "middle income    24904772\n",
       "low income        3859354\n",
       "upper income      2657607\n",
       "Name: income_groups, dtype: int64"
      ]
     },
     "execution_count": 15,
     "metadata": {},
     "output_type": "execute_result"
    }
   ],
   "source": [
    "# Checking for missing values and looking at distribution\n",
    "df['income_groups'].value_counts(dropna=False)"
   ]
  },
  {
   "cell_type": "markdown",
   "id": "28dfe3fd",
   "metadata": {},
   "source": [
    "### Number of dependants"
   ]
  },
  {
   "cell_type": "code",
   "execution_count": 46,
   "id": "20ffb3eb",
   "metadata": {},
   "outputs": [
    {
     "data": {
      "text/plain": [
       "3    7889970\n",
       "1    7844525\n",
       "2    7843719\n",
       "0    7843519\n",
       "Name: n_dependants, dtype: int64"
      ]
     },
     "execution_count": 46,
     "metadata": {},
     "output_type": "execute_result"
    }
   ],
   "source": [
    "df['n_dependants'].value_counts()"
   ]
  },
  {
   "cell_type": "markdown",
   "id": "7e7f0491",
   "metadata": {},
   "source": [
    "Based on the number of dependants we assigned:\n",
    "0 for singles\n",
    "1 for couple\n",
    "2+ for families\n",
    "the script can be found in the df_merged_customers_profiling script"
   ]
  },
  {
   "cell_type": "code",
   "execution_count": 47,
   "id": "1eb39f61",
   "metadata": {
    "scrolled": true
   },
   "outputs": [
    {
     "data": {
      "text/plain": [
       "family    15733689\n",
       "couple     7844525\n",
       "single     7843519\n",
       "Name: household_type, dtype: int64"
      ]
     },
     "execution_count": 47,
     "metadata": {},
     "output_type": "execute_result"
    }
   ],
   "source": [
    "df['household_type'].value_counts()"
   ]
  },
  {
   "cell_type": "code",
   "execution_count": 14,
   "id": "2919d3f3",
   "metadata": {},
   "outputs": [],
   "source": [
    "# Saving new customer profiling columns\n",
    "df.to_pickle(r'/Users/pgtips/Desktop/Instacart Basket Analysis/05 Sent to Clint/Data/Prepared Data/df_cust_prof.pkl')"
   ]
  },
  {
   "cell_type": "markdown",
   "id": "d7ba8520",
   "metadata": {},
   "source": [
    "# Key Questions\n",
    "1. What are the busiest days of the week and hours of the day?\t\n",
    "2. Are there particular times of the day people spend the most money?\t\n",
    "3. Is there a way to use simpler price range groupings to help marketing and sales with their efforts?\t\n",
    "4. Are there certain types of products more popular than others? Which departments have the highest frequency of product orders?\t\n",
    "5. The marketing and sales teams are particularly interested in the different types ofcustomers in their system and how their ordering behaviors differ:\n",
    "- a. What's the distribution among users in regard to their brand loyalty (i.e., how often do they return to Instacart?)\n",
    "- b. Are there differences in ordering habits based on a customer’s loyalty status?\n",
    "- c. Are there differences in ordering habits based on a customer’s region?\n",
    "- d. Is there a connection between age and family status in terms of ordering habits?\n",
    "- e.  What different classifications does the demographic information suggest? Age? \n",
    "    Income? Certain types of goods? Family status?\"\n",
    "- f. What differences can you find in ordering habits of different customer profiles?\n"
   ]
  },
  {
   "cell_type": "code",
   "execution_count": 25,
   "id": "1fb2272e",
   "metadata": {
    "scrolled": false
   },
   "outputs": [
    {
     "data": {
      "text/html": [
       "<div>\n",
       "<style scoped>\n",
       "    .dataframe tbody tr th:only-of-type {\n",
       "        vertical-align: middle;\n",
       "    }\n",
       "\n",
       "    .dataframe tbody tr th {\n",
       "        vertical-align: top;\n",
       "    }\n",
       "\n",
       "    .dataframe thead th {\n",
       "        text-align: right;\n",
       "    }\n",
       "</style>\n",
       "<table border=\"1\" class=\"dataframe\">\n",
       "  <thead>\n",
       "    <tr style=\"text-align: right;\">\n",
       "      <th></th>\n",
       "      <th>order_id</th>\n",
       "      <th>product_id</th>\n",
       "      <th>add_to_cart_order</th>\n",
       "      <th>reordered</th>\n",
       "      <th>user_id</th>\n",
       "      <th>order_number</th>\n",
       "      <th>orders_day_of_week</th>\n",
       "      <th>order_hour_of_day</th>\n",
       "      <th>days_since_prior_order</th>\n",
       "      <th>product_name</th>\n",
       "      <th>aisle_id</th>\n",
       "      <th>department_id</th>\n",
       "      <th>prices</th>\n",
       "      <th>Gender</th>\n",
       "      <th>State</th>\n",
       "      <th>Age</th>\n",
       "      <th>date_joined</th>\n",
       "      <th>n_dependants</th>\n",
       "      <th>fam_status</th>\n",
       "      <th>income</th>\n",
       "      <th>price_range_loc</th>\n",
       "      <th>busy_days</th>\n",
       "      <th>busy_hours</th>\n",
       "      <th>max_order</th>\n",
       "      <th>loyalty_flag</th>\n",
       "      <th>aver_price</th>\n",
       "      <th>spending_flag</th>\n",
       "      <th>median_prior_order</th>\n",
       "      <th>freq_customer</th>\n",
       "      <th>generation</th>\n",
       "      <th>Region</th>\n",
       "      <th>activity</th>\n",
       "      <th>department_name</th>\n",
       "      <th>household_type</th>\n",
       "      <th>orders_day_of_week_name</th>\n",
       "      <th>total_amount_of_number</th>\n",
       "      <th>income_groups</th>\n",
       "    </tr>\n",
       "  </thead>\n",
       "  <tbody>\n",
       "    <tr>\n",
       "      <th>1</th>\n",
       "      <td>104690</td>\n",
       "      <td>33120</td>\n",
       "      <td>2</td>\n",
       "      <td>1</td>\n",
       "      <td>202279</td>\n",
       "      <td>8</td>\n",
       "      <td>6</td>\n",
       "      <td>10</td>\n",
       "      <td>30.0</td>\n",
       "      <td>Organic Egg Whites</td>\n",
       "      <td>86</td>\n",
       "      <td>16</td>\n",
       "      <td>11.3</td>\n",
       "      <td>Male</td>\n",
       "      <td>Idaho</td>\n",
       "      <td>57</td>\n",
       "      <td>2/6/2020</td>\n",
       "      <td>3</td>\n",
       "      <td>married</td>\n",
       "      <td>98119</td>\n",
       "      <td>Mid-range product</td>\n",
       "      <td>regular day</td>\n",
       "      <td>Most orders</td>\n",
       "      <td>8</td>\n",
       "      <td>New customer</td>\n",
       "      <td>8.618889</td>\n",
       "      <td>low spender</td>\n",
       "      <td>24.0</td>\n",
       "      <td>Non-frequent customer</td>\n",
       "      <td>Gen X (42-57)</td>\n",
       "      <td>West</td>\n",
       "      <td>high activity</td>\n",
       "      <td>dairy eggs</td>\n",
       "      <td>family</td>\n",
       "      <td>Friday</td>\n",
       "      <td>343.0</td>\n",
       "      <td>middle income</td>\n",
       "    </tr>\n",
       "  </tbody>\n",
       "</table>\n",
       "</div>"
      ],
      "text/plain": [
       "   order_id  product_id  add_to_cart_order  reordered  user_id  order_number  \\\n",
       "1    104690       33120                  2          1   202279             8   \n",
       "\n",
       "   orders_day_of_week  order_hour_of_day  days_since_prior_order  \\\n",
       "1                   6                 10                    30.0   \n",
       "\n",
       "         product_name  aisle_id  department_id  prices Gender  State  Age  \\\n",
       "1  Organic Egg Whites        86             16    11.3   Male  Idaho   57   \n",
       "\n",
       "  date_joined  n_dependants fam_status  income    price_range_loc  \\\n",
       "1    2/6/2020             3    married   98119  Mid-range product   \n",
       "\n",
       "     busy_days   busy_hours  max_order  loyalty_flag  aver_price  \\\n",
       "1  regular day  Most orders          8  New customer    8.618889   \n",
       "\n",
       "  spending_flag  median_prior_order          freq_customer     generation  \\\n",
       "1   low spender                24.0  Non-frequent customer  Gen X (42-57)   \n",
       "\n",
       "  Region       activity department_name household_type  \\\n",
       "1   West  high activity      dairy eggs         family   \n",
       "\n",
       "  orders_day_of_week_name  total_amount_of_number  income_groups  \n",
       "1                  Friday                   343.0  middle income  "
      ]
     },
     "execution_count": 25,
     "metadata": {},
     "output_type": "execute_result"
    }
   ],
   "source": [
    "# We start with looking at the high activity df as requested by the CFO\n",
    "df_high_activity.head(1)"
   ]
  },
  {
   "cell_type": "markdown",
   "id": "cc294828",
   "metadata": {},
   "source": [
    "## Key Question 1:\n",
    "What are the busiest days of the week and hours of the day?"
   ]
  },
  {
   "cell_type": "markdown",
   "id": "542d1780",
   "metadata": {},
   "source": [
    "### Busiest Days"
   ]
  },
  {
   "cell_type": "code",
   "execution_count": 65,
   "id": "46bcbd72",
   "metadata": {},
   "outputs": [],
   "source": [
    "# First we have to creat a df with variable of interest.\n",
    "busiest_days = df_high_activity.groupby('orders_day_of_week_name').agg({'order_number': ['sum']})"
   ]
  },
  {
   "cell_type": "code",
   "execution_count": 66,
   "id": "80c6c6bd",
   "metadata": {
    "scrolled": false
   },
   "outputs": [
    {
     "data": {
      "image/png": "[encoded data removed]",
      "text/plain": [
       "<Figure size 432x288 with 1 Axes>"
      ]
     },
     "metadata": {
      "needs_background": "light"
     },
     "output_type": "display_data"
    }
   ],
   "source": [
    "#Creating a bar plot to display result\n",
    "busiest_day_bar_order = busiest_days.plot(kind = 'bar', stacked = True,legend=False)\n",
    "plt.xlabel('Days of the Week')\n",
    "plt.ylabel('Total Orders (in 10 Millions)')\n",
    "plt.title(\"Total Orders per Day\")\n",
    "plt.tight_layout()\n",
    "plt.savefig(os.path.join(path,'busiest_day_bar_order.pdf'))"
   ]
  },
  {
   "cell_type": "markdown",
   "id": "f9377545",
   "metadata": {},
   "source": [
    "### Busiest Times"
   ]
  },
  {
   "cell_type": "code",
   "execution_count": 67,
   "id": "c06c2575",
   "metadata": {},
   "outputs": [],
   "source": [
    "# We do the same for time\n",
    "busiest_times = df_high_activity.groupby('order_hour_of_day').agg({'order_number': ['sum']})"
   ]
  },
  {
   "cell_type": "code",
   "execution_count": 68,
   "id": "a15857fc",
   "metadata": {},
   "outputs": [
    {
     "data": {
      "image/png": "[encoded data removed]",
      "text/plain": [
       "<Figure size 432x288 with 1 Axes>"
      ]
     },
     "metadata": {
      "needs_background": "light"
     },
     "output_type": "display_data"
    }
   ],
   "source": [
    "#Creating a bar plot to display result\n",
    "busiest_times_bar = busiest_times.plot(kind = 'bar', stacked = True,legend=False)\n",
    "plt.xlabel('Time of the Day')\n",
    "plt.ylabel('Total Orders (in 10 Millions)')\n",
    "plt.title(\"Total Orders per Hour of a Day\")\n",
    "plt.tight_layout()\n",
    "plt.savefig(os.path.join(path,'busiest_times_bar.pdf'))"
   ]
  },
  {
   "cell_type": "markdown",
   "id": "c5e31b3f",
   "metadata": {},
   "source": [
    "## Answer:\n",
    "- Saturday and Sunday are the busiest days of the week, when it comes to the total amount of orders per day. Most of the people order during the weekends, that means we need more staff during the weekends to finish the orders.\n",
    "- Around 8am till 4pm most orders are being made. At around 10 am we hit the peak, then a slight decreas till 12 and around lunch (1pm) is increase slightly too."
   ]
  },
  {
   "cell_type": "markdown",
   "id": "cd6f97b3",
   "metadata": {},
   "source": [
    "## Key Question 2 \n",
    " Are there particular times of the day people spend the most money?"
   ]
  },
  {
   "cell_type": "code",
   "execution_count": 16,
   "id": "563ba8fa",
   "metadata": {},
   "outputs": [],
   "source": [
    "# First we will creat a column with total amount of money being made during particular business hours\n",
    "df_high_activity['total_sales']= df_high_activity['prices']*df_high_activity['order_number']"
   ]
  },
  {
   "cell_type": "code",
   "execution_count": 70,
   "id": "2fbf2519",
   "metadata": {},
   "outputs": [],
   "source": [
    "# We now have to aggregate the total sales\n",
    "busiest_times_total_sales = df_high_activity.groupby('order_hour_of_day').agg({'total_sales': ['sum']})"
   ]
  },
  {
   "cell_type": "code",
   "execution_count": 71,
   "id": "034a5143",
   "metadata": {},
   "outputs": [
    {
     "data": {
      "image/png": "[encoded data removed]",
      "text/plain": [
       "<Figure size 432x288 with 1 Axes>"
      ]
     },
     "metadata": {
      "needs_background": "light"
     },
     "output_type": "display_data"
    }
   ],
   "source": [
    "busiest_times_total_sales_bar = busiest_times_total_sales.plot(kind = 'bar', stacked = True,legend=False)\n",
    "plt.xlabel('Time of the Day')\n",
    "plt.ylabel('Revenue in US Dollar (in 10 Millions)')\n",
    "plt.title(\"Revenue (prices x order_number) per Hour of a Day\")\n",
    "plt.tight_layout()\n",
    "plt.savefig(os.path.join(path,'busiest_times_bar_Sales.pdf'))"
   ]
  },
  {
   "cell_type": "markdown",
   "id": "350f2a4b",
   "metadata": {},
   "source": [
    "## Answer:\n",
    "- We can see a nearly the same graph which is slightly move to the left hand side. For example we can see in the revenue that at 9 am the most revenue is generated compared to 10 am where most orders are being made."
   ]
  },
  {
   "cell_type": "markdown",
   "id": "d302bc86",
   "metadata": {},
   "source": [
    "## Question 3\n",
    "Is there a way to use simpler price range groupings to help marketing and sales with their efforts?"
   ]
  },
  {
   "cell_type": "code",
   "execution_count": 72,
   "id": "e54be057",
   "metadata": {},
   "outputs": [
    {
     "data": {
      "image/png": "[encoded data removed]",
      "text/plain": [
       "<Figure size 432x288 with 1 Axes>"
      ]
     },
     "metadata": {},
     "output_type": "display_data"
    }
   ],
   "source": [
    "pie=df_high_activity['price_range_loc'].value_counts().plot.pie(legend=False,autopct='%1.1f%%')\n",
    "plt.xlabel('')\n",
    "plt.ylabel('')\n",
    "plt.title(\"Amount of Products (in Procent) per Price Lable\")\n",
    "plt.savefig(os.path.join(path,'pie_price_range.pdf'))"
   ]
  },
  {
   "cell_type": "markdown",
   "id": "d5cf7e92",
   "metadata": {},
   "source": [
    "We can see that most of our inventar (67%) is considered mid-range products. We should try to find better price ranges in order to have more accurate picture. One method we could make us of is using the mean with the standard deviation. Hereby we use the mean as center and add/subtract the std.\n",
    "\n",
    "Possible new Price Ranges:\n",
    "Low-Range = 0 - 4\n",
    "Mid Range = 5 - 12\n",
    "High Range = 12 and above "
   ]
  },
  {
   "cell_type": "code",
   "execution_count": 73,
   "id": "54a60a60",
   "metadata": {
    "scrolled": true
   },
   "outputs": [
    {
     "data": {
      "text/plain": [
       "count    2.352606e+07\n",
       "mean     7.792323e+00\n",
       "std      4.238781e+00\n",
       "min      1.000000e+00\n",
       "25%      4.200000e+00\n",
       "50%      7.400000e+00\n",
       "75%      1.130000e+01\n",
       "max      2.500000e+01\n",
       "Name: prices, dtype: float64"
      ]
     },
     "execution_count": 73,
     "metadata": {},
     "output_type": "execute_result"
    }
   ],
   "source": [
    "# looking at the properties of prices\n",
    "df_high_activity['prices'].describe()"
   ]
  },
  {
   "cell_type": "code",
   "execution_count": 74,
   "id": "02d50b54",
   "metadata": {},
   "outputs": [
    {
     "data": {
      "text/html": [
       "<div>\n",
       "<style scoped>\n",
       "    .dataframe tbody tr th:only-of-type {\n",
       "        vertical-align: middle;\n",
       "    }\n",
       "\n",
       "    .dataframe tbody tr th {\n",
       "        vertical-align: top;\n",
       "    }\n",
       "\n",
       "    .dataframe thead tr th {\n",
       "        text-align: left;\n",
       "    }\n",
       "\n",
       "    .dataframe thead tr:last-of-type th {\n",
       "        text-align: right;\n",
       "    }\n",
       "</style>\n",
       "<table border=\"1\" class=\"dataframe\">\n",
       "  <thead>\n",
       "    <tr>\n",
       "      <th></th>\n",
       "      <th colspan=\"3\" halign=\"left\">prices</th>\n",
       "    </tr>\n",
       "    <tr>\n",
       "      <th></th>\n",
       "      <th>min</th>\n",
       "      <th>max</th>\n",
       "      <th>mean</th>\n",
       "    </tr>\n",
       "    <tr>\n",
       "      <th>price_range_loc</th>\n",
       "      <th></th>\n",
       "      <th></th>\n",
       "      <th></th>\n",
       "    </tr>\n",
       "  </thead>\n",
       "  <tbody>\n",
       "    <tr>\n",
       "      <th>High-range product</th>\n",
       "      <td>15.1</td>\n",
       "      <td>25.0</td>\n",
       "      <td>20.621544</td>\n",
       "    </tr>\n",
       "    <tr>\n",
       "      <th>Low-range product</th>\n",
       "      <td>1.0</td>\n",
       "      <td>5.0</td>\n",
       "      <td>3.023797</td>\n",
       "    </tr>\n",
       "    <tr>\n",
       "      <th>Mid-range product</th>\n",
       "      <td>5.1</td>\n",
       "      <td>15.0</td>\n",
       "      <td>9.759727</td>\n",
       "    </tr>\n",
       "  </tbody>\n",
       "</table>\n",
       "</div>"
      ],
      "text/plain": [
       "                   prices                 \n",
       "                      min   max       mean\n",
       "price_range_loc                           \n",
       "High-range product   15.1  25.0  20.621544\n",
       "Low-range product     1.0   5.0   3.023797\n",
       "Mid-range product     5.1  15.0   9.759727"
      ]
     },
     "execution_count": 74,
     "metadata": {},
     "output_type": "execute_result"
    }
   ],
   "source": [
    "# Here we can see the old price ranges\n",
    "df_high_activity.groupby('price_range_loc').agg({'prices':['min','max','mean']})"
   ]
  },
  {
   "cell_type": "code",
   "execution_count": 49,
   "id": "ae1fd1bc",
   "metadata": {},
   "outputs": [],
   "source": [
    "# Now we will creat a new column with price ranges in order to compare the two charts\n",
    "df_high_activity.loc[df_high_activity['prices'] <= 4, 'Price_Range_New'] = 'low range'\n",
    "df_high_activity.loc[(df_high_activity['prices'] >= 5) & (df['prices'] <= 12), 'Price_Range_New' ] = 'mid range'\n",
    "df_high_activity.loc[df_high_activity['prices'] >= 12, 'Price_Range_New'] = 'high range'"
   ]
  },
  {
   "cell_type": "code",
   "execution_count": 76,
   "id": "166515e2",
   "metadata": {},
   "outputs": [
    {
     "data": {
      "image/png": "[encoded data removed]",
      "text/plain": [
       "<Figure size 432x288 with 1 Axes>"
      ]
     },
     "metadata": {},
     "output_type": "display_data"
    }
   ],
   "source": [
    "pie=df_high_activity['Price_Range_New'].value_counts().plot.pie(legend=False,autopct='%1.1f%%')\n",
    "plt.xlabel('')\n",
    "plt.ylabel('')\n",
    "plt.title(\"Amount of Products (in Procent) per Price Lable\")\n",
    "plt.savefig(os.path.join(path,'pie_price_range_new.pdf'))"
   ]
  },
  {
   "cell_type": "code",
   "execution_count": 77,
   "id": "5aecf810",
   "metadata": {},
   "outputs": [
    {
     "data": {
      "text/html": [
       "<div>\n",
       "<style scoped>\n",
       "    .dataframe tbody tr th:only-of-type {\n",
       "        vertical-align: middle;\n",
       "    }\n",
       "\n",
       "    .dataframe tbody tr th {\n",
       "        vertical-align: top;\n",
       "    }\n",
       "\n",
       "    .dataframe thead tr th {\n",
       "        text-align: left;\n",
       "    }\n",
       "\n",
       "    .dataframe thead tr:last-of-type th {\n",
       "        text-align: right;\n",
       "    }\n",
       "</style>\n",
       "<table border=\"1\" class=\"dataframe\">\n",
       "  <thead>\n",
       "    <tr>\n",
       "      <th></th>\n",
       "      <th colspan=\"3\" halign=\"left\">prices</th>\n",
       "    </tr>\n",
       "    <tr>\n",
       "      <th></th>\n",
       "      <th>min</th>\n",
       "      <th>max</th>\n",
       "      <th>mean</th>\n",
       "    </tr>\n",
       "    <tr>\n",
       "      <th>Price_Range_New</th>\n",
       "      <th></th>\n",
       "      <th></th>\n",
       "      <th></th>\n",
       "    </tr>\n",
       "  </thead>\n",
       "  <tbody>\n",
       "    <tr>\n",
       "      <th>high range</th>\n",
       "      <td>12.0</td>\n",
       "      <td>25.0</td>\n",
       "      <td>13.880511</td>\n",
       "    </tr>\n",
       "    <tr>\n",
       "      <th>low range</th>\n",
       "      <td>1.0</td>\n",
       "      <td>4.0</td>\n",
       "      <td>2.523994</td>\n",
       "    </tr>\n",
       "    <tr>\n",
       "      <th>mid range</th>\n",
       "      <td>5.0</td>\n",
       "      <td>11.9</td>\n",
       "      <td>8.262168</td>\n",
       "    </tr>\n",
       "  </tbody>\n",
       "</table>\n",
       "</div>"
      ],
      "text/plain": [
       "                prices                 \n",
       "                   min   max       mean\n",
       "Price_Range_New                        \n",
       "high range        12.0  25.0  13.880511\n",
       "low range          1.0   4.0   2.523994\n",
       "mid range          5.0  11.9   8.262168"
      ]
     },
     "execution_count": 77,
     "metadata": {},
     "output_type": "execute_result"
    }
   ],
   "source": [
    "df_high_activity.groupby('Price_Range_New').agg({'prices':['min','max','mean']})"
   ]
  },
  {
   "cell_type": "markdown",
   "id": "11471e3d",
   "metadata": {},
   "source": [
    "## Anser\n",
    "With the new prices ranges the low and mid range price when looking at the mean are still very far apart, but what we get with this methode is a normal distribution within the prices ranges. where around the mean are 60 % and the upper and low third are both aroung 20 %."
   ]
  },
  {
   "cell_type": "markdown",
   "id": "5ac4d0bd",
   "metadata": {},
   "source": [
    "## Question 4\n",
    "Are there certain types of products more popular than others? Which departments have the highest frequency of product orders?"
   ]
  },
  {
   "cell_type": "code",
   "execution_count": 78,
   "id": "c24cbc38",
   "metadata": {},
   "outputs": [],
   "source": [
    "# First we create a df with the total amount of orders per product\n",
    "sales_product_order = df_high_activity.groupby('product_name').agg({'order_number':['sum','max','min']})\n",
    "# We then take the result and copie it into excel where we then can filter for the best selling product\n",
    "sales_product_order.to_clipboard()"
   ]
  },
  {
   "cell_type": "markdown",
   "id": "5dce8578",
   "metadata": {},
   "source": [
    "### Result of the excel filtering\n",
    "Banana\t                7070563\t\t\n",
    "Bag of Organic Bananas\t6547502\t\t\n",
    "Organic Strawberries\t3991856\t\t\n",
    "Organic Baby Spinach\t3662914\t\t\n",
    "Organic Hass Avocado\t3542051\t\t\n",
    "Organic Raspberries\t    2501227\t\t\n",
    "Organic Avocado\t        2387737\t\t\n",
    "Large Lemon\t            2377916\t\t\n",
    "Organic Whole Milk\t    2344502\t\t\n",
    "Strawberries\t        2190250\t\t\n",
    "Limes\t                2088283\t\t\n",
    "Organic Yellow Onion\t1876171\t\t\n",
    "Organic Zucchini        1802952\t\t\n",
    "Organic Garlic\t        1710231\t\t\n",
    "Apple Honeycrisp Organic1629920\t"
   ]
  },
  {
   "cell_type": "code",
   "execution_count": 10,
   "id": "10842c35",
   "metadata": {},
   "outputs": [],
   "source": [
    "# These are our Top Selling Products of which we creat a list\n",
    "top15_products = [\n",
    "'Banana',\n",
    "'Bag of Organic Bananas',\n",
    "'Organic Strawberries',\n",
    "'Organic Baby Spinach',\n",
    "'Organic Hass Avocado',\n",
    "'Organic Raspberries',\n",
    "'Organic Avocado',\n",
    "'Large Lemon',\n",
    "'Organic Whole Milk',\n",
    "'Strawberries',\n",
    "'Limes',\n",
    "'Organic Yellow Onion',\n",
    "'Organic Zucchini',\n",
    "'Organic Garlic',\n",
    "'Apple Honeycrisp Organic',\n",
    "]"
   ]
  },
  {
   "cell_type": "code",
   "execution_count": 11,
   "id": "6b1be3fe",
   "metadata": {},
   "outputs": [],
   "source": [
    "# If a product is in the best selling list we then assign best seller\n",
    "top_15 = []\n",
    "for value in df_high_activity['product_name']:\n",
    "    if value in top15_products:\n",
    "        top_15.append('best seller')\n",
    "    else:\n",
    "        top_15.append('normal product')"
   ]
  },
  {
   "cell_type": "code",
   "execution_count": 12,
   "id": "0aa4cc8b",
   "metadata": {},
   "outputs": [],
   "source": [
    "#Here we creat a new column based on the top selling products\n",
    "df_high_activity['top_15_products'] = top_15"
   ]
  },
  {
   "cell_type": "code",
   "execution_count": 13,
   "id": "f3d4abcb",
   "metadata": {},
   "outputs": [
    {
     "data": {
      "text/plain": [
       "normal product    21376110\n",
       "best seller        2149953\n",
       "Name: top_15_products, dtype: int64"
      ]
     },
     "execution_count": 13,
     "metadata": {},
     "output_type": "execute_result"
    }
   ],
   "source": [
    "# Checking if we executed everything right and checking for the distribution\n",
    "df_high_activity['top_15_products'].value_counts(dropna=False)"
   ]
  },
  {
   "cell_type": "code",
   "execution_count": 14,
   "id": "d87689f7",
   "metadata": {},
   "outputs": [],
   "source": [
    "# Here we create a df with only the column top_15_products to easier and fast produce graphics\n",
    "df_top15_prod = df_high_activity[df_high_activity['top_15_products'] == 'best seller']"
   ]
  },
  {
   "cell_type": "code",
   "execution_count": 18,
   "id": "d53daac4",
   "metadata": {
    "scrolled": true
   },
   "outputs": [
    {
     "data": {
      "image/png": "[encoded data removed]",
      "text/plain": [
       "<Figure size 432x288 with 1 Axes>"
      ]
     },
     "metadata": {
      "needs_background": "light"
     },
     "output_type": "display_data"
    }
   ],
   "source": [
    "# Bar Chart with the most frequent products\n",
    "top15_prod = df_top15_prod['product_name'].value_counts().plot.bar()\n",
    "plt.xlabel('Prodcuts')\n",
    "plt.ylabel('Numebr of Sales')\n",
    "plt.title(\"Best Selling Products\")\n",
    "plt.tight_layout() \n",
    "plt.xticks(rotation=90)\n",
    "plt.savefig(os.path.join(path,'Best Selling Products.pdf'))"
   ]
  },
  {
   "cell_type": "code",
   "execution_count": 19,
   "id": "ef1eaed7",
   "metadata": {},
   "outputs": [
    {
     "data": {
      "text/plain": [
       "produce                6969826\n",
       "dairy eggs             3968727\n",
       "snacks                 2106360\n",
       "beverages(non alc.)    1958194\n",
       "frozen                 1576402\n",
       "pantry                 1331006\n",
       "bakery                  849210\n",
       "canned goods            760983\n",
       "deli                    757535\n",
       "dry goods pasta         612328\n",
       "household               516593\n",
       "meat seafool            507822\n",
       "breakfast               505818\n",
       "babies                  322694\n",
       "personal care           316112\n",
       "international           190245\n",
       "alcohol                 100416\n",
       "pets                     69208\n",
       "missing                  54153\n",
       "bulk                     26496\n",
       "other                    25935\n",
       "Name: department_name, dtype: int64"
      ]
     },
     "execution_count": 19,
     "metadata": {},
     "output_type": "execute_result"
    }
   ],
   "source": [
    "df_high_activity['department_name'].value_counts()"
   ]
  },
  {
   "cell_type": "code",
   "execution_count": 22,
   "id": "8b980314",
   "metadata": {},
   "outputs": [
    {
     "data": {
      "image/png": "[encoded data removed]",
      "text/plain": [
       "<Figure size 432x288 with 1 Axes>"
      ]
     },
     "metadata": {
      "needs_background": "light"
     },
     "output_type": "display_data"
    }
   ],
   "source": [
    "# Bar Chart with the most frequent department\n",
    "freq_dep = df_high_activity['department_name'].value_counts().plot.bar(rot=0)\n",
    "plt.xlabel('Deparment')\n",
    "plt.ylabel('Department Frequency (in Million)')\n",
    "plt.title(\"Most Frequent Departments\")\n",
    "plt.tight_layout()\n",
    "plt.xticks(rotation=90)\n",
    "plt.savefig(os.path.join(path,'Most Frequent Departments.pdf'))"
   ]
  },
  {
   "cell_type": "markdown",
   "id": "9e163b72",
   "metadata": {},
   "source": [
    "## Answer\n",
    "The best selling product are organic fruits which count as produce. As we can see in the second chart this with space the most common department with nearly twice in sales then dairy eggs."
   ]
  },
  {
   "cell_type": "markdown",
   "id": "047f378e",
   "metadata": {},
   "source": [
    "## Question 5\n",
    "The marketing and sales teams are particularly interested in the different types ofcustomers in their system and how their ordering behaviors differ:\n",
    "- a. What's the distribution among users in regard to their brand loyalty (i.e., how often do they return to Instacart?)\n",
    "- b. Are there differences in ordering habits based on a customer’s loyalty status?\n",
    "- c. Are there differences in ordering habits based on a customer’s region?\n",
    "- d. Is there a connection between age and family status in terms of ordering habits?\n",
    "- e. What different classifications does the demographic information suggest? Age? Income? Certain types of goods? Family status?\"\n",
    "- f. What differences can you find in ordering habits of different customer profiles?"
   ]
  },
  {
   "cell_type": "markdown",
   "id": "f6f20337",
   "metadata": {},
   "source": [
    "### Sub-Question a:\n",
    "What's the distribution among users in regard to their brand loyalty (i.e., how often do they return to Instacart?)"
   ]
  },
  {
   "cell_type": "code",
   "execution_count": 26,
   "id": "0bde85a5",
   "metadata": {},
   "outputs": [
    {
     "data": {
      "image/png": "[encoded data removed]",
      "text/plain": [
       "<Figure size 432x288 with 1 Axes>"
      ]
     },
     "metadata": {},
     "output_type": "display_data"
    }
   ],
   "source": [
    "#Creating a pie to visualize the distribution\n",
    "pie_loyalty=df_high_activity['freq_customer'].value_counts().plot.pie(legend=False,autopct='%1.1f%%')\n",
    "plt.xlabel('')\n",
    "plt.ylabel('')\n",
    "plt.title(\"Distribution of Customer Loyalty (in %)\")\n",
    "plt.savefig(os.path.join(path,'pie_loyalty.pdf'))"
   ]
  },
  {
   "cell_type": "code",
   "execution_count": 27,
   "id": "97ef8962",
   "metadata": {},
   "outputs": [
    {
     "data": {
      "text/html": [
       "<div>\n",
       "<style scoped>\n",
       "    .dataframe tbody tr th:only-of-type {\n",
       "        vertical-align: middle;\n",
       "    }\n",
       "\n",
       "    .dataframe tbody tr th {\n",
       "        vertical-align: top;\n",
       "    }\n",
       "\n",
       "    .dataframe thead tr th {\n",
       "        text-align: left;\n",
       "    }\n",
       "\n",
       "    .dataframe thead tr:last-of-type th {\n",
       "        text-align: right;\n",
       "    }\n",
       "</style>\n",
       "<table border=\"1\" class=\"dataframe\">\n",
       "  <thead>\n",
       "    <tr>\n",
       "      <th></th>\n",
       "      <th colspan=\"5\" halign=\"left\">order_number</th>\n",
       "    </tr>\n",
       "    <tr>\n",
       "      <th></th>\n",
       "      <th>mean</th>\n",
       "      <th>max</th>\n",
       "      <th>min</th>\n",
       "      <th>sum</th>\n",
       "      <th>count</th>\n",
       "    </tr>\n",
       "    <tr>\n",
       "      <th>freq_customer</th>\n",
       "      <th></th>\n",
       "      <th></th>\n",
       "      <th></th>\n",
       "      <th></th>\n",
       "      <th></th>\n",
       "    </tr>\n",
       "  </thead>\n",
       "  <tbody>\n",
       "    <tr>\n",
       "      <th>Frequent customer</th>\n",
       "      <td>23.241836</td>\n",
       "      <td>70</td>\n",
       "      <td>1</td>\n",
       "      <td>416429058</td>\n",
       "      <td>17917219</td>\n",
       "    </tr>\n",
       "    <tr>\n",
       "      <th>New customer</th>\n",
       "      <td>29.921676</td>\n",
       "      <td>70</td>\n",
       "      <td>1</td>\n",
       "      <td>614681</td>\n",
       "      <td>20543</td>\n",
       "    </tr>\n",
       "    <tr>\n",
       "      <th>Non-frequent customer</th>\n",
       "      <td>7.570057</td>\n",
       "      <td>25</td>\n",
       "      <td>1</td>\n",
       "      <td>8325359</td>\n",
       "      <td>1099775</td>\n",
       "    </tr>\n",
       "    <tr>\n",
       "      <th>Regular customer</th>\n",
       "      <td>11.293264</td>\n",
       "      <td>45</td>\n",
       "      <td>1</td>\n",
       "      <td>50690111</td>\n",
       "      <td>4488526</td>\n",
       "    </tr>\n",
       "  </tbody>\n",
       "</table>\n",
       "</div>"
      ],
      "text/plain": [
       "                      order_number                             \n",
       "                              mean max min        sum     count\n",
       "freq_customer                                                  \n",
       "Frequent customer        23.241836  70   1  416429058  17917219\n",
       "New customer             29.921676  70   1     614681     20543\n",
       "Non-frequent customer     7.570057  25   1    8325359   1099775\n",
       "Regular customer         11.293264  45   1   50690111   4488526"
      ]
     },
     "execution_count": 27,
     "metadata": {},
     "output_type": "execute_result"
    }
   ],
   "source": [
    "# Having a look at the statistical properties of the customer loyalty\n",
    "df_high_activity.groupby('freq_customer').agg({'order_number':['mean','max','min','sum','count']})"
   ]
  },
  {
   "cell_type": "code",
   "execution_count": 28,
   "id": "abc617cc",
   "metadata": {},
   "outputs": [
    {
     "data": {
      "text/html": [
       "<div>\n",
       "<style scoped>\n",
       "    .dataframe tbody tr th:only-of-type {\n",
       "        vertical-align: middle;\n",
       "    }\n",
       "\n",
       "    .dataframe tbody tr th {\n",
       "        vertical-align: top;\n",
       "    }\n",
       "\n",
       "    .dataframe thead tr th {\n",
       "        text-align: left;\n",
       "    }\n",
       "\n",
       "    .dataframe thead tr:last-of-type th {\n",
       "        text-align: right;\n",
       "    }\n",
       "</style>\n",
       "<table border=\"1\" class=\"dataframe\">\n",
       "  <thead>\n",
       "    <tr>\n",
       "      <th></th>\n",
       "      <th colspan=\"3\" halign=\"left\">days_since_prior_order</th>\n",
       "    </tr>\n",
       "    <tr>\n",
       "      <th></th>\n",
       "      <th>mean</th>\n",
       "      <th>max</th>\n",
       "      <th>min</th>\n",
       "    </tr>\n",
       "    <tr>\n",
       "      <th>freq_customer</th>\n",
       "      <th></th>\n",
       "      <th></th>\n",
       "      <th></th>\n",
       "    </tr>\n",
       "  </thead>\n",
       "  <tbody>\n",
       "    <tr>\n",
       "      <th>Frequent customer</th>\n",
       "      <td>8.023868</td>\n",
       "      <td>30.0</td>\n",
       "      <td>0.0</td>\n",
       "    </tr>\n",
       "    <tr>\n",
       "      <th>New customer</th>\n",
       "      <td>3.143893</td>\n",
       "      <td>30.0</td>\n",
       "      <td>0.0</td>\n",
       "    </tr>\n",
       "    <tr>\n",
       "      <th>Non-frequent customer</th>\n",
       "      <td>23.334774</td>\n",
       "      <td>30.0</td>\n",
       "      <td>0.0</td>\n",
       "    </tr>\n",
       "    <tr>\n",
       "      <th>Regular customer</th>\n",
       "      <td>16.015282</td>\n",
       "      <td>30.0</td>\n",
       "      <td>0.0</td>\n",
       "    </tr>\n",
       "  </tbody>\n",
       "</table>\n",
       "</div>"
      ],
      "text/plain": [
       "                      days_since_prior_order           \n",
       "                                        mean   max  min\n",
       "freq_customer                                          \n",
       "Frequent customer                   8.023868  30.0  0.0\n",
       "New customer                        3.143893  30.0  0.0\n",
       "Non-frequent customer              23.334774  30.0  0.0\n",
       "Regular customer                   16.015282  30.0  0.0"
      ]
     },
     "execution_count": 28,
     "metadata": {},
     "output_type": "execute_result"
    }
   ],
   "source": [
    "# We will first look ath the statistical propierties of how often customer return based on loyalty status\n",
    "df_high_activity.groupby('freq_customer').agg({'days_since_prior_order':['mean','max','min',]})"
   ]
  },
  {
   "cell_type": "code",
   "execution_count": 5,
   "id": "78c4187b",
   "metadata": {},
   "outputs": [],
   "source": [
    "# We know creat a sub df with the customer frequency and the average return. Basicaly creating a chart based on numbers above\n",
    "freq_return = df_high_activity.groupby('freq_customer').agg({'days_since_prior_order':['mean']})"
   ]
  },
  {
   "cell_type": "code",
   "execution_count": 9,
   "id": "378877d8",
   "metadata": {
    "scrolled": false
   },
   "outputs": [
    {
     "data": {
      "image/png": "[encoded data removed]",
      "text/plain": [
       "<Figure size 720x576 with 1 Axes>"
      ]
     },
     "metadata": {
      "needs_background": "light"
     },
     "output_type": "display_data"
    }
   ],
   "source": [
    "# Creating a visualisation\n",
    "freq_retunr = freq_return.plot.bar(rot=0,legend=False)\n",
    "plt.xlabel('Loyalty')\n",
    "plt.ylabel('Average Days')\n",
    "plt.title(\"After what time do customers return on average \")\n",
    "plt.tight_layout()\n",
    "plt.xticks(rotation=90)\n",
    "plt.savefig(os.path.join(path,'Loyalty and return.pdf'))"
   ]
  },
  {
   "cell_type": "markdown",
   "id": "3baf1adc",
   "metadata": {},
   "source": [
    "## Answer:\n",
    "Nearly 80 % are frequent customers which return after 8 days since prior order. Intersting to see is that new customer return after 3 days of prior order, though they only make less then 1% of our customers."
   ]
  },
  {
   "cell_type": "markdown",
   "id": "3a7a5852",
   "metadata": {},
   "source": [
    "### Sub-Question b\n",
    "b. Are there differences in ordering habits based on a customer’s loyalty status?"
   ]
  },
  {
   "cell_type": "code",
   "execution_count": 55,
   "id": "a5042281",
   "metadata": {},
   "outputs": [],
   "source": [
    "# First we look at the varibales we want to compare and creat agg. function for easier and fast graphical display\n",
    "order_freq_aver=df_high_activity.groupby('freq_customer').agg({'order_number':['mean']})\n",
    "price_fre_aver =df_high_activity.groupby('freq_customer').agg({'prices':['mean']})\n",
    "freq_aver_age =df_high_activity.groupby('freq_customer').agg({'Age':['mean']})"
   ]
  },
  {
   "cell_type": "markdown",
   "id": "f14256a3",
   "metadata": {},
   "source": [
    "#### Average Order Numbers based on Loyalty"
   ]
  },
  {
   "cell_type": "code",
   "execution_count": 38,
   "id": "a7a15519",
   "metadata": {
    "scrolled": false
   },
   "outputs": [
    {
     "data": {
      "image/png": "[encoded data removed]",
      "text/plain": [
       "<Figure size 432x288 with 1 Axes>"
      ]
     },
     "metadata": {
      "needs_background": "light"
     },
     "output_type": "display_data"
    }
   ],
   "source": [
    "order_freq_aver_bar = order_freq_aver.plot.bar(rot=0,legend=False)\n",
    "plt.xlabel('Loyalty')\n",
    "plt.ylabel('Average Orders')\n",
    "plt.title(\"Averager Orders based on Loyalty\")\n",
    "plt.tight_layout()\n",
    "plt.xticks(rotation=90)\n",
    "plt.savefig(os.path.join(path,'order_freq_loyalty.pdf'))"
   ]
  },
  {
   "cell_type": "markdown",
   "id": "b570c619",
   "metadata": {},
   "source": [
    "#### Average Prices based on Loyalty"
   ]
  },
  {
   "cell_type": "code",
   "execution_count": 39,
   "id": "a5b1f174",
   "metadata": {
    "scrolled": false
   },
   "outputs": [
    {
     "data": {
      "image/png": "[encoded data removed]",
      "text/plain": [
       "<Figure size 432x288 with 1 Axes>"
      ]
     },
     "metadata": {
      "needs_background": "light"
     },
     "output_type": "display_data"
    }
   ],
   "source": [
    "price_fre_aver_bar = price_fre_aver.plot.bar(rot=0,legend=False)\n",
    "plt.xlabel('Loyalty')\n",
    "plt.ylabel('Average Prices')\n",
    "plt.title(\"Averager Prices based on Loyalty\")\n",
    "plt.tight_layout()\n",
    "plt.xticks(rotation=90)\n",
    "plt.savefig(os.path.join(path,'prices_freq_loyalty.pdf'))"
   ]
  },
  {
   "cell_type": "code",
   "execution_count": 40,
   "id": "da7b8d54",
   "metadata": {
    "scrolled": true
   },
   "outputs": [
    {
     "data": {
      "text/html": [
       "<div>\n",
       "<style scoped>\n",
       "    .dataframe tbody tr th:only-of-type {\n",
       "        vertical-align: middle;\n",
       "    }\n",
       "\n",
       "    .dataframe tbody tr th {\n",
       "        vertical-align: top;\n",
       "    }\n",
       "\n",
       "    .dataframe thead tr th {\n",
       "        text-align: left;\n",
       "    }\n",
       "\n",
       "    .dataframe thead tr:last-of-type th {\n",
       "        text-align: right;\n",
       "    }\n",
       "</style>\n",
       "<table border=\"1\" class=\"dataframe\">\n",
       "  <thead>\n",
       "    <tr>\n",
       "      <th></th>\n",
       "      <th>prices</th>\n",
       "    </tr>\n",
       "    <tr>\n",
       "      <th></th>\n",
       "      <th>mean</th>\n",
       "    </tr>\n",
       "    <tr>\n",
       "      <th>freq_customer</th>\n",
       "      <th></th>\n",
       "    </tr>\n",
       "  </thead>\n",
       "  <tbody>\n",
       "    <tr>\n",
       "      <th>Frequent customer</th>\n",
       "      <td>7.793538</td>\n",
       "    </tr>\n",
       "    <tr>\n",
       "      <th>New customer</th>\n",
       "      <td>7.903943</td>\n",
       "    </tr>\n",
       "    <tr>\n",
       "      <th>Non-frequent customer</th>\n",
       "      <td>7.772740</td>\n",
       "    </tr>\n",
       "    <tr>\n",
       "      <th>Regular customer</th>\n",
       "      <td>7.791758</td>\n",
       "    </tr>\n",
       "  </tbody>\n",
       "</table>\n",
       "</div>"
      ],
      "text/plain": [
       "                         prices\n",
       "                           mean\n",
       "freq_customer                  \n",
       "Frequent customer      7.793538\n",
       "New customer           7.903943\n",
       "Non-frequent customer  7.772740\n",
       "Regular customer       7.791758"
      ]
     },
     "execution_count": 40,
     "metadata": {},
     "output_type": "execute_result"
    }
   ],
   "source": [
    "price_fre_aver"
   ]
  },
  {
   "cell_type": "markdown",
   "id": "e1ad9281",
   "metadata": {},
   "source": [
    "#### Average Return after Prior Order based on Loyalty"
   ]
  },
  {
   "cell_type": "code",
   "execution_count": 54,
   "id": "eaa32605",
   "metadata": {
    "scrolled": false
   },
   "outputs": [
    {
     "data": {
      "image/png": "[encoded data removed]",
      "text/plain": [
       "<Figure size 432x288 with 1 Axes>"
      ]
     },
     "metadata": {
      "needs_background": "light"
     },
     "output_type": "display_data"
    }
   ],
   "source": [
    "freq_aver_age_bar = freq_aver_age.plot.bar(rot=0,legend=False)\n",
    "plt.xlabel('Loyalty')\n",
    "plt.ylabel('Average Age')\n",
    "plt.title(\"Averager Age based on Loyalty\")\n",
    "plt.tight_layout()\n",
    "plt.xticks(rotation=90)\n",
    "plt.savefig(os.path.join(path,'age_freq_loyalty.pdf'))"
   ]
  },
  {
   "cell_type": "code",
   "execution_count": 50,
   "id": "bba6daf7",
   "metadata": {
    "scrolled": true
   },
   "outputs": [
    {
     "data": {
      "text/html": [
       "<div>\n",
       "<style scoped>\n",
       "    .dataframe tbody tr th:only-of-type {\n",
       "        vertical-align: middle;\n",
       "    }\n",
       "\n",
       "    .dataframe tbody tr th {\n",
       "        vertical-align: top;\n",
       "    }\n",
       "\n",
       "    .dataframe thead tr th {\n",
       "        text-align: left;\n",
       "    }\n",
       "\n",
       "    .dataframe thead tr:last-of-type th {\n",
       "        text-align: right;\n",
       "    }\n",
       "</style>\n",
       "<table border=\"1\" class=\"dataframe\">\n",
       "  <thead>\n",
       "    <tr>\n",
       "      <th></th>\n",
       "      <th>Age</th>\n",
       "    </tr>\n",
       "    <tr>\n",
       "      <th></th>\n",
       "      <th>median</th>\n",
       "    </tr>\n",
       "    <tr>\n",
       "      <th>freq_customer</th>\n",
       "      <th></th>\n",
       "    </tr>\n",
       "  </thead>\n",
       "  <tbody>\n",
       "    <tr>\n",
       "      <th>Frequent customer</th>\n",
       "      <td>49.0</td>\n",
       "    </tr>\n",
       "    <tr>\n",
       "      <th>New customer</th>\n",
       "      <td>54.0</td>\n",
       "    </tr>\n",
       "    <tr>\n",
       "      <th>Non-frequent customer</th>\n",
       "      <td>49.0</td>\n",
       "    </tr>\n",
       "    <tr>\n",
       "      <th>Regular customer</th>\n",
       "      <td>49.0</td>\n",
       "    </tr>\n",
       "  </tbody>\n",
       "</table>\n",
       "</div>"
      ],
      "text/plain": [
       "                         Age\n",
       "                      median\n",
       "freq_customer               \n",
       "Frequent customer       49.0\n",
       "New customer            54.0\n",
       "Non-frequent customer   49.0\n",
       "Regular customer        49.0"
      ]
     },
     "execution_count": 50,
     "metadata": {},
     "output_type": "execute_result"
    }
   ],
   "source": [
    "freq_aver_age"
   ]
  },
  {
   "cell_type": "markdown",
   "id": "17abb5c6",
   "metadata": {},
   "source": [
    "## Answer:\n",
    "- Investigating further differences we can see no significant diffrences in averager prices or age. \n",
    "- A significant differences in to see in number of orders and prior orders (described above). Hereby order the frequent customer on average 23 products, the most order are made by new customers, but as mentioned before they only make up for a small amount of customers."
   ]
  },
  {
   "cell_type": "markdown",
   "id": "6f87ab53",
   "metadata": {},
   "source": [
    "## Sub-question  C\n",
    "\n",
    "c. Are there differences in ordering habits based on a customer’s region?"
   ]
  },
  {
   "cell_type": "code",
   "execution_count": 56,
   "id": "b229e9dc",
   "metadata": {
    "scrolled": false
   },
   "outputs": [
    {
     "data": {
      "image/png": "[encoded data removed]",
      "text/plain": [
       "<Figure size 432x288 with 1 Axes>"
      ]
     },
     "metadata": {},
     "output_type": "display_data"
    }
   ],
   "source": [
    "# First we will look at the distribution between the region\n",
    "df_high_activity['Region'].value_counts().plot.pie(legend=False,autopct='%1.1f%%')\n",
    "plt.xlabel('')\n",
    "plt.ylabel('')\n",
    "plt.title(\"Distribution of Regions (in %)\")\n",
    "plt.savefig(os.path.join(path,'Region_Pie.pdf'))"
   ]
  },
  {
   "cell_type": "markdown",
   "id": "4f0467de",
   "metadata": {},
   "source": [
    "### In the following analysis we will look at the stat for prices orders and revenue"
   ]
  },
  {
   "cell_type": "code",
   "execution_count": 80,
   "id": "957048d4",
   "metadata": {
    "scrolled": true
   },
   "outputs": [
    {
     "data": {
      "text/html": [
       "<div>\n",
       "<style scoped>\n",
       "    .dataframe tbody tr th:only-of-type {\n",
       "        vertical-align: middle;\n",
       "    }\n",
       "\n",
       "    .dataframe tbody tr th {\n",
       "        vertical-align: top;\n",
       "    }\n",
       "\n",
       "    .dataframe thead tr th {\n",
       "        text-align: left;\n",
       "    }\n",
       "\n",
       "    .dataframe thead tr:last-of-type th {\n",
       "        text-align: right;\n",
       "    }\n",
       "</style>\n",
       "<table border=\"1\" class=\"dataframe\">\n",
       "  <thead>\n",
       "    <tr>\n",
       "      <th></th>\n",
       "      <th colspan=\"4\" halign=\"left\">order_number</th>\n",
       "    </tr>\n",
       "    <tr>\n",
       "      <th></th>\n",
       "      <th>mean</th>\n",
       "      <th>min</th>\n",
       "      <th>max</th>\n",
       "      <th>count</th>\n",
       "    </tr>\n",
       "    <tr>\n",
       "      <th>Region</th>\n",
       "      <th></th>\n",
       "      <th></th>\n",
       "      <th></th>\n",
       "      <th></th>\n",
       "    </tr>\n",
       "  </thead>\n",
       "  <tbody>\n",
       "    <tr>\n",
       "      <th>District of Columbia</th>\n",
       "      <td>20.099647</td>\n",
       "      <td>1</td>\n",
       "      <td>70</td>\n",
       "      <td>443767</td>\n",
       "    </tr>\n",
       "    <tr>\n",
       "      <th>Midwest</th>\n",
       "      <td>20.056823</td>\n",
       "      <td>1</td>\n",
       "      <td>70</td>\n",
       "      <td>5505265</td>\n",
       "    </tr>\n",
       "    <tr>\n",
       "      <th>Northeast</th>\n",
       "      <td>20.335669</td>\n",
       "      <td>1</td>\n",
       "      <td>70</td>\n",
       "      <td>4161150</td>\n",
       "    </tr>\n",
       "    <tr>\n",
       "      <th>South</th>\n",
       "      <td>20.200297</td>\n",
       "      <td>1</td>\n",
       "      <td>70</td>\n",
       "      <td>7382698</td>\n",
       "    </tr>\n",
       "    <tr>\n",
       "      <th>West</th>\n",
       "      <td>20.382120</td>\n",
       "      <td>1</td>\n",
       "      <td>70</td>\n",
       "      <td>6033183</td>\n",
       "    </tr>\n",
       "  </tbody>\n",
       "</table>\n",
       "</div>"
      ],
      "text/plain": [
       "                     order_number                 \n",
       "                             mean min max    count\n",
       "Region                                            \n",
       "District of Columbia    20.099647   1  70   443767\n",
       "Midwest                 20.056823   1  70  5505265\n",
       "Northeast               20.335669   1  70  4161150\n",
       "South                   20.200297   1  70  7382698\n",
       "West                    20.382120   1  70  6033183"
      ]
     },
     "execution_count": 80,
     "metadata": {},
     "output_type": "execute_result"
    }
   ],
   "source": [
    "#Before we start we will lookin into the prices and orders\n",
    "df_high_activity.groupby('Region').agg({'order_number':['mean', 'min','max','count']})"
   ]
  },
  {
   "cell_type": "code",
   "execution_count": 79,
   "id": "12b1c958",
   "metadata": {
    "scrolled": true
   },
   "outputs": [
    {
     "data": {
      "text/html": [
       "<div>\n",
       "<style scoped>\n",
       "    .dataframe tbody tr th:only-of-type {\n",
       "        vertical-align: middle;\n",
       "    }\n",
       "\n",
       "    .dataframe tbody tr th {\n",
       "        vertical-align: top;\n",
       "    }\n",
       "\n",
       "    .dataframe thead tr th {\n",
       "        text-align: left;\n",
       "    }\n",
       "\n",
       "    .dataframe thead tr:last-of-type th {\n",
       "        text-align: right;\n",
       "    }\n",
       "</style>\n",
       "<table border=\"1\" class=\"dataframe\">\n",
       "  <thead>\n",
       "    <tr>\n",
       "      <th></th>\n",
       "      <th colspan=\"4\" halign=\"left\">prices</th>\n",
       "    </tr>\n",
       "    <tr>\n",
       "      <th></th>\n",
       "      <th>mean</th>\n",
       "      <th>min</th>\n",
       "      <th>max</th>\n",
       "      <th>count</th>\n",
       "    </tr>\n",
       "    <tr>\n",
       "      <th>Region</th>\n",
       "      <th></th>\n",
       "      <th></th>\n",
       "      <th></th>\n",
       "      <th></th>\n",
       "    </tr>\n",
       "  </thead>\n",
       "  <tbody>\n",
       "    <tr>\n",
       "      <th>District of Columbia</th>\n",
       "      <td>7.778806</td>\n",
       "      <td>1.0</td>\n",
       "      <td>25.0</td>\n",
       "      <td>443767</td>\n",
       "    </tr>\n",
       "    <tr>\n",
       "      <th>Midwest</th>\n",
       "      <td>7.792238</td>\n",
       "      <td>1.0</td>\n",
       "      <td>25.0</td>\n",
       "      <td>5505265</td>\n",
       "    </tr>\n",
       "    <tr>\n",
       "      <th>Northeast</th>\n",
       "      <td>7.782670</td>\n",
       "      <td>1.0</td>\n",
       "      <td>25.0</td>\n",
       "      <td>4161150</td>\n",
       "    </tr>\n",
       "    <tr>\n",
       "      <th>South</th>\n",
       "      <td>7.798888</td>\n",
       "      <td>1.0</td>\n",
       "      <td>25.0</td>\n",
       "      <td>7382698</td>\n",
       "    </tr>\n",
       "    <tr>\n",
       "      <th>West</th>\n",
       "      <td>7.792018</td>\n",
       "      <td>1.0</td>\n",
       "      <td>25.0</td>\n",
       "      <td>6033183</td>\n",
       "    </tr>\n",
       "  </tbody>\n",
       "</table>\n",
       "</div>"
      ],
      "text/plain": [
       "                        prices                    \n",
       "                          mean  min   max    count\n",
       "Region                                            \n",
       "District of Columbia  7.778806  1.0  25.0   443767\n",
       "Midwest               7.792238  1.0  25.0  5505265\n",
       "Northeast             7.782670  1.0  25.0  4161150\n",
       "South                 7.798888  1.0  25.0  7382698\n",
       "West                  7.792018  1.0  25.0  6033183"
      ]
     },
     "execution_count": 79,
     "metadata": {},
     "output_type": "execute_result"
    }
   ],
   "source": [
    "#There was no difference in number of order, now we look at average prices\n",
    "df_high_activity.groupby('Region').agg({'prices':['mean', 'min','max','count']})"
   ]
  },
  {
   "cell_type": "code",
   "execution_count": 93,
   "id": "43023cde",
   "metadata": {},
   "outputs": [],
   "source": [
    "# Last but not least we look at the total sales number\n",
    "df_high_activity['revenue']= df_high_activity['prices']*df_high_activity['order_number']"
   ]
  },
  {
   "cell_type": "code",
   "execution_count": 96,
   "id": "227b3f29",
   "metadata": {
    "scrolled": true
   },
   "outputs": [
    {
     "data": {
      "text/html": [
       "<div>\n",
       "<style scoped>\n",
       "    .dataframe tbody tr th:only-of-type {\n",
       "        vertical-align: middle;\n",
       "    }\n",
       "\n",
       "    .dataframe tbody tr th {\n",
       "        vertical-align: top;\n",
       "    }\n",
       "\n",
       "    .dataframe thead tr th {\n",
       "        text-align: left;\n",
       "    }\n",
       "\n",
       "    .dataframe thead tr:last-of-type th {\n",
       "        text-align: right;\n",
       "    }\n",
       "</style>\n",
       "<table border=\"1\" class=\"dataframe\">\n",
       "  <thead>\n",
       "    <tr>\n",
       "      <th></th>\n",
       "      <th colspan=\"4\" halign=\"left\">revenue</th>\n",
       "    </tr>\n",
       "    <tr>\n",
       "      <th></th>\n",
       "      <th>mean</th>\n",
       "      <th>min</th>\n",
       "      <th>max</th>\n",
       "      <th>count</th>\n",
       "    </tr>\n",
       "    <tr>\n",
       "      <th>Region</th>\n",
       "      <th></th>\n",
       "      <th></th>\n",
       "      <th></th>\n",
       "      <th></th>\n",
       "    </tr>\n",
       "  </thead>\n",
       "  <tbody>\n",
       "    <tr>\n",
       "      <th>District of Columbia</th>\n",
       "      <td>156.159679</td>\n",
       "      <td>1.0</td>\n",
       "      <td>1700.0</td>\n",
       "      <td>443767</td>\n",
       "    </tr>\n",
       "    <tr>\n",
       "      <th>Midwest</th>\n",
       "      <td>156.213833</td>\n",
       "      <td>1.0</td>\n",
       "      <td>1750.0</td>\n",
       "      <td>5505265</td>\n",
       "    </tr>\n",
       "    <tr>\n",
       "      <th>Northeast</th>\n",
       "      <td>158.187025</td>\n",
       "      <td>1.0</td>\n",
       "      <td>1750.0</td>\n",
       "      <td>4161150</td>\n",
       "    </tr>\n",
       "    <tr>\n",
       "      <th>South</th>\n",
       "      <td>157.404419</td>\n",
       "      <td>1.0</td>\n",
       "      <td>1750.0</td>\n",
       "      <td>7382698</td>\n",
       "    </tr>\n",
       "    <tr>\n",
       "      <th>West</th>\n",
       "      <td>158.697192</td>\n",
       "      <td>1.0</td>\n",
       "      <td>1750.0</td>\n",
       "      <td>6033183</td>\n",
       "    </tr>\n",
       "  </tbody>\n",
       "</table>\n",
       "</div>"
      ],
      "text/plain": [
       "                         revenue                      \n",
       "                            mean  min     max    count\n",
       "Region                                                \n",
       "District of Columbia  156.159679  1.0  1700.0   443767\n",
       "Midwest               156.213833  1.0  1750.0  5505265\n",
       "Northeast             158.187025  1.0  1750.0  4161150\n",
       "South                 157.404419  1.0  1750.0  7382698\n",
       "West                  158.697192  1.0  1750.0  6033183"
      ]
     },
     "execution_count": 96,
     "metadata": {},
     "output_type": "execute_result"
    }
   ],
   "source": [
    "df_high_activity.groupby('Region').agg({'revenue':['mean', 'min','max','count']})"
   ]
  },
  {
   "cell_type": "markdown",
   "id": "d462cb22",
   "metadata": {},
   "source": [
    "### Answer to the stats analysis:\n",
    "Looking at the raw stats (price, order and revenue) we cant see a regional difference"
   ]
  },
  {
   "cell_type": "markdown",
   "id": "c3846f91",
   "metadata": {},
   "source": [
    "## Further Analysis to Sub-Question c"
   ]
  },
  {
   "cell_type": "code",
   "execution_count": 82,
   "id": "74142e42",
   "metadata": {},
   "outputs": [],
   "source": [
    "# We creating a crosstable to see loyalty based on regions in order to compare them\n",
    "crosstab_loylaty_region = pd.crosstab(df_high_activity['Region'],df_high_activity['freq_customer'])"
   ]
  },
  {
   "cell_type": "code",
   "execution_count": 83,
   "id": "ed38862e",
   "metadata": {},
   "outputs": [
    {
     "data": {
      "text/html": [
       "<div>\n",
       "<style scoped>\n",
       "    .dataframe tbody tr th:only-of-type {\n",
       "        vertical-align: middle;\n",
       "    }\n",
       "\n",
       "    .dataframe tbody tr th {\n",
       "        vertical-align: top;\n",
       "    }\n",
       "\n",
       "    .dataframe thead th {\n",
       "        text-align: right;\n",
       "    }\n",
       "</style>\n",
       "<table border=\"1\" class=\"dataframe\">\n",
       "  <thead>\n",
       "    <tr style=\"text-align: right;\">\n",
       "      <th>freq_customer</th>\n",
       "      <th>Frequent customer</th>\n",
       "      <th>New customer</th>\n",
       "      <th>Non-frequent customer</th>\n",
       "      <th>Regular customer</th>\n",
       "    </tr>\n",
       "    <tr>\n",
       "      <th>Region</th>\n",
       "      <th></th>\n",
       "      <th></th>\n",
       "      <th></th>\n",
       "      <th></th>\n",
       "    </tr>\n",
       "  </thead>\n",
       "  <tbody>\n",
       "    <tr>\n",
       "      <th>District of Columbia</th>\n",
       "      <td>331125</td>\n",
       "      <td>262</td>\n",
       "      <td>23624</td>\n",
       "      <td>88756</td>\n",
       "    </tr>\n",
       "    <tr>\n",
       "      <th>Midwest</th>\n",
       "      <td>4162906</td>\n",
       "      <td>4330</td>\n",
       "      <td>263326</td>\n",
       "      <td>1074703</td>\n",
       "    </tr>\n",
       "    <tr>\n",
       "      <th>Northeast</th>\n",
       "      <td>3168631</td>\n",
       "      <td>4278</td>\n",
       "      <td>190539</td>\n",
       "      <td>797702</td>\n",
       "    </tr>\n",
       "    <tr>\n",
       "      <th>South</th>\n",
       "      <td>5634498</td>\n",
       "      <td>6293</td>\n",
       "      <td>345780</td>\n",
       "      <td>1396127</td>\n",
       "    </tr>\n",
       "    <tr>\n",
       "      <th>West</th>\n",
       "      <td>4620059</td>\n",
       "      <td>5380</td>\n",
       "      <td>276506</td>\n",
       "      <td>1131238</td>\n",
       "    </tr>\n",
       "  </tbody>\n",
       "</table>\n",
       "</div>"
      ],
      "text/plain": [
       "freq_customer         Frequent customer  New customer  Non-frequent customer  \\\n",
       "Region                                                                         \n",
       "District of Columbia             331125           262                  23624   \n",
       "Midwest                         4162906          4330                 263326   \n",
       "Northeast                       3168631          4278                 190539   \n",
       "South                           5634498          6293                 345780   \n",
       "West                            4620059          5380                 276506   \n",
       "\n",
       "freq_customer         Regular customer  \n",
       "Region                                  \n",
       "District of Columbia             88756  \n",
       "Midwest                        1074703  \n",
       "Northeast                       797702  \n",
       "South                          1396127  \n",
       "West                           1131238  "
      ]
     },
     "execution_count": 83,
     "metadata": {},
     "output_type": "execute_result"
    }
   ],
   "source": [
    "# This is the output of our crosstable\n",
    "crosstab_loylaty_region"
   ]
  },
  {
   "cell_type": "code",
   "execution_count": 84,
   "id": "c51d9ceb",
   "metadata": {},
   "outputs": [
    {
     "data": {
      "image/png": "[encoded data removed]",
      "text/plain": [
       "<Figure size 720x576 with 1 Axes>"
      ]
     },
     "metadata": {
      "needs_background": "light"
     },
     "output_type": "display_data"
    }
   ],
   "source": [
    "# here we will create a chart to visualise the results of our crosstable\n",
    "crosstab_loylaty_region.plot(kind = 'bar', stacked = True)\n",
    "plt.xlabel('Region')\n",
    "plt.ylabel('Obersavation (in Millions)')\n",
    "plt.title(\"Regions and Loyalty\")\n",
    "plt.legend(loc=(1.04,0))\n",
    "plt.tight_layout()\n",
    "plt.rcParams[\"figure.figsize\"] = (10,8)\n",
    "plt.savefig(os.path.join(path,'crosstab_loylaty_region.pdf'))"
   ]
  },
  {
   "cell_type": "code",
   "execution_count": 79,
   "id": "2a52d3f1",
   "metadata": {},
   "outputs": [],
   "source": [
    "# Here we have a look at the family type and the regions\n",
    "crosstab_fam_region = pd.crosstab(df_high_activity['Region'],df_high_activity['household_type'])"
   ]
  },
  {
   "cell_type": "code",
   "execution_count": 80,
   "id": "9d16d099",
   "metadata": {
    "scrolled": true
   },
   "outputs": [
    {
     "data": {
      "text/html": [
       "<div>\n",
       "<style scoped>\n",
       "    .dataframe tbody tr th:only-of-type {\n",
       "        vertical-align: middle;\n",
       "    }\n",
       "\n",
       "    .dataframe tbody tr th {\n",
       "        vertical-align: top;\n",
       "    }\n",
       "\n",
       "    .dataframe thead th {\n",
       "        text-align: right;\n",
       "    }\n",
       "</style>\n",
       "<table border=\"1\" class=\"dataframe\">\n",
       "  <thead>\n",
       "    <tr style=\"text-align: right;\">\n",
       "      <th>household_type</th>\n",
       "      <th>couple</th>\n",
       "      <th>family</th>\n",
       "      <th>single</th>\n",
       "    </tr>\n",
       "    <tr>\n",
       "      <th>Region</th>\n",
       "      <th></th>\n",
       "      <th></th>\n",
       "      <th></th>\n",
       "    </tr>\n",
       "  </thead>\n",
       "  <tbody>\n",
       "    <tr>\n",
       "      <th>District of Columbia</th>\n",
       "      <td>111524</td>\n",
       "      <td>224174</td>\n",
       "      <td>108069</td>\n",
       "    </tr>\n",
       "    <tr>\n",
       "      <th>Midwest</th>\n",
       "      <td>1404357</td>\n",
       "      <td>2720059</td>\n",
       "      <td>1380849</td>\n",
       "    </tr>\n",
       "    <tr>\n",
       "      <th>Northeast</th>\n",
       "      <td>1051906</td>\n",
       "      <td>2085020</td>\n",
       "      <td>1024224</td>\n",
       "    </tr>\n",
       "    <tr>\n",
       "      <th>South</th>\n",
       "      <td>1814289</td>\n",
       "      <td>3716097</td>\n",
       "      <td>1852312</td>\n",
       "    </tr>\n",
       "    <tr>\n",
       "      <th>West</th>\n",
       "      <td>1487654</td>\n",
       "      <td>3037422</td>\n",
       "      <td>1508107</td>\n",
       "    </tr>\n",
       "  </tbody>\n",
       "</table>\n",
       "</div>"
      ],
      "text/plain": [
       "household_type         couple   family   single\n",
       "Region                                         \n",
       "District of Columbia   111524   224174   108069\n",
       "Midwest               1404357  2720059  1380849\n",
       "Northeast             1051906  2085020  1024224\n",
       "South                 1814289  3716097  1852312\n",
       "West                  1487654  3037422  1508107"
      ]
     },
     "execution_count": 80,
     "metadata": {},
     "output_type": "execute_result"
    }
   ],
   "source": [
    "crosstab_fam_region"
   ]
  },
  {
   "cell_type": "code",
   "execution_count": 81,
   "id": "af040855",
   "metadata": {},
   "outputs": [
    {
     "data": {
      "image/png": "[encoded data removed]",
      "text/plain": [
       "<Figure size 720x576 with 1 Axes>"
      ]
     },
     "metadata": {
      "needs_background": "light"
     },
     "output_type": "display_data"
    }
   ],
   "source": [
    "crosstab_fam_region.plot(kind = 'bar', stacked = True )\n",
    "plt.xlabel('Region')\n",
    "plt.ylabel('Obersavation (in Millions)')\n",
    "plt.title(\"Regions and Dependents\")\n",
    "plt.legend(loc=(1.04,0))\n",
    "plt.tight_layout()\n",
    "plt.rcParams[\"figure.figsize\"] = (10,8)\n",
    "plt.savefig(os.path.join(path,'crosstab_household_region.pdf'))"
   ]
  },
  {
   "cell_type": "code",
   "execution_count": 19,
   "id": "498c2e32",
   "metadata": {},
   "outputs": [],
   "source": [
    "# We want to see which product range diffrent regions buy\n",
    "crosstab_price_range_region = pd.crosstab(df_high_activity['Region'],df_high_activity['price_range_loc'])"
   ]
  },
  {
   "cell_type": "code",
   "execution_count": 20,
   "id": "9347161a",
   "metadata": {},
   "outputs": [
    {
     "data": {
      "text/html": [
       "<div>\n",
       "<style scoped>\n",
       "    .dataframe tbody tr th:only-of-type {\n",
       "        vertical-align: middle;\n",
       "    }\n",
       "\n",
       "    .dataframe tbody tr th {\n",
       "        vertical-align: top;\n",
       "    }\n",
       "\n",
       "    .dataframe thead th {\n",
       "        text-align: right;\n",
       "    }\n",
       "</style>\n",
       "<table border=\"1\" class=\"dataframe\">\n",
       "  <thead>\n",
       "    <tr style=\"text-align: right;\">\n",
       "      <th>price_range_loc</th>\n",
       "      <th>High-range product</th>\n",
       "      <th>Low-range product</th>\n",
       "      <th>Mid-range product</th>\n",
       "    </tr>\n",
       "    <tr>\n",
       "      <th>Region</th>\n",
       "      <th></th>\n",
       "      <th></th>\n",
       "      <th></th>\n",
       "    </tr>\n",
       "  </thead>\n",
       "  <tbody>\n",
       "    <tr>\n",
       "      <th>District of Columbia</th>\n",
       "      <td>7697</td>\n",
       "      <td>185647</td>\n",
       "      <td>402518</td>\n",
       "    </tr>\n",
       "    <tr>\n",
       "      <th>Midwest</th>\n",
       "      <td>94116</td>\n",
       "      <td>2300327</td>\n",
       "      <td>4973474</td>\n",
       "    </tr>\n",
       "    <tr>\n",
       "      <th>Northeast</th>\n",
       "      <td>70366</td>\n",
       "      <td>1740430</td>\n",
       "      <td>3742538</td>\n",
       "    </tr>\n",
       "    <tr>\n",
       "      <th>South</th>\n",
       "      <td>126586</td>\n",
       "      <td>3077969</td>\n",
       "      <td>6657692</td>\n",
       "    </tr>\n",
       "    <tr>\n",
       "      <th>West</th>\n",
       "      <td>103272</td>\n",
       "      <td>2514531</td>\n",
       "      <td>5424570</td>\n",
       "    </tr>\n",
       "  </tbody>\n",
       "</table>\n",
       "</div>"
      ],
      "text/plain": [
       "price_range_loc       High-range product  Low-range product  Mid-range product\n",
       "Region                                                                        \n",
       "District of Columbia                7697             185647             402518\n",
       "Midwest                            94116            2300327            4973474\n",
       "Northeast                          70366            1740430            3742538\n",
       "South                             126586            3077969            6657692\n",
       "West                              103272            2514531            5424570"
      ]
     },
     "execution_count": 20,
     "metadata": {},
     "output_type": "execute_result"
    }
   ],
   "source": [
    "crosstab_price_range_region"
   ]
  },
  {
   "cell_type": "code",
   "execution_count": 77,
   "id": "b32d2134",
   "metadata": {},
   "outputs": [
    {
     "data": {
      "image/png": "[encoded data removed]",
      "text/plain": [
       "<Figure size 720x576 with 1 Axes>"
      ]
     },
     "metadata": {
      "needs_background": "light"
     },
     "output_type": "display_data"
    }
   ],
   "source": [
    "crosstab_price_range_region.plot(kind = 'bar', stacked = True )\n",
    "plt.xlabel('Region')\n",
    "plt.ylabel('Obersavation (in Millions)')\n",
    "plt.title(\"Regions and Product Range\")\n",
    "plt.legend(loc=(1.04,0))\n",
    "plt.rcParams[\"figure.figsize\"] = (10,8)\n",
    "plt.tight_layout()\n",
    "plt.savefig(os.path.join(path,'crosstab_price_range_region.pdf'))"
   ]
  },
  {
   "cell_type": "markdown",
   "id": "d820205b",
   "metadata": {},
   "source": [
    "## Sub-Qeustion: d\n",
    "d. Is there a connection between age and family status in terms of ordering habits?"
   ]
  },
  {
   "cell_type": "code",
   "execution_count": 34,
   "id": "95040473",
   "metadata": {
    "scrolled": true
   },
   "outputs": [
    {
     "data": {
      "image/png": "[encoded data removed]",
      "text/plain": [
       "<Figure size 432x288 with 1 Axes>"
      ]
     },
     "metadata": {},
     "output_type": "display_data"
    }
   ],
   "source": [
    "# We will look first at the distribution of families\n",
    "df_high_activity['fam_status'].value_counts().plot.pie(legend=False,autopct='%1.1f%%')\n",
    "plt.xlabel('')\n",
    "plt.ylabel('')\n",
    "plt.title(\"Distribution of Family Status (in %)\")\n",
    "plt.savefig(os.path.join(path,'fam_stat_Pie.pdf'))"
   ]
  },
  {
   "cell_type": "code",
   "execution_count": 41,
   "id": "0619dfa2",
   "metadata": {},
   "outputs": [
    {
     "data": {
      "text/html": [
       "<div>\n",
       "<style scoped>\n",
       "    .dataframe tbody tr th:only-of-type {\n",
       "        vertical-align: middle;\n",
       "    }\n",
       "\n",
       "    .dataframe tbody tr th {\n",
       "        vertical-align: top;\n",
       "    }\n",
       "\n",
       "    .dataframe thead th {\n",
       "        text-align: right;\n",
       "    }\n",
       "</style>\n",
       "<table border=\"1\" class=\"dataframe\">\n",
       "  <thead>\n",
       "    <tr style=\"text-align: right;\">\n",
       "      <th>fam_status</th>\n",
       "      <th>divorced/widowed</th>\n",
       "      <th>living with parents and siblings</th>\n",
       "      <th>married</th>\n",
       "      <th>single</th>\n",
       "    </tr>\n",
       "    <tr>\n",
       "      <th>n_dependants</th>\n",
       "      <th></th>\n",
       "      <th></th>\n",
       "      <th></th>\n",
       "      <th></th>\n",
       "    </tr>\n",
       "  </thead>\n",
       "  <tbody>\n",
       "    <tr>\n",
       "      <th>0</th>\n",
       "      <td>2681649</td>\n",
       "      <td>0</td>\n",
       "      <td>0</td>\n",
       "      <td>5161870</td>\n",
       "    </tr>\n",
       "    <tr>\n",
       "      <th>1</th>\n",
       "      <td>0</td>\n",
       "      <td>516472</td>\n",
       "      <td>7328053</td>\n",
       "      <td>0</td>\n",
       "    </tr>\n",
       "    <tr>\n",
       "      <th>2</th>\n",
       "      <td>0</td>\n",
       "      <td>497949</td>\n",
       "      <td>7345770</td>\n",
       "      <td>0</td>\n",
       "    </tr>\n",
       "    <tr>\n",
       "      <th>3</th>\n",
       "      <td>0</td>\n",
       "      <td>496922</td>\n",
       "      <td>7393048</td>\n",
       "      <td>0</td>\n",
       "    </tr>\n",
       "  </tbody>\n",
       "</table>\n",
       "</div>"
      ],
      "text/plain": [
       "fam_status    divorced/widowed  living with parents and siblings  married  \\\n",
       "n_dependants                                                                \n",
       "0                      2681649                                 0        0   \n",
       "1                            0                            516472  7328053   \n",
       "2                            0                            497949  7345770   \n",
       "3                            0                            496922  7393048   \n",
       "\n",
       "fam_status     single  \n",
       "n_dependants           \n",
       "0             5161870  \n",
       "1                   0  \n",
       "2                   0  \n",
       "3                   0  "
      ]
     },
     "execution_count": 41,
     "metadata": {},
     "output_type": "execute_result"
    }
   ],
   "source": [
    "# Now we combine the family status with the number of depandants\n",
    "crosstab_dep_gen= pd.crosstab(df_high_activity['n_dependants'],df_high_activity['fam_status'])\n",
    "crosstab_fam_depandants"
   ]
  },
  {
   "cell_type": "markdown",
   "id": "9f785421",
   "metadata": {},
   "source": [
    "Based on the number of depandants we can build two groups single vs families. Then we would have a norminal variable. But we will continue with with the varibale family status as we get a more destinct picture"
   ]
  },
  {
   "cell_type": "code",
   "execution_count": 44,
   "id": "eb6e4ff5",
   "metadata": {},
   "outputs": [
    {
     "data": {
      "text/html": [
       "<div>\n",
       "<style scoped>\n",
       "    .dataframe tbody tr th:only-of-type {\n",
       "        vertical-align: middle;\n",
       "    }\n",
       "\n",
       "    .dataframe tbody tr th {\n",
       "        vertical-align: top;\n",
       "    }\n",
       "\n",
       "    .dataframe thead th {\n",
       "        text-align: right;\n",
       "    }\n",
       "</style>\n",
       "<table border=\"1\" class=\"dataframe\">\n",
       "  <thead>\n",
       "    <tr style=\"text-align: right;\">\n",
       "      <th>fam_status</th>\n",
       "      <th>divorced/widowed</th>\n",
       "      <th>living with parents and siblings</th>\n",
       "      <th>married</th>\n",
       "      <th>single</th>\n",
       "    </tr>\n",
       "    <tr>\n",
       "      <th>generation</th>\n",
       "      <th></th>\n",
       "      <th></th>\n",
       "      <th></th>\n",
       "      <th></th>\n",
       "    </tr>\n",
       "  </thead>\n",
       "  <tbody>\n",
       "    <tr>\n",
       "      <th>Baby Boomers 58-76</th>\n",
       "      <td>1544544</td>\n",
       "      <td>0</td>\n",
       "      <td>5156293</td>\n",
       "      <td>201702</td>\n",
       "    </tr>\n",
       "    <tr>\n",
       "      <th>Gen X 42-57</th>\n",
       "      <td>0</td>\n",
       "      <td>0</td>\n",
       "      <td>4475676</td>\n",
       "      <td>1461734</td>\n",
       "    </tr>\n",
       "    <tr>\n",
       "      <th>Gen Z 18-25</th>\n",
       "      <td>0</td>\n",
       "      <td>1135389</td>\n",
       "      <td>1089666</td>\n",
       "      <td>722000</td>\n",
       "    </tr>\n",
       "    <tr>\n",
       "      <th>Millennials 26-41</th>\n",
       "      <td>0</td>\n",
       "      <td>0</td>\n",
       "      <td>4418355</td>\n",
       "      <td>1480358</td>\n",
       "    </tr>\n",
       "    <tr>\n",
       "      <th>Silent Generation &gt;76</th>\n",
       "      <td>463223</td>\n",
       "      <td>0</td>\n",
       "      <td>1377123</td>\n",
       "      <td>0</td>\n",
       "    </tr>\n",
       "  </tbody>\n",
       "</table>\n",
       "</div>"
      ],
      "text/plain": [
       "fam_status             divorced/widowed  living with parents and siblings  \\\n",
       "generation                                                                  \n",
       "Baby Boomers 58-76              1544544                                 0   \n",
       "Gen X 42-57                           0                                 0   \n",
       "Gen Z 18-25                           0                           1135389   \n",
       "Millennials 26-41                     0                                 0   \n",
       "Silent Generation >76            463223                                 0   \n",
       "\n",
       "fam_status             married   single  \n",
       "generation                               \n",
       "Baby Boomers 58-76     5156293   201702  \n",
       "Gen X 42-57            4475676  1461734  \n",
       "Gen Z 18-25            1089666   722000  \n",
       "Millennials 26-41      4418355  1480358  \n",
       "Silent Generation >76  1377123        0  "
      ]
     },
     "execution_count": 44,
     "metadata": {},
     "output_type": "execute_result"
    }
   ],
   "source": [
    "# We take the advantage that we already categories age and now can combine age variable with family status\n",
    "crosstab_fam_age = pd.crosstab(df_high_activity['generation'], df_high_activity['fam_status'])\n",
    "crosstab_fam_age"
   ]
  },
  {
   "cell_type": "code",
   "execution_count": 76,
   "id": "53748668",
   "metadata": {},
   "outputs": [
    {
     "data": {
      "image/png": "[encoded data removed]",
      "text/plain": [
       "<Figure size 720x576 with 1 Axes>"
      ]
     },
     "metadata": {
      "needs_background": "light"
     },
     "output_type": "display_data"
    }
   ],
   "source": [
    "crosstab_fam_age.plot(kind = 'bar', stacked = True )\n",
    "plt.xlabel('Generation')\n",
    "plt.ylabel('Obersavation (in Millions)')\n",
    "plt.title(\"Generation and Family Status\")\n",
    "plt.legend(loc=(1.04,0))\n",
    "plt.tight_layout()\n",
    "plt.rcParams[\"figure.figsize\"] = (10,8)\n",
    "plt.savefig(os.path.join(path,'fam_gen_bar.pdf'))"
   ]
  },
  {
   "cell_type": "markdown",
   "id": "86db36d4",
   "metadata": {},
   "source": [
    "Now looking at the spending habbits between family and generations"
   ]
  },
  {
   "cell_type": "code",
   "execution_count": 52,
   "id": "362dd95a",
   "metadata": {},
   "outputs": [
    {
     "data": {
      "text/html": [
       "<div>\n",
       "<style scoped>\n",
       "    .dataframe tbody tr th:only-of-type {\n",
       "        vertical-align: middle;\n",
       "    }\n",
       "\n",
       "    .dataframe tbody tr th {\n",
       "        vertical-align: top;\n",
       "    }\n",
       "\n",
       "    .dataframe thead th {\n",
       "        text-align: right;\n",
       "    }\n",
       "</style>\n",
       "<table border=\"1\" class=\"dataframe\">\n",
       "  <thead>\n",
       "    <tr style=\"text-align: right;\">\n",
       "      <th>price_range_loc</th>\n",
       "      <th>High-range product</th>\n",
       "      <th>Low-range product</th>\n",
       "      <th>Mid-range product</th>\n",
       "    </tr>\n",
       "    <tr>\n",
       "      <th>fam_status</th>\n",
       "      <th></th>\n",
       "      <th></th>\n",
       "      <th></th>\n",
       "    </tr>\n",
       "  </thead>\n",
       "  <tbody>\n",
       "    <tr>\n",
       "      <th>divorced/widowed</th>\n",
       "      <td>25271</td>\n",
       "      <td>627189</td>\n",
       "      <td>1355307</td>\n",
       "    </tr>\n",
       "    <tr>\n",
       "      <th>living with parents and siblings</th>\n",
       "      <td>14374</td>\n",
       "      <td>354283</td>\n",
       "      <td>766732</td>\n",
       "    </tr>\n",
       "    <tr>\n",
       "      <th>married</th>\n",
       "      <td>209408</td>\n",
       "      <td>5158988</td>\n",
       "      <td>11148717</td>\n",
       "    </tr>\n",
       "    <tr>\n",
       "      <th>single</th>\n",
       "      <td>46733</td>\n",
       "      <td>1207902</td>\n",
       "      <td>2611159</td>\n",
       "    </tr>\n",
       "  </tbody>\n",
       "</table>\n",
       "</div>"
      ],
      "text/plain": [
       "price_range_loc                   High-range product  Low-range product  \\\n",
       "fam_status                                                                \n",
       "divorced/widowed                               25271             627189   \n",
       "living with parents and siblings               14374             354283   \n",
       "married                                       209408            5158988   \n",
       "single                                         46733            1207902   \n",
       "\n",
       "price_range_loc                   Mid-range product  \n",
       "fam_status                                           \n",
       "divorced/widowed                            1355307  \n",
       "living with parents and siblings             766732  \n",
       "married                                    11148717  \n",
       "single                                      2611159  "
      ]
     },
     "execution_count": 52,
     "metadata": {},
     "output_type": "execute_result"
    }
   ],
   "source": [
    "# First we use the 'old price ranges' and then have a look at the newly compute price ranges from above\n",
    "crosstab_spending_fam = pd.crosstab(df_high_activity['fam_status'], df_high_activity['price_range_loc'])\n",
    "crosstab_spending_fam"
   ]
  },
  {
   "cell_type": "code",
   "execution_count": 53,
   "id": "0cc6e347",
   "metadata": {
    "scrolled": true
   },
   "outputs": [
    {
     "data": {
      "text/html": [
       "<div>\n",
       "<style scoped>\n",
       "    .dataframe tbody tr th:only-of-type {\n",
       "        vertical-align: middle;\n",
       "    }\n",
       "\n",
       "    .dataframe tbody tr th {\n",
       "        vertical-align: top;\n",
       "    }\n",
       "\n",
       "    .dataframe thead th {\n",
       "        text-align: right;\n",
       "    }\n",
       "</style>\n",
       "<table border=\"1\" class=\"dataframe\">\n",
       "  <thead>\n",
       "    <tr style=\"text-align: right;\">\n",
       "      <th>Price_Range_New</th>\n",
       "      <th>high range</th>\n",
       "      <th>low range</th>\n",
       "      <th>mid range</th>\n",
       "    </tr>\n",
       "    <tr>\n",
       "      <th>fam_status</th>\n",
       "      <th></th>\n",
       "      <th></th>\n",
       "      <th></th>\n",
       "    </tr>\n",
       "  </thead>\n",
       "  <tbody>\n",
       "    <tr>\n",
       "      <th>divorced/widowed</th>\n",
       "      <td>410958</td>\n",
       "      <td>470940</td>\n",
       "      <td>982896</td>\n",
       "    </tr>\n",
       "    <tr>\n",
       "      <th>living with parents and siblings</th>\n",
       "      <td>233221</td>\n",
       "      <td>266259</td>\n",
       "      <td>555772</td>\n",
       "    </tr>\n",
       "    <tr>\n",
       "      <th>married</th>\n",
       "      <td>3359695</td>\n",
       "      <td>3881275</td>\n",
       "      <td>8113457</td>\n",
       "    </tr>\n",
       "    <tr>\n",
       "      <th>single</th>\n",
       "      <td>785321</td>\n",
       "      <td>908836</td>\n",
       "      <td>1899615</td>\n",
       "    </tr>\n",
       "  </tbody>\n",
       "</table>\n",
       "</div>"
      ],
      "text/plain": [
       "Price_Range_New                   high range  low range  mid range\n",
       "fam_status                                                        \n",
       "divorced/widowed                      410958     470940     982896\n",
       "living with parents and siblings      233221     266259     555772\n",
       "married                              3359695    3881275    8113457\n",
       "single                                785321     908836    1899615"
      ]
     },
     "execution_count": 53,
     "metadata": {},
     "output_type": "execute_result"
    }
   ],
   "source": [
    "crosstab_spending_fam_new = pd.crosstab(df_high_activity['fam_status'], df_high_activity['Price_Range_New'])\n",
    "crosstab_spending_fam_new"
   ]
  },
  {
   "cell_type": "code",
   "execution_count": 75,
   "id": "63e99919",
   "metadata": {},
   "outputs": [
    {
     "data": {
      "image/png": "[encoded data removed]",
      "text/plain": [
       "<Figure size 720x576 with 1 Axes>"
      ]
     },
     "metadata": {
      "needs_background": "light"
     },
     "output_type": "display_data"
    }
   ],
   "source": [
    "crosstab_spending_fam.plot(kind = 'bar', stacked = True )\n",
    "plt.xlabel('Family Status')\n",
    "plt.ylabel('Obersavation (in Millions)')\n",
    "plt.title(\"Price Range Family Status\")\n",
    "plt.legend(loc=(1.04,0))\n",
    "plt.tight_layout()\n",
    "plt.rcParams[\"figure.figsize\"] = (10,8)\n",
    "plt.savefig(os.path.join(path,'price_range_old.pdf'))"
   ]
  },
  {
   "cell_type": "code",
   "execution_count": 88,
   "id": "d7e269cc",
   "metadata": {},
   "outputs": [
    {
     "data": {
      "image/png": "[encoded data removed]",
      "text/plain": [
       "<Figure size 720x576 with 1 Axes>"
      ]
     },
     "metadata": {
      "needs_background": "light"
     },
     "output_type": "display_data"
    }
   ],
   "source": [
    "crosstab_spending_fam_new.plot(kind = 'bar', stacked = True )\n",
    "plt.xlabel('Family Status')\n",
    "plt.ylabel('Obersavation (in Millions)')\n",
    "plt.title(\"Price Range Family Status\")\n",
    "plt.legend(loc=(1.04,0))\n",
    "plt.tight_layout()\n",
    "plt.rcParams[\"figure.figsize\"] = (10,8)\n",
    "plt.savefig(os.path.join(path,'price_range_new.pdf'))"
   ]
  },
  {
   "cell_type": "markdown",
   "id": "0c605616",
   "metadata": {},
   "source": [
    "## Answer:\n",
    "- Comparing these two chart with diffrent condition based on the price we can see that families are mostly buying mid range prodcuts (around the average price).\n",
    "-  A clear difference is when looking at the other types where in the second chart theire shopping baskets contain all 3 price ranges quite balanced.\n",
    "- We can see that the price range calculated with mean and standard deviation are more suitable"
   ]
  },
  {
   "cell_type": "markdown",
   "id": "faa2cd28",
   "metadata": {},
   "source": [
    "## Sub-Qeustion: e\n",
    "e. What different classifications does the demographic information suggest? Age? Income? Certain types of goods? Family status?\""
   ]
  },
  {
   "cell_type": "code",
   "execution_count": 104,
   "id": "6117bfaa",
   "metadata": {},
   "outputs": [
    {
     "data": {
      "text/html": [
       "<div>\n",
       "<style scoped>\n",
       "    .dataframe tbody tr th:only-of-type {\n",
       "        vertical-align: middle;\n",
       "    }\n",
       "\n",
       "    .dataframe tbody tr th {\n",
       "        vertical-align: top;\n",
       "    }\n",
       "\n",
       "    .dataframe thead th {\n",
       "        text-align: right;\n",
       "    }\n",
       "</style>\n",
       "<table border=\"1\" class=\"dataframe\">\n",
       "  <thead>\n",
       "    <tr style=\"text-align: right;\">\n",
       "      <th>income_groups</th>\n",
       "      <th>low income</th>\n",
       "      <th>middle income</th>\n",
       "      <th>upper income</th>\n",
       "    </tr>\n",
       "    <tr>\n",
       "      <th>generation</th>\n",
       "      <th></th>\n",
       "      <th></th>\n",
       "      <th></th>\n",
       "    </tr>\n",
       "  </thead>\n",
       "  <tbody>\n",
       "    <tr>\n",
       "      <th>Baby Boomers 58-76</th>\n",
       "      <td>595995</td>\n",
       "      <td>5389804</td>\n",
       "      <td>916740</td>\n",
       "    </tr>\n",
       "    <tr>\n",
       "      <th>Gen X 42-57</th>\n",
       "      <td>527675</td>\n",
       "      <td>4633602</td>\n",
       "      <td>776133</td>\n",
       "    </tr>\n",
       "    <tr>\n",
       "      <th>Gen Z 18-25</th>\n",
       "      <td>505950</td>\n",
       "      <td>2424975</td>\n",
       "      <td>16130</td>\n",
       "    </tr>\n",
       "    <tr>\n",
       "      <th>Millennials 26-41</th>\n",
       "      <td>974081</td>\n",
       "      <td>4849228</td>\n",
       "      <td>75404</td>\n",
       "    </tr>\n",
       "    <tr>\n",
       "      <th>Silent Generation &gt;76</th>\n",
       "      <td>172361</td>\n",
       "      <td>1441479</td>\n",
       "      <td>226506</td>\n",
       "    </tr>\n",
       "  </tbody>\n",
       "</table>\n",
       "</div>"
      ],
      "text/plain": [
       "income_groups          low income  middle income  upper income\n",
       "generation                                                    \n",
       "Baby Boomers 58-76         595995        5389804        916740\n",
       "Gen X 42-57                527675        4633602        776133\n",
       "Gen Z 18-25                505950        2424975         16130\n",
       "Millennials 26-41          974081        4849228         75404\n",
       "Silent Generation >76      172361        1441479        226506"
      ]
     },
     "execution_count": 104,
     "metadata": {},
     "output_type": "execute_result"
    }
   ],
   "source": [
    "# We already analysed age and family status, now we will cross the generation with income classes\n",
    "crosstab_gen_income=pd.crosstab(df_high_activity['generation'], df_high_activity['income_groups'])\n",
    "crosstab_gen_income"
   ]
  },
  {
   "cell_type": "code",
   "execution_count": 122,
   "id": "75ffa604",
   "metadata": {
    "scrolled": true
   },
   "outputs": [
    {
     "data": {
      "image/png": "[encoded data removed]",
      "text/plain": [
       "<Figure size 720x576 with 1 Axes>"
      ]
     },
     "metadata": {
      "needs_background": "light"
     },
     "output_type": "display_data"
    }
   ],
   "source": [
    "# Here we creat a graph with generation and the income class \n",
    "crosstab_gen_income.plot(kind = 'bar', stacked = True )\n",
    "plt.xlabel('Generation')\n",
    "plt.ylabel('Obersavation (in Millions)')\n",
    "plt.title(\"Generation & Income Class\")\n",
    "plt.legend(loc=(1.04,0))\n",
    "plt.tight_layout()\n",
    "plt.rcParams[\"figure.figsize\"] = (10,8)\n",
    "plt.savefig(os.path.join(path,'gen_income.pdf'))"
   ]
  },
  {
   "cell_type": "code",
   "execution_count": 106,
   "id": "54defec5",
   "metadata": {
    "scrolled": true
   },
   "outputs": [
    {
     "data": {
      "text/html": [
       "<div>\n",
       "<style scoped>\n",
       "    .dataframe tbody tr th:only-of-type {\n",
       "        vertical-align: middle;\n",
       "    }\n",
       "\n",
       "    .dataframe tbody tr th {\n",
       "        vertical-align: top;\n",
       "    }\n",
       "\n",
       "    .dataframe thead th {\n",
       "        text-align: right;\n",
       "    }\n",
       "</style>\n",
       "<table border=\"1\" class=\"dataframe\">\n",
       "  <thead>\n",
       "    <tr style=\"text-align: right;\">\n",
       "      <th>income_groups</th>\n",
       "      <th>low income</th>\n",
       "      <th>middle income</th>\n",
       "      <th>upper income</th>\n",
       "    </tr>\n",
       "    <tr>\n",
       "      <th>fam_status</th>\n",
       "      <th></th>\n",
       "      <th></th>\n",
       "      <th></th>\n",
       "    </tr>\n",
       "  </thead>\n",
       "  <tbody>\n",
       "    <tr>\n",
       "      <th>divorced/widowed</th>\n",
       "      <td>168533</td>\n",
       "      <td>1571585</td>\n",
       "      <td>267649</td>\n",
       "    </tr>\n",
       "    <tr>\n",
       "      <th>living with parents and siblings</th>\n",
       "      <td>190515</td>\n",
       "      <td>936150</td>\n",
       "      <td>8724</td>\n",
       "    </tr>\n",
       "    <tr>\n",
       "      <th>married</th>\n",
       "      <td>1891469</td>\n",
       "      <td>13139025</td>\n",
       "      <td>1486619</td>\n",
       "    </tr>\n",
       "    <tr>\n",
       "      <th>single</th>\n",
       "      <td>525545</td>\n",
       "      <td>3092328</td>\n",
       "      <td>247921</td>\n",
       "    </tr>\n",
       "  </tbody>\n",
       "</table>\n",
       "</div>"
      ],
      "text/plain": [
       "income_groups                     low income  middle income  upper income\n",
       "fam_status                                                               \n",
       "divorced/widowed                      168533        1571585        267649\n",
       "living with parents and siblings      190515         936150          8724\n",
       "married                              1891469       13139025       1486619\n",
       "single                                525545        3092328        247921"
      ]
     },
     "execution_count": 106,
     "metadata": {},
     "output_type": "execute_result"
    }
   ],
   "source": [
    "# Now comparing the income classes with dfamily status\n",
    "crosstab_fam_income=pd.crosstab(df_high_activity['fam_status'], df_high_activity['income_groups'])\n",
    "crosstab_fam_income"
   ]
  },
  {
   "cell_type": "code",
   "execution_count": 111,
   "id": "43870e83",
   "metadata": {},
   "outputs": [
    {
     "data": {
      "image/png": "[encoded data removed]",
      "text/plain": [
       "<Figure size 720x576 with 1 Axes>"
      ]
     },
     "metadata": {
      "needs_background": "light"
     },
     "output_type": "display_data"
    }
   ],
   "source": [
    "# Here we do a graph again\n",
    "crosstab_fam_income.plot(kind = 'bar', stacked = True )\n",
    "plt.xlabel('Family Status')\n",
    "plt.ylabel('Obersavation (in Millions)')\n",
    "plt.title(\"Income Class & Family Status\")\n",
    "plt.legend(loc=(1.04,0))\n",
    "plt.tight_layout()\n",
    "plt.rcParams[\"figure.figsize\"] = (10,8)\n",
    "plt.savefig(os.path.join(path,'fam_income.pdf'))"
   ]
  },
  {
   "cell_type": "code",
   "execution_count": 113,
   "id": "637f2769",
   "metadata": {},
   "outputs": [
    {
     "data": {
      "text/html": [
       "<div>\n",
       "<style scoped>\n",
       "    .dataframe tbody tr th:only-of-type {\n",
       "        vertical-align: middle;\n",
       "    }\n",
       "\n",
       "    .dataframe tbody tr th {\n",
       "        vertical-align: top;\n",
       "    }\n",
       "\n",
       "    .dataframe thead th {\n",
       "        text-align: right;\n",
       "    }\n",
       "</style>\n",
       "<table border=\"1\" class=\"dataframe\">\n",
       "  <thead>\n",
       "    <tr style=\"text-align: right;\">\n",
       "      <th>fam_status</th>\n",
       "      <th>divorced/widowed</th>\n",
       "      <th>living with parents and siblings</th>\n",
       "      <th>married</th>\n",
       "      <th>single</th>\n",
       "    </tr>\n",
       "    <tr>\n",
       "      <th>department_name</th>\n",
       "      <th></th>\n",
       "      <th></th>\n",
       "      <th></th>\n",
       "      <th></th>\n",
       "    </tr>\n",
       "  </thead>\n",
       "  <tbody>\n",
       "    <tr>\n",
       "      <th>alcohol</th>\n",
       "      <td>8327</td>\n",
       "      <td>6083</td>\n",
       "      <td>68341</td>\n",
       "      <td>17665</td>\n",
       "    </tr>\n",
       "    <tr>\n",
       "      <th>babies</th>\n",
       "      <td>26705</td>\n",
       "      <td>15144</td>\n",
       "      <td>226749</td>\n",
       "      <td>54096</td>\n",
       "    </tr>\n",
       "    <tr>\n",
       "      <th>bakery</th>\n",
       "      <td>72732</td>\n",
       "      <td>41345</td>\n",
       "      <td>594759</td>\n",
       "      <td>140374</td>\n",
       "    </tr>\n",
       "    <tr>\n",
       "      <th>beverages(non alc.)</th>\n",
       "      <td>167972</td>\n",
       "      <td>91536</td>\n",
       "      <td>1374728</td>\n",
       "      <td>323958</td>\n",
       "    </tr>\n",
       "    <tr>\n",
       "      <th>breakfast</th>\n",
       "      <td>42626</td>\n",
       "      <td>25475</td>\n",
       "      <td>354965</td>\n",
       "      <td>82752</td>\n",
       "    </tr>\n",
       "    <tr>\n",
       "      <th>bulk</th>\n",
       "      <td>2081</td>\n",
       "      <td>1278</td>\n",
       "      <td>18920</td>\n",
       "      <td>4217</td>\n",
       "    </tr>\n",
       "    <tr>\n",
       "      <th>canned goods</th>\n",
       "      <td>63112</td>\n",
       "      <td>36488</td>\n",
       "      <td>536311</td>\n",
       "      <td>125072</td>\n",
       "    </tr>\n",
       "    <tr>\n",
       "      <th>dairy eggs</th>\n",
       "      <td>338992</td>\n",
       "      <td>193525</td>\n",
       "      <td>2784440</td>\n",
       "      <td>651770</td>\n",
       "    </tr>\n",
       "    <tr>\n",
       "      <th>deli</th>\n",
       "      <td>65683</td>\n",
       "      <td>36436</td>\n",
       "      <td>529879</td>\n",
       "      <td>125537</td>\n",
       "    </tr>\n",
       "    <tr>\n",
       "      <th>dry goods pasta</th>\n",
       "      <td>52313</td>\n",
       "      <td>29738</td>\n",
       "      <td>430697</td>\n",
       "      <td>99580</td>\n",
       "    </tr>\n",
       "    <tr>\n",
       "      <th>frozen</th>\n",
       "      <td>136652</td>\n",
       "      <td>77410</td>\n",
       "      <td>1106741</td>\n",
       "      <td>255599</td>\n",
       "    </tr>\n",
       "    <tr>\n",
       "      <th>household</th>\n",
       "      <td>43314</td>\n",
       "      <td>25018</td>\n",
       "      <td>365128</td>\n",
       "      <td>83133</td>\n",
       "    </tr>\n",
       "    <tr>\n",
       "      <th>international</th>\n",
       "      <td>16296</td>\n",
       "      <td>9321</td>\n",
       "      <td>132825</td>\n",
       "      <td>31803</td>\n",
       "    </tr>\n",
       "    <tr>\n",
       "      <th>meat seafool</th>\n",
       "      <td>43179</td>\n",
       "      <td>24735</td>\n",
       "      <td>359030</td>\n",
       "      <td>80878</td>\n",
       "    </tr>\n",
       "    <tr>\n",
       "      <th>missing</th>\n",
       "      <td>4228</td>\n",
       "      <td>2804</td>\n",
       "      <td>38110</td>\n",
       "      <td>9011</td>\n",
       "    </tr>\n",
       "    <tr>\n",
       "      <th>other</th>\n",
       "      <td>2153</td>\n",
       "      <td>1406</td>\n",
       "      <td>17923</td>\n",
       "      <td>4453</td>\n",
       "    </tr>\n",
       "    <tr>\n",
       "      <th>pantry</th>\n",
       "      <td>113765</td>\n",
       "      <td>64766</td>\n",
       "      <td>935304</td>\n",
       "      <td>217171</td>\n",
       "    </tr>\n",
       "    <tr>\n",
       "      <th>personal care</th>\n",
       "      <td>27135</td>\n",
       "      <td>15209</td>\n",
       "      <td>221614</td>\n",
       "      <td>52154</td>\n",
       "    </tr>\n",
       "    <tr>\n",
       "      <th>pets</th>\n",
       "      <td>5857</td>\n",
       "      <td>4117</td>\n",
       "      <td>47825</td>\n",
       "      <td>11409</td>\n",
       "    </tr>\n",
       "    <tr>\n",
       "      <th>produce</th>\n",
       "      <td>595800</td>\n",
       "      <td>332796</td>\n",
       "      <td>4891909</td>\n",
       "      <td>1149321</td>\n",
       "    </tr>\n",
       "    <tr>\n",
       "      <th>snacks</th>\n",
       "      <td>178845</td>\n",
       "      <td>100759</td>\n",
       "      <td>1480915</td>\n",
       "      <td>345841</td>\n",
       "    </tr>\n",
       "  </tbody>\n",
       "</table>\n",
       "</div>"
      ],
      "text/plain": [
       "fam_status           divorced/widowed  living with parents and siblings  \\\n",
       "department_name                                                           \n",
       "alcohol                          8327                              6083   \n",
       "babies                          26705                             15144   \n",
       "bakery                          72732                             41345   \n",
       "beverages(non alc.)            167972                             91536   \n",
       "breakfast                       42626                             25475   \n",
       "bulk                             2081                              1278   \n",
       "canned goods                    63112                             36488   \n",
       "dairy eggs                     338992                            193525   \n",
       "deli                            65683                             36436   \n",
       "dry goods pasta                 52313                             29738   \n",
       "frozen                         136652                             77410   \n",
       "household                       43314                             25018   \n",
       "international                   16296                              9321   \n",
       "meat seafool                    43179                             24735   \n",
       "missing                          4228                              2804   \n",
       "other                            2153                              1406   \n",
       "pantry                         113765                             64766   \n",
       "personal care                   27135                             15209   \n",
       "pets                             5857                              4117   \n",
       "produce                        595800                            332796   \n",
       "snacks                         178845                            100759   \n",
       "\n",
       "fam_status           married   single  \n",
       "department_name                        \n",
       "alcohol                68341    17665  \n",
       "babies                226749    54096  \n",
       "bakery                594759   140374  \n",
       "beverages(non alc.)  1374728   323958  \n",
       "breakfast             354965    82752  \n",
       "bulk                   18920     4217  \n",
       "canned goods          536311   125072  \n",
       "dairy eggs           2784440   651770  \n",
       "deli                  529879   125537  \n",
       "dry goods pasta       430697    99580  \n",
       "frozen               1106741   255599  \n",
       "household             365128    83133  \n",
       "international         132825    31803  \n",
       "meat seafool          359030    80878  \n",
       "missing                38110     9011  \n",
       "other                  17923     4453  \n",
       "pantry                935304   217171  \n",
       "personal care         221614    52154  \n",
       "pets                   47825    11409  \n",
       "produce              4891909  1149321  \n",
       "snacks               1480915   345841  "
      ]
     },
     "execution_count": 113,
     "metadata": {},
     "output_type": "execute_result"
    }
   ],
   "source": [
    "crosstab_fam_dep=pd.crosstab(df_high_activity['department_name'], df_high_activity['fam_status'])\n",
    "crosstab_fam_dep"
   ]
  },
  {
   "cell_type": "code",
   "execution_count": 114,
   "id": "3a01d86f",
   "metadata": {
    "scrolled": true
   },
   "outputs": [
    {
     "data": {
      "image/png": "[encoded data removed]",
      "text/plain": [
       "<Figure size 720x576 with 1 Axes>"
      ]
     },
     "metadata": {
      "needs_background": "light"
     },
     "output_type": "display_data"
    }
   ],
   "source": [
    "crosstab_fam_dep.plot(kind = 'bar', stacked = True )\n",
    "plt.xlabel('Departments')\n",
    "plt.ylabel('Obersavation (in Millions)')\n",
    "plt.title(\"Departments & Family Status\")\n",
    "plt.legend(loc=(1.04,0))\n",
    "plt.tight_layout()\n",
    "plt.rcParams[\"figure.figsize\"] = (10,8)\n",
    "plt.savefig(os.path.join(path,'dep_fam.pdf'))"
   ]
  },
  {
   "cell_type": "code",
   "execution_count": 118,
   "id": "d3da9557",
   "metadata": {},
   "outputs": [],
   "source": [
    "# Are their difference in when people order based on their family stats\n",
    "crosstab_day_fam= pd.crosstab(df['orders_day_of_week_name'],df['fam_status'])"
   ]
  },
  {
   "cell_type": "code",
   "execution_count": 120,
   "id": "6120b39b",
   "metadata": {
    "scrolled": true
   },
   "outputs": [
    {
     "data": {
      "image/png": "[encoded data removed]",
      "text/plain": [
       "<Figure size 720x576 with 1 Axes>"
      ]
     },
     "metadata": {
      "needs_background": "light"
     },
     "output_type": "display_data"
    }
   ],
   "source": [
    "crosstab_day_fam.plot(kind = 'bar', stacked = True )\n",
    "plt.xlabel('Day of the Week')\n",
    "plt.ylabel('Obersavation (in Millions)')\n",
    "plt.title(\"Week Days & Family Status\")\n",
    "plt.legend(loc=(1.04,0))\n",
    "plt.tight_layout()\n",
    "plt.rcParams[\"figure.figsize\"] = (10,8)\n",
    "plt.savefig(os.path.join(path,'day_fam.pdf'))"
   ]
  },
  {
   "cell_type": "markdown",
   "id": "5f0f4a92",
   "metadata": {},
   "source": [
    "## Answer:\n",
    "- With growing age we can see an increas in income \n",
    "- Families are mostly in the middle income class\n",
    "- We cant see a significant differents in what days of the week people order based on their family status"
   ]
  },
  {
   "cell_type": "markdown",
   "id": "2bfe3297",
   "metadata": {},
   "source": [
    "## Sub_Question: f\n",
    "f. What differences can you find in ordering habits of different customer profiles?"
   ]
  },
  {
   "cell_type": "code",
   "execution_count": null,
   "id": "e0fb6ddb",
   "metadata": {},
   "outputs": [],
   "source": []
  }
 ],
 "metadata": {
  "kernelspec": {
   "display_name": "Python 3 (ipykernel)",
   "language": "python",
   "name": "python3"
  },
  "language_info": {
   "codemirror_mode": {
    "name": "ipython",
    "version": 3
   },
   "file_extension": ".py",
   "mimetype": "text/x-python",
   "name": "python",
   "nbconvert_exporter": "python",
   "pygments_lexer": "ipython3",
   "version": "3.9.7"
  }
 },
 "nbformat": 4,
 "nbformat_minor": 5
}
