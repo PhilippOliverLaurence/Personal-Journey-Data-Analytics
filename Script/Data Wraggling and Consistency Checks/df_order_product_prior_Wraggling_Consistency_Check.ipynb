{
 "cells": [
  {
   "cell_type": "code",
   "execution_count": 1,
   "id": "43e9842f",
   "metadata": {},
   "outputs": [],
   "source": [
    "import pandas as pd\n",
    "import numpy as np\n",
    "import os"
   ]
  },
  {
   "cell_type": "code",
   "execution_count": 2,
   "id": "6ef18c1f",
   "metadata": {},
   "outputs": [],
   "source": [
    "path = r'/Users/pgtips/Desktop/Instacart Basket Analysis/02.Data/Original Data'"
   ]
  },
  {
   "cell_type": "markdown",
   "id": "2e4e087d",
   "metadata": {},
   "source": [
    "# order_products_prior_df"
   ]
  },
  {
   "cell_type": "code",
   "execution_count": 3,
   "id": "62651116",
   "metadata": {
    "scrolled": true
   },
   "outputs": [],
   "source": [
    "df_ord_prod = pd.read_csv(os.path.join(path,'order_products__prior.csv'),index_col = False)"
   ]
  },
  {
   "cell_type": "code",
   "execution_count": 4,
   "id": "9bb560a4",
   "metadata": {},
   "outputs": [
    {
     "data": {
      "text/plain": [
       "(32434489, 4)"
      ]
     },
     "execution_count": 4,
     "metadata": {},
     "output_type": "execute_result"
    }
   ],
   "source": [
    "df_ord_prod.shape"
   ]
  },
  {
   "cell_type": "code",
   "execution_count": 5,
   "id": "5efa9bce",
   "metadata": {},
   "outputs": [
    {
     "data": {
      "text/html": [
       "<div>\n",
       "<style scoped>\n",
       "    .dataframe tbody tr th:only-of-type {\n",
       "        vertical-align: middle;\n",
       "    }\n",
       "\n",
       "    .dataframe tbody tr th {\n",
       "        vertical-align: top;\n",
       "    }\n",
       "\n",
       "    .dataframe thead th {\n",
       "        text-align: right;\n",
       "    }\n",
       "</style>\n",
       "<table border=\"1\" class=\"dataframe\">\n",
       "  <thead>\n",
       "    <tr style=\"text-align: right;\">\n",
       "      <th></th>\n",
       "      <th>order_id</th>\n",
       "      <th>product_id</th>\n",
       "      <th>add_to_cart_order</th>\n",
       "      <th>reordered</th>\n",
       "    </tr>\n",
       "  </thead>\n",
       "  <tbody>\n",
       "    <tr>\n",
       "      <th>0</th>\n",
       "      <td>2</td>\n",
       "      <td>33120</td>\n",
       "      <td>1</td>\n",
       "      <td>1</td>\n",
       "    </tr>\n",
       "  </tbody>\n",
       "</table>\n",
       "</div>"
      ],
      "text/plain": [
       "   order_id  product_id  add_to_cart_order  reordered\n",
       "0         2       33120                  1          1"
      ]
     },
     "execution_count": 5,
     "metadata": {},
     "output_type": "execute_result"
    }
   ],
   "source": [
    "df_ord_prod.head(1)"
   ]
  },
  {
   "cell_type": "code",
   "execution_count": 6,
   "id": "7e841a70",
   "metadata": {},
   "outputs": [
    {
     "data": {
      "text/plain": [
       "order_id             int64\n",
       "product_id           int64\n",
       "add_to_cart_order    int64\n",
       "reordered            int64\n",
       "dtype: object"
      ]
     },
     "execution_count": 6,
     "metadata": {},
     "output_type": "execute_result"
    }
   ],
   "source": [
    "df_ord_prod.dtypes"
   ]
  },
  {
   "cell_type": "markdown",
   "id": "366dc962",
   "metadata": {},
   "source": [
    "##### We have to change the dtype of all 'id' in order to merge "
   ]
  },
  {
   "cell_type": "code",
   "execution_count": 7,
   "id": "aa6a4540",
   "metadata": {},
   "outputs": [],
   "source": [
    "df_ord_prod['product_id'] = df_ord_prod['product_id'].astype(str)\n",
    "df_ord_prod['order_id'] = df_ord_prod['order_id'].astype(str)"
   ]
  },
  {
   "cell_type": "code",
   "execution_count": 8,
   "id": "22799aca",
   "metadata": {
    "scrolled": true
   },
   "outputs": [
    {
     "data": {
      "text/plain": [
       "order_id             object\n",
       "product_id           object\n",
       "add_to_cart_order     int64\n",
       "reordered             int64\n",
       "dtype: object"
      ]
     },
     "execution_count": 8,
     "metadata": {},
     "output_type": "execute_result"
    }
   ],
   "source": [
    "df_ord_prod.dtypes"
   ]
  },
  {
   "cell_type": "markdown",
   "id": "0371efca",
   "metadata": {},
   "source": [
    "# Duplicates"
   ]
  },
  {
   "cell_type": "code",
   "execution_count": 9,
   "id": "52ea58b2",
   "metadata": {},
   "outputs": [],
   "source": [
    "for col in df_ord_prod.columns.tolist():\n",
    "  weird = (df_ord_prod[[col]].applymap(type) != df_ord_prod[[col]].iloc[0].apply(type)).any(axis = 1)\n",
    "  if len (df_ord_prod[weird]) > 0:\n",
    "    print (col)"
   ]
  },
  {
   "cell_type": "markdown",
   "id": "d1c17d0f",
   "metadata": {},
   "source": [
    "##### no duplicates"
   ]
  },
  {
   "cell_type": "markdown",
   "id": "3af4fdf9",
   "metadata": {},
   "source": [
    "### Missing Values"
   ]
  },
  {
   "cell_type": "code",
   "execution_count": 10,
   "id": "834b2a8c",
   "metadata": {
    "scrolled": true
   },
   "outputs": [
    {
     "data": {
      "text/plain": [
       "order_id             0\n",
       "product_id           0\n",
       "add_to_cart_order    0\n",
       "reordered            0\n",
       "dtype: int64"
      ]
     },
     "execution_count": 10,
     "metadata": {},
     "output_type": "execute_result"
    }
   ],
   "source": [
    "df_ord_prod.isnull().sum()"
   ]
  },
  {
   "cell_type": "markdown",
   "id": "c04440da",
   "metadata": {},
   "source": [
    "##### no missing values"
   ]
  },
  {
   "cell_type": "markdown",
   "id": "83a51192",
   "metadata": {},
   "source": [
    "### Descriptive Stat"
   ]
  },
  {
   "cell_type": "code",
   "execution_count": 11,
   "id": "2467d03a",
   "metadata": {
    "scrolled": false
   },
   "outputs": [
    {
     "data": {
      "text/html": [
       "<div>\n",
       "<style scoped>\n",
       "    .dataframe tbody tr th:only-of-type {\n",
       "        vertical-align: middle;\n",
       "    }\n",
       "\n",
       "    .dataframe tbody tr th {\n",
       "        vertical-align: top;\n",
       "    }\n",
       "\n",
       "    .dataframe thead th {\n",
       "        text-align: right;\n",
       "    }\n",
       "</style>\n",
       "<table border=\"1\" class=\"dataframe\">\n",
       "  <thead>\n",
       "    <tr style=\"text-align: right;\">\n",
       "      <th></th>\n",
       "      <th>add_to_cart_order</th>\n",
       "      <th>reordered</th>\n",
       "    </tr>\n",
       "  </thead>\n",
       "  <tbody>\n",
       "    <tr>\n",
       "      <th>count</th>\n",
       "      <td>3.24345e+07</td>\n",
       "      <td>3.24345e+07</td>\n",
       "    </tr>\n",
       "    <tr>\n",
       "      <th>mean</th>\n",
       "      <td>8.35108</td>\n",
       "      <td>0.589697</td>\n",
       "    </tr>\n",
       "    <tr>\n",
       "      <th>std</th>\n",
       "      <td>7.12667</td>\n",
       "      <td>0.491889</td>\n",
       "    </tr>\n",
       "    <tr>\n",
       "      <th>min</th>\n",
       "      <td>1</td>\n",
       "      <td>0</td>\n",
       "    </tr>\n",
       "    <tr>\n",
       "      <th>25%</th>\n",
       "      <td>3</td>\n",
       "      <td>0</td>\n",
       "    </tr>\n",
       "    <tr>\n",
       "      <th>50%</th>\n",
       "      <td>6</td>\n",
       "      <td>1</td>\n",
       "    </tr>\n",
       "    <tr>\n",
       "      <th>75%</th>\n",
       "      <td>11</td>\n",
       "      <td>1</td>\n",
       "    </tr>\n",
       "    <tr>\n",
       "      <th>max</th>\n",
       "      <td>145</td>\n",
       "      <td>1</td>\n",
       "    </tr>\n",
       "  </tbody>\n",
       "</table>\n",
       "</div>"
      ],
      "text/plain": [
       "      add_to_cart_order    reordered\n",
       "count       3.24345e+07  3.24345e+07\n",
       "mean            8.35108     0.589697\n",
       "std             7.12667     0.491889\n",
       "min                   1            0\n",
       "25%                   3            0\n",
       "50%                   6            1\n",
       "75%                  11            1\n",
       "max                 145            1"
      ]
     },
     "execution_count": 11,
     "metadata": {},
     "output_type": "execute_result"
    }
   ],
   "source": [
    "df_ord_prod.describe().apply(lambda s: s.apply(lambda x: format(x, 'g')))"
   ]
  },
  {
   "cell_type": "code",
   "execution_count": 30,
   "id": "052b3a5b",
   "metadata": {},
   "outputs": [],
   "source": [
    "df_ord_prod_outliner = df_ord_prod[df_ord_prod['add_to_cart_order']>=40]"
   ]
  },
  {
   "cell_type": "code",
   "execution_count": 31,
   "id": "9358d36e",
   "metadata": {},
   "outputs": [
    {
     "data": {
      "text/plain": [
       "(91828, 4)"
      ]
     },
     "execution_count": 31,
     "metadata": {},
     "output_type": "execute_result"
    }
   ],
   "source": [
    "df_ord_prod_outliner.shape"
   ]
  },
  {
   "cell_type": "markdown",
   "id": "379db9fa",
   "metadata": {},
   "source": [
    "##### We clean routhly 0. 3% of the data frame "
   ]
  },
  {
   "cell_type": "code",
   "execution_count": 32,
   "id": "2e4791b7",
   "metadata": {},
   "outputs": [],
   "source": [
    "df_ord_prod = df_ord_prod[df_ord_prod['add_to_cart_order']<=40]"
   ]
  },
  {
   "cell_type": "code",
   "execution_count": 34,
   "id": "57e4150a",
   "metadata": {},
   "outputs": [
    {
     "data": {
      "text/plain": [
       "(32332262, 4)"
      ]
     },
     "execution_count": 34,
     "metadata": {},
     "output_type": "execute_result"
    }
   ],
   "source": [
    "df_ord_prod.shape"
   ]
  },
  {
   "cell_type": "code",
   "execution_count": 35,
   "id": "a6335afe",
   "metadata": {},
   "outputs": [
    {
     "data": {
      "text/html": [
       "<div>\n",
       "<style scoped>\n",
       "    .dataframe tbody tr th:only-of-type {\n",
       "        vertical-align: middle;\n",
       "    }\n",
       "\n",
       "    .dataframe tbody tr th {\n",
       "        vertical-align: top;\n",
       "    }\n",
       "\n",
       "    .dataframe thead th {\n",
       "        text-align: right;\n",
       "    }\n",
       "</style>\n",
       "<table border=\"1\" class=\"dataframe\">\n",
       "  <thead>\n",
       "    <tr style=\"text-align: right;\">\n",
       "      <th></th>\n",
       "      <th>add_to_cart_order</th>\n",
       "      <th>reordered</th>\n",
       "    </tr>\n",
       "  </thead>\n",
       "  <tbody>\n",
       "    <tr>\n",
       "      <th>count</th>\n",
       "      <td>3.23323e+07</td>\n",
       "      <td>3.23323e+07</td>\n",
       "    </tr>\n",
       "    <tr>\n",
       "      <th>mean</th>\n",
       "      <td>8.22476</td>\n",
       "      <td>0.590272</td>\n",
       "    </tr>\n",
       "    <tr>\n",
       "      <th>std</th>\n",
       "      <td>6.75543</td>\n",
       "      <td>0.491783</td>\n",
       "    </tr>\n",
       "    <tr>\n",
       "      <th>min</th>\n",
       "      <td>1</td>\n",
       "      <td>0</td>\n",
       "    </tr>\n",
       "    <tr>\n",
       "      <th>25%</th>\n",
       "      <td>3</td>\n",
       "      <td>0</td>\n",
       "    </tr>\n",
       "    <tr>\n",
       "      <th>50%</th>\n",
       "      <td>6</td>\n",
       "      <td>1</td>\n",
       "    </tr>\n",
       "    <tr>\n",
       "      <th>75%</th>\n",
       "      <td>11</td>\n",
       "      <td>1</td>\n",
       "    </tr>\n",
       "    <tr>\n",
       "      <th>max</th>\n",
       "      <td>40</td>\n",
       "      <td>1</td>\n",
       "    </tr>\n",
       "  </tbody>\n",
       "</table>\n",
       "</div>"
      ],
      "text/plain": [
       "      add_to_cart_order    reordered\n",
       "count       3.23323e+07  3.23323e+07\n",
       "mean            8.22476     0.590272\n",
       "std             6.75543     0.491783\n",
       "min                   1            0\n",
       "25%                   3            0\n",
       "50%                   6            1\n",
       "75%                  11            1\n",
       "max                  40            1"
      ]
     },
     "execution_count": 35,
     "metadata": {},
     "output_type": "execute_result"
    }
   ],
   "source": [
    "df_ord_prod.describe().apply(lambda s: s.apply(lambda x: format(x, 'g')))"
   ]
  },
  {
   "cell_type": "code",
   "execution_count": 33,
   "id": "b3ba173f",
   "metadata": {
    "scrolled": true
   },
   "outputs": [],
   "source": [
    "df_ord_prod.to_csv(r'/Users/pgtips/Desktop/Instacart Basket Analysis/05 Sent to Clint/Prepared Data/order_products_prior.csv', index = False)"
   ]
  },
  {
   "cell_type": "code",
   "execution_count": 36,
   "id": "a9134422",
   "metadata": {},
   "outputs": [
    {
     "data": {
      "text/plain": [
       "(32332262, 4)"
      ]
     },
     "execution_count": 36,
     "metadata": {},
     "output_type": "execute_result"
    }
   ],
   "source": [
    "df_ord_prod.shape"
   ]
  },
  {
   "cell_type": "code",
   "execution_count": null,
   "id": "52d48048",
   "metadata": {},
   "outputs": [],
   "source": []
  }
 ],
 "metadata": {
  "kernelspec": {
   "display_name": "Python 3 (ipykernel)",
   "language": "python",
   "name": "python3"
  },
  "language_info": {
   "codemirror_mode": {
    "name": "ipython",
    "version": 3
   },
   "file_extension": ".py",
   "mimetype": "text/x-python",
   "name": "python",
   "nbconvert_exporter": "python",
   "pygments_lexer": "ipython3",
   "version": "3.9.7"
  }
 },
 "nbformat": 4,
 "nbformat_minor": 5
}
