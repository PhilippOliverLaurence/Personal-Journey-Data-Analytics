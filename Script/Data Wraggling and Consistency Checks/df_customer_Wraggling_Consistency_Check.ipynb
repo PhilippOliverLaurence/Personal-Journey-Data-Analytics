{
 "cells": [
  {
   "cell_type": "code",
   "execution_count": 2,
   "id": "43e9842f",
   "metadata": {},
   "outputs": [],
   "source": [
    "import pandas as pd\n",
    "import numpy as np\n",
    "import os"
   ]
  },
  {
   "cell_type": "code",
   "execution_count": 3,
   "id": "6ef18c1f",
   "metadata": {},
   "outputs": [],
   "source": [
    "path = r'/Users/pgtips/Desktop/Instacart Basket Analysis/02.Data/Original Data'"
   ]
  },
  {
   "cell_type": "markdown",
   "id": "127f50a2",
   "metadata": {},
   "source": [
    "# Customer_df"
   ]
  },
  {
   "cell_type": "code",
   "execution_count": 31,
   "id": "bc7cc6b9",
   "metadata": {},
   "outputs": [],
   "source": [
    "df_custs = pd.read_csv(os.path.join(path, 'customers.csv'), index_col = False)"
   ]
  },
  {
   "cell_type": "code",
   "execution_count": 32,
   "id": "b00edc54",
   "metadata": {
    "scrolled": true
   },
   "outputs": [
    {
     "data": {
      "text/plain": [
       "(206209, 10)"
      ]
     },
     "execution_count": 32,
     "metadata": {},
     "output_type": "execute_result"
    }
   ],
   "source": [
    "df_custs.shape"
   ]
  },
  {
   "cell_type": "code",
   "execution_count": 33,
   "id": "663f96bd",
   "metadata": {},
   "outputs": [
    {
     "data": {
      "text/html": [
       "<div>\n",
       "<style scoped>\n",
       "    .dataframe tbody tr th:only-of-type {\n",
       "        vertical-align: middle;\n",
       "    }\n",
       "\n",
       "    .dataframe tbody tr th {\n",
       "        vertical-align: top;\n",
       "    }\n",
       "\n",
       "    .dataframe thead th {\n",
       "        text-align: right;\n",
       "    }\n",
       "</style>\n",
       "<table border=\"1\" class=\"dataframe\">\n",
       "  <thead>\n",
       "    <tr style=\"text-align: right;\">\n",
       "      <th></th>\n",
       "      <th>user_id</th>\n",
       "      <th>First Name</th>\n",
       "      <th>Surnam</th>\n",
       "      <th>Gender</th>\n",
       "      <th>STATE</th>\n",
       "      <th>Age</th>\n",
       "      <th>date_joined</th>\n",
       "      <th>n_dependants</th>\n",
       "      <th>fam_status</th>\n",
       "      <th>income</th>\n",
       "    </tr>\n",
       "  </thead>\n",
       "  <tbody>\n",
       "    <tr>\n",
       "      <th>0</th>\n",
       "      <td>26711</td>\n",
       "      <td>Deborah</td>\n",
       "      <td>Esquivel</td>\n",
       "      <td>Female</td>\n",
       "      <td>Missouri</td>\n",
       "      <td>48</td>\n",
       "      <td>1/1/2017</td>\n",
       "      <td>3</td>\n",
       "      <td>married</td>\n",
       "      <td>165665</td>\n",
       "    </tr>\n",
       "  </tbody>\n",
       "</table>\n",
       "</div>"
      ],
      "text/plain": [
       "   user_id First Name    Surnam  Gender     STATE  Age date_joined  \\\n",
       "0    26711    Deborah  Esquivel  Female  Missouri   48    1/1/2017   \n",
       "\n",
       "   n_dependants fam_status  income  \n",
       "0             3    married  165665  "
      ]
     },
     "execution_count": 33,
     "metadata": {},
     "output_type": "execute_result"
    }
   ],
   "source": [
    "df_custs.head(1)"
   ]
  },
  {
   "cell_type": "code",
   "execution_count": 34,
   "id": "7f8a9eb3",
   "metadata": {},
   "outputs": [
    {
     "data": {
      "text/plain": [
       "user_id          int64\n",
       "First Name      object\n",
       "Surnam          object\n",
       "Gender          object\n",
       "STATE           object\n",
       "Age              int64\n",
       "date_joined     object\n",
       "n_dependants     int64\n",
       "fam_status      object\n",
       "income           int64\n",
       "dtype: object"
      ]
     },
     "execution_count": 34,
     "metadata": {},
     "output_type": "execute_result"
    }
   ],
   "source": [
    "df_custs.dtypes"
   ]
  },
  {
   "cell_type": "markdown",
   "id": "91ffc53d",
   "metadata": {},
   "source": [
    "##### We have to change the dtype of  and 'user_id' as its a unique combination of numbers, to make sure that the system doesnt see it as numbers"
   ]
  },
  {
   "cell_type": "code",
   "execution_count": 35,
   "id": "884c68d6",
   "metadata": {},
   "outputs": [],
   "source": [
    "df_custs['user_id'] = df_custs['user_id'].astype(str)"
   ]
  },
  {
   "cell_type": "code",
   "execution_count": 36,
   "id": "a7ab636a",
   "metadata": {
    "scrolled": true
   },
   "outputs": [
    {
     "data": {
      "text/plain": [
       "user_id         object\n",
       "First Name      object\n",
       "Surnam          object\n",
       "Gender          object\n",
       "STATE           object\n",
       "Age              int64\n",
       "date_joined     object\n",
       "n_dependants     int64\n",
       "fam_status      object\n",
       "income           int64\n",
       "dtype: object"
      ]
     },
     "execution_count": 36,
     "metadata": {},
     "output_type": "execute_result"
    }
   ],
   "source": [
    "df_custs.dtypes"
   ]
  },
  {
   "cell_type": "markdown",
   "id": "c489240e",
   "metadata": {},
   "source": [
    "##### Since changing the dtype we can check for mixed dtypes with the code below"
   ]
  },
  {
   "cell_type": "code",
   "execution_count": 37,
   "id": "b9b6057c",
   "metadata": {},
   "outputs": [
    {
     "name": "stdout",
     "output_type": "stream",
     "text": [
      "First Name\n"
     ]
    }
   ],
   "source": [
    "for col in df_custs.columns.tolist():\n",
    "  weird = (df_custs[[col]].applymap(type) != df_custs[[col]].iloc[0].apply(type)).any(axis = 1)\n",
    "  if len (df_custs[weird]) > 0:\n",
    "    print (col)"
   ]
  },
  {
   "cell_type": "markdown",
   "id": "c6002c39",
   "metadata": {},
   "source": [
    "##### thats fine since first names could be dobble"
   ]
  },
  {
   "cell_type": "markdown",
   "id": "c243b5e3",
   "metadata": {},
   "source": [
    "### Missing Values"
   ]
  },
  {
   "cell_type": "code",
   "execution_count": 38,
   "id": "2eb8f170",
   "metadata": {
    "scrolled": false
   },
   "outputs": [
    {
     "data": {
      "text/plain": [
       "user_id             0\n",
       "First Name      11259\n",
       "Surnam              0\n",
       "Gender              0\n",
       "STATE               0\n",
       "Age                 0\n",
       "date_joined         0\n",
       "n_dependants        0\n",
       "fam_status          0\n",
       "income              0\n",
       "dtype: int64"
      ]
     },
     "execution_count": 38,
     "metadata": {},
     "output_type": "execute_result"
    }
   ],
   "source": [
    "df_custs.isnull().sum()"
   ]
  },
  {
   "cell_type": "markdown",
   "id": "e04d9f0b",
   "metadata": {},
   "source": [
    "##### its fine for our analysis to not have all names"
   ]
  },
  {
   "cell_type": "markdown",
   "id": "af852c2a",
   "metadata": {},
   "source": [
    "# PII"
   ]
  },
  {
   "cell_type": "markdown",
   "id": "0ffc73a8",
   "metadata": {},
   "source": [
    "##### In order to confine with the law and ethics we have to delete the columns Surname and First Name in order to proctect our customers. The unique user_id give us more then enouth for our analysis and helps protect our customers"
   ]
  },
  {
   "cell_type": "code",
   "execution_count": 39,
   "id": "6a632677",
   "metadata": {},
   "outputs": [],
   "source": [
    "df_custs = df_custs.drop(['First Name','Surnam'],axis=1)"
   ]
  },
  {
   "cell_type": "code",
   "execution_count": 40,
   "id": "bb67efaf",
   "metadata": {
    "scrolled": true
   },
   "outputs": [
    {
     "data": {
      "text/plain": [
       "Index(['user_id', 'Gender', 'STATE', 'Age', 'date_joined', 'n_dependants',\n",
       "       'fam_status', 'income'],\n",
       "      dtype='object')"
      ]
     },
     "execution_count": 40,
     "metadata": {},
     "output_type": "execute_result"
    }
   ],
   "source": [
    "df_custs.columns"
   ]
  },
  {
   "cell_type": "markdown",
   "id": "0950838d",
   "metadata": {},
   "source": [
    "##### Now that we drop names we can provided with duplicate check"
   ]
  },
  {
   "cell_type": "markdown",
   "id": "4a68a531",
   "metadata": {},
   "source": [
    "### Duplicates"
   ]
  },
  {
   "cell_type": "code",
   "execution_count": 41,
   "id": "6cd8876c",
   "metadata": {},
   "outputs": [],
   "source": [
    "df_dups_custs = df_custs[df_custs.duplicated()]"
   ]
  },
  {
   "cell_type": "code",
   "execution_count": 42,
   "id": "2d1eda04",
   "metadata": {},
   "outputs": [
    {
     "data": {
      "text/plain": [
       "(0, 8)"
      ]
     },
     "execution_count": 42,
     "metadata": {},
     "output_type": "execute_result"
    }
   ],
   "source": [
    "df_dups_custs.shape"
   ]
  },
  {
   "cell_type": "markdown",
   "id": "c488eadd",
   "metadata": {},
   "source": [
    "##### No duplicates been found"
   ]
  },
  {
   "cell_type": "markdown",
   "id": "5203c38a",
   "metadata": {},
   "source": [
    "### Descriptive Stat"
   ]
  },
  {
   "cell_type": "code",
   "execution_count": 43,
   "id": "e5aaba09",
   "metadata": {
    "scrolled": false
   },
   "outputs": [
    {
     "data": {
      "text/html": [
       "<div>\n",
       "<style scoped>\n",
       "    .dataframe tbody tr th:only-of-type {\n",
       "        vertical-align: middle;\n",
       "    }\n",
       "\n",
       "    .dataframe tbody tr th {\n",
       "        vertical-align: top;\n",
       "    }\n",
       "\n",
       "    .dataframe thead th {\n",
       "        text-align: right;\n",
       "    }\n",
       "</style>\n",
       "<table border=\"1\" class=\"dataframe\">\n",
       "  <thead>\n",
       "    <tr style=\"text-align: right;\">\n",
       "      <th></th>\n",
       "      <th>Age</th>\n",
       "      <th>n_dependants</th>\n",
       "      <th>income</th>\n",
       "    </tr>\n",
       "  </thead>\n",
       "  <tbody>\n",
       "    <tr>\n",
       "      <th>count</th>\n",
       "      <td>206209</td>\n",
       "      <td>206209</td>\n",
       "      <td>206209</td>\n",
       "    </tr>\n",
       "    <tr>\n",
       "      <th>mean</th>\n",
       "      <td>49.5016</td>\n",
       "      <td>1.49982</td>\n",
       "      <td>94632.9</td>\n",
       "    </tr>\n",
       "    <tr>\n",
       "      <th>std</th>\n",
       "      <td>18.481</td>\n",
       "      <td>1.11843</td>\n",
       "      <td>42473.8</td>\n",
       "    </tr>\n",
       "    <tr>\n",
       "      <th>min</th>\n",
       "      <td>18</td>\n",
       "      <td>0</td>\n",
       "      <td>25903</td>\n",
       "    </tr>\n",
       "    <tr>\n",
       "      <th>25%</th>\n",
       "      <td>33</td>\n",
       "      <td>0</td>\n",
       "      <td>59874</td>\n",
       "    </tr>\n",
       "    <tr>\n",
       "      <th>50%</th>\n",
       "      <td>49</td>\n",
       "      <td>1</td>\n",
       "      <td>93547</td>\n",
       "    </tr>\n",
       "    <tr>\n",
       "      <th>75%</th>\n",
       "      <td>66</td>\n",
       "      <td>3</td>\n",
       "      <td>124244</td>\n",
       "    </tr>\n",
       "    <tr>\n",
       "      <th>max</th>\n",
       "      <td>81</td>\n",
       "      <td>3</td>\n",
       "      <td>593901</td>\n",
       "    </tr>\n",
       "  </tbody>\n",
       "</table>\n",
       "</div>"
      ],
      "text/plain": [
       "           Age n_dependants   income\n",
       "count   206209       206209   206209\n",
       "mean   49.5016      1.49982  94632.9\n",
       "std     18.481      1.11843  42473.8\n",
       "min         18            0    25903\n",
       "25%         33            0    59874\n",
       "50%         49            1    93547\n",
       "75%         66            3   124244\n",
       "max         81            3   593901"
      ]
     },
     "execution_count": 43,
     "metadata": {},
     "output_type": "execute_result"
    }
   ],
   "source": [
    "df_custs.describe().apply(lambda s: s.apply(lambda x: format(x, 'g')))"
   ]
  },
  {
   "cell_type": "code",
   "execution_count": 44,
   "id": "a33336f1",
   "metadata": {
    "scrolled": true
   },
   "outputs": [],
   "source": [
    "df_outliner = df_custs[df_custs['income'] >= 220000]"
   ]
  },
  {
   "cell_type": "code",
   "execution_count": 45,
   "id": "d5a85050",
   "metadata": {},
   "outputs": [
    {
     "data": {
      "text/plain": [
       "(878, 8)"
      ]
     },
     "execution_count": 45,
     "metadata": {},
     "output_type": "execute_result"
    }
   ],
   "source": [
    "df_outliner.shape"
   ]
  },
  {
   "cell_type": "code",
   "execution_count": 46,
   "id": "68d01133",
   "metadata": {
    "scrolled": false
   },
   "outputs": [],
   "source": [
    "df_custs = df_custs[df_custs['income'] <=220000]"
   ]
  },
  {
   "cell_type": "code",
   "execution_count": 47,
   "id": "81c057ae",
   "metadata": {},
   "outputs": [
    {
     "data": {
      "text/plain": [
       "(205331, 8)"
      ]
     },
     "execution_count": 47,
     "metadata": {},
     "output_type": "execute_result"
    }
   ],
   "source": [
    "df_custs.shape"
   ]
  },
  {
   "cell_type": "code",
   "execution_count": 48,
   "id": "6b2f09ac",
   "metadata": {},
   "outputs": [
    {
     "data": {
      "text/html": [
       "<div>\n",
       "<style scoped>\n",
       "    .dataframe tbody tr th:only-of-type {\n",
       "        vertical-align: middle;\n",
       "    }\n",
       "\n",
       "    .dataframe tbody tr th {\n",
       "        vertical-align: top;\n",
       "    }\n",
       "\n",
       "    .dataframe thead th {\n",
       "        text-align: right;\n",
       "    }\n",
       "</style>\n",
       "<table border=\"1\" class=\"dataframe\">\n",
       "  <thead>\n",
       "    <tr style=\"text-align: right;\">\n",
       "      <th></th>\n",
       "      <th>Age</th>\n",
       "      <th>n_dependants</th>\n",
       "      <th>income</th>\n",
       "    </tr>\n",
       "  </thead>\n",
       "  <tbody>\n",
       "    <tr>\n",
       "      <th>count</th>\n",
       "      <td>205331</td>\n",
       "      <td>205331</td>\n",
       "      <td>205331</td>\n",
       "    </tr>\n",
       "    <tr>\n",
       "      <th>mean</th>\n",
       "      <td>49.4793</td>\n",
       "      <td>1.49977</td>\n",
       "      <td>93640.7</td>\n",
       "    </tr>\n",
       "    <tr>\n",
       "      <th>std</th>\n",
       "      <td>18.4865</td>\n",
       "      <td>1.11844</td>\n",
       "      <td>39284.8</td>\n",
       "    </tr>\n",
       "    <tr>\n",
       "      <th>min</th>\n",
       "      <td>18</td>\n",
       "      <td>0</td>\n",
       "      <td>25903</td>\n",
       "    </tr>\n",
       "    <tr>\n",
       "      <th>25%</th>\n",
       "      <td>33</td>\n",
       "      <td>0</td>\n",
       "      <td>59753</td>\n",
       "    </tr>\n",
       "    <tr>\n",
       "      <th>50%</th>\n",
       "      <td>49</td>\n",
       "      <td>1</td>\n",
       "      <td>93371</td>\n",
       "    </tr>\n",
       "    <tr>\n",
       "      <th>75%</th>\n",
       "      <td>65</td>\n",
       "      <td>3</td>\n",
       "      <td>123655</td>\n",
       "    </tr>\n",
       "    <tr>\n",
       "      <th>max</th>\n",
       "      <td>81</td>\n",
       "      <td>3</td>\n",
       "      <td>219959</td>\n",
       "    </tr>\n",
       "  </tbody>\n",
       "</table>\n",
       "</div>"
      ],
      "text/plain": [
       "           Age n_dependants   income\n",
       "count   205331       205331   205331\n",
       "mean   49.4793      1.49977  93640.7\n",
       "std    18.4865      1.11844  39284.8\n",
       "min         18            0    25903\n",
       "25%         33            0    59753\n",
       "50%         49            1    93371\n",
       "75%         65            3   123655\n",
       "max         81            3   219959"
      ]
     },
     "execution_count": 48,
     "metadata": {},
     "output_type": "execute_result"
    }
   ],
   "source": [
    "df_custs.describe().apply(lambda s: s.apply(lambda x: format(x, 'g')))"
   ]
  },
  {
   "cell_type": "code",
   "execution_count": 49,
   "id": "bbf68867",
   "metadata": {},
   "outputs": [],
   "source": [
    "df_custs.to_csv(r'/Users/pgtips/Desktop/Instacart Basket Analysis/05 Sent to Clint/Prepared Data/customers.csv', index = False)"
   ]
  }
 ],
 "metadata": {
  "kernelspec": {
   "display_name": "Python 3 (ipykernel)",
   "language": "python",
   "name": "python3"
  },
  "language_info": {
   "codemirror_mode": {
    "name": "ipython",
    "version": 3
   },
   "file_extension": ".py",
   "mimetype": "text/x-python",
   "name": "python",
   "nbconvert_exporter": "python",
   "pygments_lexer": "ipython3",
   "version": "3.9.7"
  }
 },
 "nbformat": 4,
 "nbformat_minor": 5
}
