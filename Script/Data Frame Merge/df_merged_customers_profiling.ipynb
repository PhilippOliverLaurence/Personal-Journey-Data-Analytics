{
 "cells": [
  {
   "cell_type": "markdown",
   "id": "3b005245",
   "metadata": {},
   "source": [
    "Based on customer behaviour we transform metric variable into new ordinal varibales to easier understand and demonstrate customers behaviour (spending, loyalty,...) and demographics (generation, regions,...)"
   ]
  },
  {
   "cell_type": "code",
   "execution_count": 3,
   "id": "cb68e452",
   "metadata": {},
   "outputs": [],
   "source": [
    "import pandas as pd\n",
    "import numpy as np\n",
    "import os"
   ]
  },
  {
   "cell_type": "code",
   "execution_count": 4,
   "id": "bf5bd142",
   "metadata": {},
   "outputs": [],
   "source": [
    "path='/Users/pgtips/Desktop/Instacart Basket Analysis/05 Sent to Clint'"
   ]
  },
  {
   "cell_type": "markdown",
   "id": "c1e1423c",
   "metadata": {},
   "source": [
    "# Importing merged df"
   ]
  },
  {
   "cell_type": "code",
   "execution_count": 5,
   "id": "2f06235f",
   "metadata": {},
   "outputs": [],
   "source": [
    "df = pd.read_pickle(os.path.join(path,'Prepared Data','df_merge.pkl'))"
   ]
  },
  {
   "cell_type": "code",
   "execution_count": 6,
   "id": "7f2c1831",
   "metadata": {},
   "outputs": [
    {
     "data": {
      "text/plain": [
       "Index(['order_id', 'product_id', 'add_to_cart_order', 'reordered', 'user_id',\n",
       "       'order_number', 'orders_day_of_week', 'order_hour_of_day',\n",
       "       'days_since_prior_order', 'product_name', 'aisle_id', 'department_id',\n",
       "       'prices', 'Gender', 'STATE', 'Age', 'date_joined', 'n_dependants',\n",
       "       'fam_status', 'income'],\n",
       "      dtype='object')"
      ]
     },
     "execution_count": 6,
     "metadata": {},
     "output_type": "execute_result"
    }
   ],
   "source": [
    "df.columns"
   ]
  },
  {
   "cell_type": "code",
   "execution_count": 7,
   "id": "0b2923c9",
   "metadata": {
    "scrolled": true
   },
   "outputs": [
    {
     "data": {
      "text/plain": [
       "order_id                    int64\n",
       "product_id                  int64\n",
       "add_to_cart_order           int64\n",
       "reordered                   int64\n",
       "user_id                     int64\n",
       "order_number                int64\n",
       "orders_day_of_week          int64\n",
       "order_hour_of_day           int64\n",
       "days_since_prior_order    float64\n",
       "product_name               object\n",
       "aisle_id                    int64\n",
       "department_id              object\n",
       "prices                    float64\n",
       "Gender                     object\n",
       "STATE                      object\n",
       "Age                         int64\n",
       "date_joined                object\n",
       "n_dependants                int64\n",
       "fam_status                 object\n",
       "income                      int64\n",
       "dtype: object"
      ]
     },
     "execution_count": 7,
     "metadata": {},
     "output_type": "execute_result"
    }
   ],
   "source": [
    "df.dtypes"
   ]
  },
  {
   "cell_type": "markdown",
   "id": "1649b1c9",
   "metadata": {},
   "source": [
    "## Creating a price range for products"
   ]
  },
  {
   "cell_type": "code",
   "execution_count": 8,
   "id": "1d7eb172",
   "metadata": {},
   "outputs": [],
   "source": [
    "df.loc[df['prices'] > 15, 'price_range_loc'] = 'High-range product'\n",
    "\n",
    "df.loc[(df['prices'] <= 15) & (df['prices'] > 5), 'price_range_loc'] = 'Mid-range product' \n",
    "\n",
    "df.loc[df['prices'] <= 5, 'price_range_loc'] = 'Low-range product'"
   ]
  },
  {
   "cell_type": "code",
   "execution_count": 9,
   "id": "3835ad0d",
   "metadata": {
    "scrolled": false
   },
   "outputs": [
    {
     "data": {
      "text/plain": [
       "Mid-range product     21200792\n",
       "Low-range product      9818904\n",
       "High-range product      402037\n",
       "Name: price_range_loc, dtype: int64"
      ]
     },
     "execution_count": 9,
     "metadata": {},
     "output_type": "execute_result"
    }
   ],
   "source": [
    "df['price_range_loc'].value_counts(dropna=False)"
   ]
  },
  {
   "cell_type": "markdown",
   "id": "617be48e",
   "metadata": {},
   "source": [
    "## Creating new ordinal variable based on which are the busiest days of the week"
   ]
  },
  {
   "cell_type": "code",
   "execution_count": 10,
   "id": "84b8009f",
   "metadata": {
    "scrolled": false
   },
   "outputs": [
    {
     "data": {
      "text/plain": [
       "0    6057030\n",
       "1    5485462\n",
       "6    4382352\n",
       "2    4075956\n",
       "5    4063144\n",
       "3    3707681\n",
       "4    3650108\n",
       "Name: orders_day_of_week, dtype: int64"
      ]
     },
     "execution_count": 10,
     "metadata": {},
     "output_type": "execute_result"
    }
   ],
   "source": [
    "df['orders_day_of_week'].value_counts()"
   ]
  },
  {
   "cell_type": "code",
   "execution_count": 50,
   "id": "3a55c434",
   "metadata": {},
   "outputs": [],
   "source": [
    "df.loc[df['orders_day_of_week']==0,'orders_day_of_week_name']= 'Saturday'\n",
    "df.loc[df['orders_day_of_week']==1,'orders_day_of_week_name']= 'Sunday'\n",
    "df.loc[df['orders_day_of_week']==2,'orders_day_of_week_name']= 'Monday'\n",
    "df.loc[df['orders_day_of_week']==3,'orders_day_of_week_name']= 'Thuesday'\n",
    "df.loc[df['orders_day_of_week']==4,'orders_day_of_week_name']= 'Wednesday'\n",
    "df.loc[df['orders_day_of_week']==5,'orders_day_of_week_name']= 'Thursday'\n",
    "df.loc[df['orders_day_of_week']==6,'orders_day_of_week_name']= 'Friday'"
   ]
  },
  {
   "cell_type": "code",
   "execution_count": 11,
   "id": "61679093",
   "metadata": {},
   "outputs": [],
   "source": [
    "result = []\n",
    "for value in df ['orders_day_of_week']:\n",
    "    if value == 0:\n",
    "        result.append (\"busiest days\")\n",
    "    elif value == 1:\n",
    "        result.append ('busiest days')\n",
    "    elif value == 3:\n",
    "        result.append ('least busy')\n",
    "    elif value == 4:\n",
    "        result.append ('least busy')\n",
    "    else:\n",
    "        result.append ('regular day')\n"
   ]
  },
  {
   "cell_type": "code",
   "execution_count": 12,
   "id": "1b8d4f4a",
   "metadata": {},
   "outputs": [],
   "source": [
    "df['busy_days'] = result"
   ]
  },
  {
   "cell_type": "code",
   "execution_count": 13,
   "id": "e3891ef3",
   "metadata": {
    "scrolled": false
   },
   "outputs": [
    {
     "data": {
      "text/plain": [
       "regular day     12521452\n",
       "busiest days    11542492\n",
       "least busy       7357789\n",
       "Name: busy_days, dtype: int64"
      ]
     },
     "execution_count": 13,
     "metadata": {},
     "output_type": "execute_result"
    }
   ],
   "source": [
    "df['busy_days'].value_counts(dropna=False)"
   ]
  },
  {
   "cell_type": "markdown",
   "id": "4fbef9ad",
   "metadata": {},
   "source": [
    "## Creating similar ordinal variable based on on what time of the day people order the most goods"
   ]
  },
  {
   "cell_type": "code",
   "execution_count": 14,
   "id": "661a9a70",
   "metadata": {},
   "outputs": [
    {
     "data": {
      "text/plain": [
       "10    2670814\n",
       "11    2650910\n",
       "14    2611808\n",
       "15    2584984\n",
       "13    2581818\n",
       "12    2541829\n",
       "16    2464983\n",
       "9     2369163\n",
       "17    2031026\n",
       "8     1656048\n",
       "18    1593495\n",
       "19    1225863\n",
       "20     948404\n",
       "7      855144\n",
       "21     772816\n",
       "22     616296\n",
       "23     390424\n",
       "6      278412\n",
       "0      213404\n",
       "1      112329\n",
       "5       84364\n",
       "2       66996\n",
       "4       51041\n",
       "3       49362\n",
       "Name: order_hour_of_day, dtype: int64"
      ]
     },
     "execution_count": 14,
     "metadata": {},
     "output_type": "execute_result"
    }
   ],
   "source": [
    "df['order_hour_of_day'].value_counts()"
   ]
  },
  {
   "cell_type": "code",
   "execution_count": 15,
   "id": "13750dbd",
   "metadata": {},
   "outputs": [],
   "source": [
    "new_results = []\n",
    "\n",
    "for value in df[\"order_hour_of_day\"]:\n",
    "    if value >= 9:\n",
    "        new_results.append ('Most orders')\n",
    "    elif value <=6:\n",
    "        new_results.append ('Fewest orders')\n",
    "    else:\n",
    "        new_results.append ('Average orders')"
   ]
  },
  {
   "cell_type": "code",
   "execution_count": 16,
   "id": "869ce4c3",
   "metadata": {},
   "outputs": [],
   "source": [
    "df['busy_hours']=new_results"
   ]
  },
  {
   "cell_type": "code",
   "execution_count": 17,
   "id": "004e36b5",
   "metadata": {
    "scrolled": true
   },
   "outputs": [
    {
     "data": {
      "text/plain": [
       "Most orders       28054633\n",
       "Average orders     2511192\n",
       "Fewest orders       855908\n",
       "Name: busy_hours, dtype: int64"
      ]
     },
     "execution_count": 17,
     "metadata": {},
     "output_type": "execute_result"
    }
   ],
   "source": [
    "df['busy_hours'].value_counts()"
   ]
  },
  {
   "cell_type": "markdown",
   "id": "e4bf0137",
   "metadata": {},
   "source": [
    "## Creating a loyalty flag to identify loyal customers based on there max orders"
   ]
  },
  {
   "cell_type": "code",
   "execution_count": 18,
   "id": "ffd2d639",
   "metadata": {},
   "outputs": [],
   "source": [
    "df['max_order'] = df.groupby(['user_id'])['order_number'].transform(np.max)"
   ]
  },
  {
   "cell_type": "code",
   "execution_count": 19,
   "id": "764a7030",
   "metadata": {},
   "outputs": [],
   "source": [
    "df.loc[df ['max_order'] > 40, 'loyalty_flag'] = 'Loyal customer'\n",
    "\n",
    "df.loc[(df ['max_order'] <= 40) & (df['max_order'] > 10), 'loyalty_flag'] = 'Regular customer'\n",
    "\n",
    "df.loc[df['max_order'] <= 10, 'loyalty_flag'] = 'New customer'"
   ]
  },
  {
   "cell_type": "code",
   "execution_count": 20,
   "id": "780de5b1",
   "metadata": {
    "scrolled": true
   },
   "outputs": [
    {
     "data": {
      "text/plain": [
       "Regular customer    15711533\n",
       "Loyal customer       9508203\n",
       "New customer         6201997\n",
       "Name: loyalty_flag, dtype: int64"
      ]
     },
     "execution_count": 20,
     "metadata": {},
     "output_type": "execute_result"
    }
   ],
   "source": [
    "df['loyalty_flag'].value_counts(dropna=False)"
   ]
  },
  {
   "cell_type": "markdown",
   "id": "b195a89a",
   "metadata": {},
   "source": [
    "## Creating a spending_flag based on average price the customers pay"
   ]
  },
  {
   "cell_type": "code",
   "execution_count": 21,
   "id": "c2b86345",
   "metadata": {},
   "outputs": [],
   "source": [
    "df['aver_price'] = df.groupby(['user_id'])['prices'].transform(np.mean)"
   ]
  },
  {
   "cell_type": "code",
   "execution_count": 22,
   "id": "b89afb06",
   "metadata": {},
   "outputs": [],
   "source": [
    "df.loc[df['aver_price']< 10, 'spending_flag'] = 'low spender'"
   ]
  },
  {
   "cell_type": "code",
   "execution_count": 23,
   "id": "d7c810d5",
   "metadata": {},
   "outputs": [],
   "source": [
    "df.loc[df['aver_price']>= 10, 'spending_flag'] = 'high spender'"
   ]
  },
  {
   "cell_type": "code",
   "execution_count": 24,
   "id": "4aa724d0",
   "metadata": {
    "scrolled": false
   },
   "outputs": [
    {
     "data": {
      "text/plain": [
       "low spender     31303292\n",
       "high spender      118441\n",
       "Name: spending_flag, dtype: int64"
      ]
     },
     "execution_count": 24,
     "metadata": {},
     "output_type": "execute_result"
    }
   ],
   "source": [
    "df['spending_flag'].value_counts()"
   ]
  },
  {
   "cell_type": "markdown",
   "id": "105cbd11",
   "metadata": {},
   "source": [
    "## Creating frequency based on how often (median) customers order per month"
   ]
  },
  {
   "cell_type": "code",
   "execution_count": 25,
   "id": "0943c25b",
   "metadata": {
    "scrolled": true
   },
   "outputs": [
    {
     "data": {
      "text/plain": [
       "7.0     3411696\n",
       "30.0    3037184\n",
       "6.0     2454932\n",
       "NaN     2059130\n",
       "5.0     2041768\n",
       "4.0     1961343\n",
       "8.0     1897260\n",
       "3.0     1734487\n",
       "2.0     1322568\n",
       "9.0     1197306\n",
       "14.0    1016780\n",
       "10.0     949376\n",
       "13.0     839052\n",
       "1.0      836534\n",
       "11.0     806707\n",
       "12.0     762112\n",
       "15.0     662984\n",
       "16.0     455030\n",
       "21.0     439303\n",
       "0.0      406863\n",
       "17.0     377587\n",
       "20.0     375138\n",
       "18.0     346247\n",
       "19.0     330190\n",
       "22.0     305245\n",
       "28.0     250857\n",
       "23.0     223246\n",
       "27.0     202130\n",
       "24.0     191464\n",
       "25.0     178109\n",
       "26.0     175418\n",
       "29.0     173687\n",
       "Name: days_since_prior_order, dtype: int64"
      ]
     },
     "execution_count": 25,
     "metadata": {},
     "output_type": "execute_result"
    }
   ],
   "source": [
    "df['days_since_prior_order'].value_counts(dropna=False)"
   ]
  },
  {
   "cell_type": "code",
   "execution_count": 26,
   "id": "0f228613",
   "metadata": {},
   "outputs": [],
   "source": [
    "df['days_since_prior_order'] = df['days_since_prior_order'].fillna(0)"
   ]
  },
  {
   "cell_type": "code",
   "execution_count": 27,
   "id": "dcfc38aa",
   "metadata": {},
   "outputs": [],
   "source": [
    "df['median_prior_order'] = df.groupby(['user_id'])['days_since_prior_order'].transform(np.median)"
   ]
  },
  {
   "cell_type": "code",
   "execution_count": 28,
   "id": "fbd47fa8",
   "metadata": {},
   "outputs": [],
   "source": [
    "df.loc[df['median_prior_order'] > 20, 'freq_customer'] = 'Non-frequent customer'"
   ]
  },
  {
   "cell_type": "code",
   "execution_count": 29,
   "id": "b2768b64",
   "metadata": {},
   "outputs": [],
   "source": [
    "df.loc[(df['median_prior_order'] > 10) & (df['median_prior_order'] <= 20) , 'freq_customer'] = 'Regular customer'"
   ]
  },
  {
   "cell_type": "code",
   "execution_count": 30,
   "id": "267167b9",
   "metadata": {},
   "outputs": [],
   "source": [
    "df.loc[df['median_prior_order'] <= 10, 'freq_customer'] = 'Frequent customer'"
   ]
  },
  {
   "cell_type": "code",
   "execution_count": 31,
   "id": "ec0d38c8",
   "metadata": {},
   "outputs": [],
   "source": [
    "df.loc[df['median_prior_order'] == 0, 'freq_customer'] = 'New customer'"
   ]
  },
  {
   "cell_type": "code",
   "execution_count": 32,
   "id": "8ac24d31",
   "metadata": {},
   "outputs": [
    {
     "data": {
      "text/plain": [
       "Frequent customer        21802320\n",
       "Regular customer          6842732\n",
       "Non-frequent customer     2660575\n",
       "New customer               116106\n",
       "Name: freq_customer, dtype: int64"
      ]
     },
     "execution_count": 32,
     "metadata": {},
     "output_type": "execute_result"
    }
   ],
   "source": [
    "df['freq_customer'].value_counts(dropna = False)"
   ]
  },
  {
   "cell_type": "markdown",
   "id": "027b2d98",
   "metadata": {},
   "source": [
    "## Clustering customers based on age into generations (z,x,y,...)"
   ]
  },
  {
   "cell_type": "code",
   "execution_count": 33,
   "id": "ae0d88df",
   "metadata": {},
   "outputs": [],
   "source": [
    "generation = []\n",
    "\n",
    "for value in df['Age']:\n",
    "    if (value >=18) and (value <=25):\n",
    "        generation.append('Gen Z (18-25)')\n",
    "    elif (value >=26) and (value <=41):\n",
    "        generation.append('Millennials (26-41)')\n",
    "    elif (value >=42) and (value <=57):\n",
    "        generation.append('Gen X (42-57)')\n",
    "    elif (value >=58) and (value<=76):\n",
    "        generation.append('Baby Boomers (58-76)')\n",
    "    else:\n",
    "        generation.append('Silent Generation (>76)')"
   ]
  },
  {
   "cell_type": "code",
   "execution_count": 34,
   "id": "c7cc788c",
   "metadata": {},
   "outputs": [],
   "source": [
    "df['generation']=generation"
   ]
  },
  {
   "cell_type": "code",
   "execution_count": 35,
   "id": "a9d41479",
   "metadata": {},
   "outputs": [
    {
     "data": {
      "text/plain": [
       "Baby Boomers (58-76)       9223655\n",
       "Gen X (42-57)              7922526\n",
       "Millennials (26-41)        7874357\n",
       "Gen Z (18-25)              3935340\n",
       "Silent Generation (>76)    2465855\n",
       "Name: generation, dtype: int64"
      ]
     },
     "execution_count": 35,
     "metadata": {},
     "output_type": "execute_result"
    }
   ],
   "source": [
    "df['generation'].value_counts(dropna=False)"
   ]
  },
  {
   "cell_type": "markdown",
   "id": "2bc8896b",
   "metadata": {},
   "source": [
    "## Assinging Regions(North,West,...) based on customers states "
   ]
  },
  {
   "cell_type": "code",
   "execution_count": 36,
   "id": "8c27f413",
   "metadata": {},
   "outputs": [],
   "source": [
    "df.rename(columns = {'STATE':'State'}, inplace = True)"
   ]
  },
  {
   "cell_type": "code",
   "execution_count": 37,
   "id": "3aeaa7e4",
   "metadata": {},
   "outputs": [],
   "source": [
    "#Northeast regions\n",
    "df.loc[df['State'].str.contains('Connecticut'), 'Region'] = 'Northeast'\n",
    "df.loc[df['State'].str.contains('Maine'), 'Region'] = 'Northeast'\n",
    "df.loc[df['State'].str.contains('Massachusetts'), 'Region'] = 'Northeast'\n",
    "df.loc[df['State'].str.contains('New Hampshire'), 'Region'] = 'Northeast'\n",
    "df.loc[df['State'].str.contains('Rhode Island'), 'Region'] = 'Northeast'\n",
    "df.loc[df['State'].str.contains('Vermont'), 'Region'] = 'Northeast'\n",
    "df.loc[df['State'].str.contains('New Jersey'), 'Region'] = 'Northeast'\n",
    "df.loc[df['State'].str.contains('New York'), 'Region'] = 'Northeast'\n",
    "df.loc[df['State'].str.contains('Pennsylvania'), 'Region'] = 'Northeast'\n",
    "\n",
    "# Midwest\n",
    "df.loc[df['State'].str.contains('Illinois'), 'Region'] = 'Midwest'\n",
    "df.loc[df['State'].str.contains('Indiana'), 'Region'] = 'Midwest'\n",
    "df.loc[df['State'].str.contains('Michigan'), 'Region'] = 'Midwest'\n",
    "df.loc[df['State'].str.contains('Ohio'), 'Region'] = 'Midwest'\n",
    "df.loc[df['State'].str.contains('Wisconsin'), 'Region'] = 'Midwest'\n",
    "df.loc[df['State'].str.contains('Iowa'), 'Region'] = 'Midwest'\n",
    "df.loc[df['State'].str.contains('Kansas'), 'Region'] = 'Midwest'\n",
    "df.loc[df['State'].str.contains('Minnesota'), 'Region'] = 'Midwest'\n",
    "df.loc[df['State'].str.contains('Missouri'), 'Region'] = 'Midwest'\n",
    "df.loc[df['State'].str.contains('Nebraska'), 'Region'] = 'Midwest'\n",
    "df.loc[df['State'].str.contains('North Dakota'), 'Region'] = 'Midwest'\n",
    "df.loc[df['State'].str.contains('South Dakota'), 'Region'] = 'Midwest'\n",
    "\n",
    "# South\n",
    "df.loc[df['State'].str.contains('Delaware'), 'Region'] = 'South'\n",
    "df.loc[df['State'].str.contains('Florida'), 'Region'] = 'South'\n",
    "df.loc[df['State'].str.contains('Georgia'), 'Region'] = 'South'\n",
    "df.loc[df['State'].str.contains('Maryland'), 'Region'] = 'South'\n",
    "df.loc[df['State'].str.contains('North Carolina'), 'Region'] = 'South'\n",
    "df.loc[df['State'].str.contains('South Carolina'), 'Region'] = 'South'\n",
    "df.loc[df['State'].str.contains('Virginia'), 'Region'] = 'South'\n",
    "df.loc[df['State'].str.contains('Washington, D.C.'), 'Region'] = 'South'\n",
    "df.loc[df['State'].str.contains('West Virgina'), 'Region'] = 'South'\n",
    "df.loc[df['State'].str.contains('Alabama'), 'Region'] = 'South'\n",
    "df.loc[df['State'].str.contains('Kentucky'), 'Region'] = 'South'\n",
    "df.loc[df['State'].str.contains('Mississippi'), 'Region'] = 'South'\n",
    "df.loc[df['State'].str.contains('Tennessee'), 'Region'] = 'South'\n",
    "df.loc[df['State'].str.contains('Arkansas'), 'Region'] = 'South'\n",
    "df.loc[df['State'].str.contains('Louisiana'), 'Region'] = 'South'\n",
    "df.loc[df['State'].str.contains('Oklahoma'), 'Region'] = 'South'\n",
    "df.loc[df['State'].str.contains('Texas'), 'Region'] = 'South'\n",
    "\n",
    "# West\n",
    "df.loc[df['State'].str.contains('Arizona'), 'Region'] = 'West'\n",
    "df.loc[df['State'].str.contains('Colorado'), 'Region'] = 'West'\n",
    "df.loc[df['State'].str.contains('Idaho'), 'Region'] = 'West'\n",
    "df.loc[df['State'].str.contains('Montana'), 'Region'] = 'West'\n",
    "df.loc[df['State'].str.contains('Nevada'), 'Region'] = 'West'\n",
    "df.loc[df['State'].str.contains('New Mexico'), 'Region'] = 'West'\n",
    "df.loc[df['State'].str.contains('Utah'), 'Region'] = 'West'\n",
    "df.loc[df['State'].str.contains('Wyoming'), 'Region'] = 'West'\n",
    "df.loc[df['State'].str.contains('Alaska'), 'Region'] = 'West'\n",
    "df.loc[df['State'].str.contains('California'), 'Region'] = 'West'\n",
    "df.loc[df['State'].str.contains('Hawaii'), 'Region'] = 'West'\n",
    "df.loc[df['State'].str.contains('Oregon'), 'Region'] = 'West'\n",
    "df.loc[df['State'].str.contains('Washington'), 'Region'] = 'West'"
   ]
  },
  {
   "cell_type": "code",
   "execution_count": 38,
   "id": "2fbb0475",
   "metadata": {},
   "outputs": [],
   "source": [
    "df.loc[df['State'].str.contains('District of Columbia'), 'Region'] = 'District of Columbia'"
   ]
  },
  {
   "cell_type": "code",
   "execution_count": 39,
   "id": "afcbd157",
   "metadata": {
    "scrolled": true
   },
   "outputs": [
    {
     "data": {
      "text/plain": [
       "South                   9862247\n",
       "West                    8042373\n",
       "Midwest                 7367917\n",
       "Northeast               5553334\n",
       "District of Columbia     595862\n",
       "Name: Region, dtype: int64"
      ]
     },
     "execution_count": 39,
     "metadata": {},
     "output_type": "execute_result"
    }
   ],
   "source": [
    "df['Region'].value_counts(dropna=False)"
   ]
  },
  {
   "cell_type": "markdown",
   "id": "9e7d80d6",
   "metadata": {},
   "source": [
    "## Create an exclusion flag for low-activity customers (customers with less than 5 orders) and exclude them from the data"
   ]
  },
  {
   "cell_type": "code",
   "execution_count": 40,
   "id": "8b596faf",
   "metadata": {},
   "outputs": [],
   "source": [
    "df.loc[df['order_number']<5, 'activity'] = 'low activity'\n",
    "df.loc[df['order_number']>= 5, 'activity'] = 'high activity'"
   ]
  },
  {
   "cell_type": "code",
   "execution_count": 41,
   "id": "b0bf0a94",
   "metadata": {},
   "outputs": [
    {
     "data": {
      "text/plain": [
       "high activity    23497108\n",
       "low activity      7924625\n",
       "Name: activity, dtype: int64"
      ]
     },
     "execution_count": 41,
     "metadata": {},
     "output_type": "execute_result"
    }
   ],
   "source": [
    "df['activity'].value_counts(dropna=False)"
   ]
  },
  {
   "cell_type": "markdown",
   "id": "a819b8f5",
   "metadata": {},
   "source": [
    "## Creating a name for the departments"
   ]
  },
  {
   "cell_type": "markdown",
   "id": "0bcc9290",
   "metadata": {},
   "source": [
    "{'1': {'department': 'frozen'},\n",
    " '2': {'department': 'other'},\n",
    " '3': {'department': 'bakery'},\n",
    " '4': {'department': 'produce'},\n",
    " '5': {'department': 'alcohol'},\n",
    " '6': {'department': 'international'},\n",
    " '7': {'department': 'beverages'},\n",
    " '8': {'department': 'pets'},\n",
    " '9': {'department': 'dry goods pasta'},\n",
    " '10': {'department': 'bulk'},\n",
    " '11': {'department': 'personal care'},\n",
    " '12': {'department': 'meat seafood'},\n",
    " '13': {'department': 'pantry'},\n",
    " '14': {'department': 'breakfast'},\n",
    " '15': {'department': 'canned goods'},\n",
    " '16': {'department': 'dairy eggs'},\n",
    " '17': {'department': 'household'},\n",
    " '18': {'department': 'babies'},\n",
    " '19': {'department': 'snacks'},\n",
    " '20': {'department': 'deli'},\n",
    " '21': {'department': 'missing'"
   ]
  },
  {
   "cell_type": "code",
   "execution_count": 42,
   "id": "bb5b1033",
   "metadata": {},
   "outputs": [],
   "source": [
    "df['department_id']=df['department_id'].astype(int)"
   ]
  },
  {
   "cell_type": "code",
   "execution_count": 43,
   "id": "284adda0",
   "metadata": {},
   "outputs": [],
   "source": [
    "df.loc[df['department_id']==1,'department_name'] ='frozen'\n",
    "df.loc[df['department_id']==2,'department_name'] ='other'\n",
    "df.loc[df['department_id']==3,'department_name'] ='bakery'\n",
    "df.loc[df['department_id']==4,'department_name'] ='produce'\n",
    "df.loc[df['department_id']==5,'department_name'] ='alcohol'\n",
    "df.loc[df['department_id']==6,'department_name'] ='international'\n",
    "df.loc[df['department_id']==7,'department_name'] ='beverages(non alc.)'\n",
    "df.loc[df['department_id']==8,'department_name'] ='pets'\n",
    "df.loc[df['department_id']==9,'department_name'] ='dry goods pasta'\n",
    "df.loc[df['department_id']==10,'department_name'] ='bulk'\n",
    "df.loc[df['department_id']==11,'department_name'] ='personal care'\n",
    "df.loc[df['department_id']==12,'department_name'] ='meat seafool'\n",
    "df.loc[df['department_id']==13,'department_name'] ='pantry'\n",
    "df.loc[df['department_id']==14,'department_name'] ='breakfast'\n",
    "df.loc[df['department_id']==15,'department_name'] ='canned goods'\n",
    "df.loc[df['department_id']==16,'department_name'] ='dairy eggs'\n",
    "df.loc[df['department_id']==17,'department_name'] ='household'\n",
    "df.loc[df['department_id']==18,'department_name'] ='babies'\n",
    "df.loc[df['department_id']==19,'department_name'] ='snacks'\n",
    "df.loc[df['department_id']==20,'department_name'] ='deli'\n",
    "df.loc[df['department_id']==21,'department_name'] ='missing'"
   ]
  },
  {
   "cell_type": "code",
   "execution_count": 44,
   "id": "1713ecf7",
   "metadata": {
    "scrolled": true
   },
   "outputs": [
    {
     "data": {
      "text/plain": [
       "produce                9200265\n",
       "dairy eggs             5230967\n",
       "snacks                 2797901\n",
       "beverages(non alc.)    2602821\n",
       "frozen                 2175695\n",
       "pantry                 1814462\n",
       "bakery                 1134470\n",
       "canned goods           1037416\n",
       "deli                   1022632\n",
       "dry goods pasta         842353\n",
       "household               712841\n",
       "meat seafool            690537\n",
       "breakfast               681962\n",
       "personal care           433733\n",
       "babies                  409382\n",
       "international           260673\n",
       "alcohol                 145239\n",
       "pets                     94400\n",
       "missing                  65615\n",
       "other                    34908\n",
       "bulk                     33461\n",
       "Name: department_name, dtype: int64"
      ]
     },
     "execution_count": 44,
     "metadata": {},
     "output_type": "execute_result"
    }
   ],
   "source": [
    "df['department_name'].value_counts(dropna=False)"
   ]
  },
  {
   "cell_type": "markdown",
   "id": "089e34c1",
   "metadata": {},
   "source": [
    "## Creating household type based on number of dependents"
   ]
  },
  {
   "cell_type": "code",
   "execution_count": 45,
   "id": "c46a6c6c",
   "metadata": {},
   "outputs": [
    {
     "data": {
      "text/plain": [
       "3    7889970\n",
       "1    7844525\n",
       "2    7843719\n",
       "0    7843519\n",
       "Name: n_dependants, dtype: int64"
      ]
     },
     "execution_count": 45,
     "metadata": {},
     "output_type": "execute_result"
    }
   ],
   "source": [
    "df['n_dependants'].value_counts()"
   ]
  },
  {
   "cell_type": "code",
   "execution_count": 46,
   "id": "64adf17f",
   "metadata": {},
   "outputs": [],
   "source": [
    "df.loc[df['n_dependants']==0, 'household_type']='single'\n",
    "df.loc[df['n_dependants']==1, 'household_type']='couple'\n",
    "df.loc[df['n_dependants']>=2, 'household_type']='family'"
   ]
  },
  {
   "cell_type": "code",
   "execution_count": 47,
   "id": "f8d07d58",
   "metadata": {},
   "outputs": [
    {
     "data": {
      "text/plain": [
       "family    15733689\n",
       "couple     7844525\n",
       "single     7843519\n",
       "Name: household_type, dtype: int64"
      ]
     },
     "execution_count": 47,
     "metadata": {},
     "output_type": "execute_result"
    }
   ],
   "source": [
    "df['household_type'].value_counts(dropna=False)"
   ]
  },
  {
   "cell_type": "code",
   "execution_count": 48,
   "id": "5e2af392",
   "metadata": {},
   "outputs": [
    {
     "data": {
      "text/plain": [
       "(31421733, 34)"
      ]
     },
     "execution_count": 48,
     "metadata": {},
     "output_type": "execute_result"
    }
   ],
   "source": [
    "df.shape"
   ]
  },
  {
   "cell_type": "code",
   "execution_count": 51,
   "id": "463a2f37",
   "metadata": {},
   "outputs": [],
   "source": [
    "df.to_pickle(r'/Users/pgtips/Desktop/Instacart Basket Analysis/05 Sent to Clint/Prepared Data/df.pkl')"
   ]
  },
  {
   "cell_type": "code",
   "execution_count": null,
   "id": "ef39dd0d",
   "metadata": {},
   "outputs": [],
   "source": []
  },
  {
   "cell_type": "code",
   "execution_count": null,
   "id": "0d5860ea",
   "metadata": {},
   "outputs": [],
   "source": []
  },
  {
   "cell_type": "code",
   "execution_count": null,
   "id": "6dcc6b8d",
   "metadata": {},
   "outputs": [],
   "source": []
  }
 ],
 "metadata": {
  "kernelspec": {
   "display_name": "Python 3 (ipykernel)",
   "language": "python",
   "name": "python3"
  },
  "language_info": {
   "codemirror_mode": {
    "name": "ipython",
    "version": 3
   },
   "file_extension": ".py",
   "mimetype": "text/x-python",
   "name": "python",
   "nbconvert_exporter": "python",
   "pygments_lexer": "ipython3",
   "version": "3.9.7"
  }
 },
 "nbformat": 4,
 "nbformat_minor": 5
}
