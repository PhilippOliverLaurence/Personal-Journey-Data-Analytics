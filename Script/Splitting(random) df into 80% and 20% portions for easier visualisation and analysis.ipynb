{
 "cells": [
  {
   "cell_type": "code",
   "execution_count": 1,
   "id": "07684d03",
   "metadata": {},
   "outputs": [],
   "source": [
    "import pandas as pd\n",
    "import numpy as np"
   ]
  },
  {
   "cell_type": "code",
   "execution_count": 2,
   "id": "e1871962",
   "metadata": {},
   "outputs": [],
   "source": [
    "df = pd.read_pickle(r'/Users/pgtips/Desktop/Instacart Basket Analysis/05 Sent to Clint/Prepared Data/df.pkl')"
   ]
  },
  {
   "cell_type": "code",
   "execution_count": 4,
   "id": "dfe4d383",
   "metadata": {},
   "outputs": [
    {
     "data": {
      "text/plain": [
       "high activity    23497108\n",
       "low activity      7924625\n",
       "Name: activity, dtype: int64"
      ]
     },
     "execution_count": 4,
     "metadata": {},
     "output_type": "execute_result"
    }
   ],
   "source": [
    "df['activity'].value_counts()"
   ]
  },
  {
   "cell_type": "code",
   "execution_count": null,
   "id": "c03dd3f6",
   "metadata": {},
   "outputs": [],
   "source": []
  },
  {
   "cell_type": "code",
   "execution_count": 3,
   "id": "d8c31cec",
   "metadata": {},
   "outputs": [],
   "source": [
    "np.random.seed(4)\n",
    "dev = np.random.rand(len(df)) <= 0.8"
   ]
  },
  {
   "cell_type": "code",
   "execution_count": 4,
   "id": "fad8eb5e",
   "metadata": {},
   "outputs": [],
   "source": [
    "#Store 80% of df in big\n",
    "df_big = df[dev]"
   ]
  },
  {
   "cell_type": "code",
   "execution_count": 5,
   "id": "72ed3d0b",
   "metadata": {},
   "outputs": [],
   "source": [
    "#Store 20% of df in small\n",
    "df_small = df[~dev]"
   ]
  },
  {
   "cell_type": "code",
   "execution_count": 8,
   "id": "a568fafa",
   "metadata": {},
   "outputs": [],
   "source": [
    "df_big.to_pickle(r'/Users/pgtips/Desktop/Instacart Basket Analysis/05 Sent to Clint/Prepared Data/df_big.pkl')"
   ]
  },
  {
   "cell_type": "code",
   "execution_count": 9,
   "id": "81f0306f",
   "metadata": {},
   "outputs": [],
   "source": [
    "df_small.to_pickle(r'/Users/pgtips/Desktop/Instacart Basket Analysis/05 Sent to Clint/Prepared Data/df_small.pkl')"
   ]
  },
  {
   "cell_type": "code",
   "execution_count": null,
   "id": "020a5956",
   "metadata": {},
   "outputs": [],
   "source": []
  }
 ],
 "metadata": {
  "kernelspec": {
   "display_name": "Python 3 (ipykernel)",
   "language": "python",
   "name": "python3"
  },
  "language_info": {
   "codemirror_mode": {
    "name": "ipython",
    "version": 3
   },
   "file_extension": ".py",
   "mimetype": "text/x-python",
   "name": "python",
   "nbconvert_exporter": "python",
   "pygments_lexer": "ipython3",
   "version": "3.9.7"
  }
 },
 "nbformat": 4,
 "nbformat_minor": 5
}
